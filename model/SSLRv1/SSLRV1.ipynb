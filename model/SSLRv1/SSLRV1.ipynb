{
  "cells": [
    {
      "cell_type": "code",
      "execution_count": 29,
      "metadata": {
        "id": "-SBjlPLTu9gU"
      },
      "outputs": [
        {
          "name": "stdout",
          "output_type": "stream",
          "text": [
            "Requirement already satisfied: wandb in d:\\7qrea\\anaconda3\\lib\\site-packages (0.15.11)\n",
            "Requirement already satisfied: Click!=8.0.0,>=7.1 in d:\\7qrea\\anaconda3\\lib\\site-packages (from wandb) (8.0.4)\n",
            "Requirement already satisfied: GitPython!=3.1.29,>=1.0.0 in d:\\7qrea\\anaconda3\\lib\\site-packages (from wandb) (3.1.36)\n",
            "Requirement already satisfied: requests<3,>=2.0.0 in d:\\7qrea\\anaconda3\\lib\\site-packages (from wandb) (2.31.0)\n",
            "Requirement already satisfied: psutil>=5.0.0 in d:\\7qrea\\anaconda3\\lib\\site-packages (from wandb) (5.9.0)\n",
            "Requirement already satisfied: sentry-sdk>=1.0.0 in d:\\7qrea\\anaconda3\\lib\\site-packages (from wandb) (1.31.0)\n",
            "Requirement already satisfied: docker-pycreds>=0.4.0 in d:\\7qrea\\anaconda3\\lib\\site-packages (from wandb) (0.4.0)\n",
            "Requirement already satisfied: PyYAML in d:\\7qrea\\anaconda3\\lib\\site-packages (from wandb) (6.0)\n",
            "Requirement already satisfied: pathtools in d:\\7qrea\\anaconda3\\lib\\site-packages (from wandb) (0.1.2)\n",
            "Requirement already satisfied: setproctitle in d:\\7qrea\\anaconda3\\lib\\site-packages (from wandb) (1.3.2)\n",
            "Requirement already satisfied: setuptools in d:\\7qrea\\anaconda3\\lib\\site-packages (from wandb) (68.2.2)\n",
            "Requirement already satisfied: appdirs>=1.4.3 in d:\\7qrea\\anaconda3\\lib\\site-packages (from wandb) (1.4.4)\n",
            "Requirement already satisfied: protobuf!=4.21.0,<5,>=3.19.0 in d:\\7qrea\\anaconda3\\lib\\site-packages (from wandb) (3.20.3)\n",
            "Requirement already satisfied: colorama in d:\\7qrea\\anaconda3\\lib\\site-packages (from Click!=8.0.0,>=7.1->wandb) (0.4.6)\n",
            "Requirement already satisfied: six>=1.4.0 in d:\\7qrea\\anaconda3\\lib\\site-packages (from docker-pycreds>=0.4.0->wandb) (1.16.0)\n",
            "Requirement already satisfied: gitdb<5,>=4.0.1 in d:\\7qrea\\anaconda3\\lib\\site-packages (from GitPython!=3.1.29,>=1.0.0->wandb) (4.0.10)\n",
            "Requirement already satisfied: charset-normalizer<4,>=2 in d:\\7qrea\\anaconda3\\lib\\site-packages (from requests<3,>=2.0.0->wandb) (2.0.4)\n",
            "Requirement already satisfied: idna<4,>=2.5 in d:\\7qrea\\anaconda3\\lib\\site-packages (from requests<3,>=2.0.0->wandb) (3.4)\n",
            "Requirement already satisfied: urllib3<3,>=1.21.1 in d:\\7qrea\\anaconda3\\lib\\site-packages (from requests<3,>=2.0.0->wandb) (1.26.16)\n",
            "Requirement already satisfied: certifi>=2017.4.17 in d:\\7qrea\\anaconda3\\lib\\site-packages (from requests<3,>=2.0.0->wandb) (2023.7.22)\n",
            "Requirement already satisfied: smmap<6,>=3.0.1 in d:\\7qrea\\anaconda3\\lib\\site-packages (from gitdb<5,>=4.0.1->GitPython!=3.1.29,>=1.0.0->wandb) (5.0.1)\n"
          ]
        }
      ],
      "source": [
        "%%capture\n",
        "!pip install wandb"
      ]
    },
    {
      "cell_type": "code",
      "execution_count": 8,
      "metadata": {
        "id": "7ozoL-wDdHSP"
      },
      "outputs": [],
      "source": [
        "import os\n",
        "import cv2\n",
        "import pickle\n",
        "import pandas as pd\n",
        "import numpy as np\n",
        "from tqdm import tqdm\n",
        "import matplotlib.pyplot as plt\n",
        "import tensorflow as tf\n",
        "from tensorflow import keras\n",
        "from tensorflow.keras import layers\n",
        "import tensorflow.keras.callbacks\n",
        "from sklearn.model_selection import train_test_split\n",
        "from sklearn.metrics import confusion_matrix, ConfusionMatrixDisplay\n"
      ]
    },
    {
      "cell_type": "code",
      "execution_count": 9,
      "metadata": {
        "id": "hPR_0dzxdIDJ"
      },
      "outputs": [],
      "source": [
        "IMG_SIZE = 224\n",
        "BATCH_SIZE = 64\n",
        "EPOCHS = 100\n",
        "\n",
        "MAX_SEQ_LENGTH = 70\n",
        "NUM_FEATURES = 512"
      ]
    },
    {
      "cell_type": "markdown",
      "metadata": {
        "id": "-TpXkZbetJz2"
      },
      "source": [
        "### DataPreprocessing"
      ]
    },
    {
      "cell_type": "code",
      "execution_count": 3,
      "metadata": {
        "id": "e_N4ty-RdI5e"
      },
      "outputs": [],
      "source": [
        "label_path = '/content/drive/MyDrive/database(word) (1).csv'\n",
        "#video path\n",
        "path2data = '/content/drive/MyDrive/Rtrain/sorted_videos/0'\n",
        "#validation\n",
        "vlabel_path = '/content/drive/MyDrive/validation_data(clean).csv'"
      ]
    },
    {
      "cell_type": "code",
      "execution_count": null,
      "metadata": {
        "colab": {
          "base_uri": "https://localhost:8080/",
          "height": 423
        },
        "id": "9H8FYNEIdOq3",
        "outputId": "d0f0fc4a-2620-42ff-a9c9-5ab831d1c3d5"
      },
      "outputs": [],
      "source": [
        "label_df = pd.read_csv(label_path)\n",
        "df1 = label_df[label_df['category']==0]\n",
        "df1 = df1.drop(columns = ['category','duration','start','end',\t'word_length'])\n",
        "\n",
        "values_to_remove = ['편두통','뻔뻔2']\n",
        "\n",
        "df1 = df1[~df1['word'].isin(values_to_remove)]\n",
        "df1 = df1[df1['filename'].str.contains('_F.mp4')]\n",
        "\n",
        "vlabel_df = pd.read_csv(vlabel_path)\n",
        "\n",
        "df2 = vlabel_df[vlabel_df['category']==0]\n",
        "df2 = df2.drop(columns = ['category','duration','start','end','data_type','frame','label'])\n",
        "df2 = df2[df2['filename'].str.contains('_F')]\n",
        "df2['filename'] = df2['filename'] + '.mp4'\n",
        "merged_df = pd.concat([df1, df2], ignore_index=True)\n",
        "merged_df"
      ]
    },
    {
      "cell_type": "markdown",
      "metadata": {},
      "source": [
        "#### 동음이의어 수어 영상 분류하기"
      ]
    },
    {
      "cell_type": "code",
      "execution_count": null,
      "metadata": {},
      "outputs": [],
      "source": [
        "merged_df.loc[merged_df['filename'].str.contains('WORD0057'), 'word'] = '회복(WORD0057)'\n",
        "merged_df.loc[merged_df['filename'].str.contains('WORD0965'), 'word'] = '회복(WORD0965)'\n",
        "merged_df.loc[merged_df['filename'].str.contains('WORD0288'), 'word'] = '체온(WORD0288)'\n",
        "merged_df.loc[merged_df['filename'].str.contains('WORD2573'), 'word'] = '체온(WORD2573)'\n",
        "merged_df.loc[merged_df['filename'].str.contains('WORD1147'), 'word'] = '팔(WORD1147)'\n",
        "merged_df.loc[merged_df['filename'].str.contains('WORD2639'), 'word'] = '팔(WORD2639)'\n",
        "merged_df.loc[merged_df['filename'].str.contains('WORD1569'), 'word'] = '중독(WORD1569)'\n",
        "merged_df.loc[merged_df['filename'].str.contains('WORD2007'), 'word'] = '중독(WORD2007)'\n"
      ]
    },
    {
      "cell_type": "code",
      "execution_count": null,
      "metadata": {
        "colab": {
          "base_uri": "https://localhost:8080/"
        },
        "id": "jygKAVxIdjZE",
        "outputId": "f112b441-89a7-4c70-d858-c7458edd8fde"
      },
      "outputs": [
        {
          "data": {
            "text/plain": [
              "회복     38\n",
              "체온     37\n",
              "팔      37\n",
              "중독     35\n",
              "약학     19\n",
              "       ..\n",
              "무통     18\n",
              "구급차    18\n",
              "병원     17\n",
              "식도염    17\n",
              "발가락    17\n",
              "Name: word, Length: 71, dtype: int64"
            ]
          },
          "execution_count": 6,
          "metadata": {},
          "output_type": "execute_result"
        }
      ],
      "source": [
        "merged_df['word'].value_counts()"
      ]
    },
    {
      "cell_type": "code",
      "execution_count": null,
      "metadata": {},
      "outputs": [],
      "source": [
        "merged_df.to_csv('data\\Total_df',index = False)"
      ]
    },
    {
      "cell_type": "code",
      "execution_count": 10,
      "metadata": {
        "colab": {
          "base_uri": "https://localhost:8080/",
          "height": 423
        },
        "id": "DX8ASftFVWLP",
        "outputId": "be598cdf-cc4b-44cf-e2d2-36a2eaed034a"
      },
      "outputs": [
        {
          "data": {
            "text/html": [
              "<div>\n",
              "<style scoped>\n",
              "    .dataframe tbody tr th:only-of-type {\n",
              "        vertical-align: middle;\n",
              "    }\n",
              "\n",
              "    .dataframe tbody tr th {\n",
              "        vertical-align: top;\n",
              "    }\n",
              "\n",
              "    .dataframe thead th {\n",
              "        text-align: right;\n",
              "    }\n",
              "</style>\n",
              "<table border=\"1\" class=\"dataframe\">\n",
              "  <thead>\n",
              "    <tr style=\"text-align: right;\">\n",
              "      <th></th>\n",
              "      <th>filename</th>\n",
              "      <th>word</th>\n",
              "    </tr>\n",
              "  </thead>\n",
              "  <tbody>\n",
              "    <tr>\n",
              "      <th>0</th>\n",
              "      <td>NIA_SL_WORD0008_REAL01_F.mp4</td>\n",
              "      <td>발가락</td>\n",
              "    </tr>\n",
              "    <tr>\n",
              "      <th>1</th>\n",
              "      <td>NIA_SL_WORD0028_REAL01_F.mp4</td>\n",
              "      <td>병문안</td>\n",
              "    </tr>\n",
              "    <tr>\n",
              "      <th>2</th>\n",
              "      <td>NIA_SL_WORD0033_REAL01_F.mp4</td>\n",
              "      <td>당뇨병</td>\n",
              "    </tr>\n",
              "    <tr>\n",
              "      <th>3</th>\n",
              "      <td>NIA_SL_WORD0037_REAL01_F.mp4</td>\n",
              "      <td>감기</td>\n",
              "    </tr>\n",
              "    <tr>\n",
              "      <th>4</th>\n",
              "      <td>NIA_SL_WORD0040_REAL01_F.mp4</td>\n",
              "      <td>병명</td>\n",
              "    </tr>\n",
              "    <tr>\n",
              "      <th>...</th>\n",
              "      <td>...</td>\n",
              "      <td>...</td>\n",
              "    </tr>\n",
              "    <tr>\n",
              "      <th>1387</th>\n",
              "      <td>NIA_SL_WORD2145_REAL18_F.mp4</td>\n",
              "      <td>약효</td>\n",
              "    </tr>\n",
              "    <tr>\n",
              "      <th>1388</th>\n",
              "      <td>NIA_SL_WORD2146_REAL18_F.mp4</td>\n",
              "      <td>여드름</td>\n",
              "    </tr>\n",
              "    <tr>\n",
              "      <th>1389</th>\n",
              "      <td>NIA_SL_WORD2374_REAL18_F.mp4</td>\n",
              "      <td>중독되다</td>\n",
              "    </tr>\n",
              "    <tr>\n",
              "      <th>1390</th>\n",
              "      <td>NIA_SL_WORD2573_REAL18_F.mp4</td>\n",
              "      <td>체온(WORD2573)</td>\n",
              "    </tr>\n",
              "    <tr>\n",
              "      <th>1391</th>\n",
              "      <td>NIA_SL_WORD2639_REAL18_F.mp4</td>\n",
              "      <td>팔(WORD2639)</td>\n",
              "    </tr>\n",
              "  </tbody>\n",
              "</table>\n",
              "<p>1392 rows × 2 columns</p>\n",
              "</div>"
            ],
            "text/plain": [
              "                          filename          word\n",
              "0     NIA_SL_WORD0008_REAL01_F.mp4           발가락\n",
              "1     NIA_SL_WORD0028_REAL01_F.mp4           병문안\n",
              "2     NIA_SL_WORD0033_REAL01_F.mp4           당뇨병\n",
              "3     NIA_SL_WORD0037_REAL01_F.mp4            감기\n",
              "4     NIA_SL_WORD0040_REAL01_F.mp4            병명\n",
              "...                            ...           ...\n",
              "1387  NIA_SL_WORD2145_REAL18_F.mp4            약효\n",
              "1388  NIA_SL_WORD2146_REAL18_F.mp4           여드름\n",
              "1389  NIA_SL_WORD2374_REAL18_F.mp4          중독되다\n",
              "1390  NIA_SL_WORD2573_REAL18_F.mp4  체온(WORD2573)\n",
              "1391  NIA_SL_WORD2639_REAL18_F.mp4   팔(WORD2639)\n",
              "\n",
              "[1392 rows x 2 columns]"
            ]
          },
          "execution_count": 10,
          "metadata": {},
          "output_type": "execute_result"
        }
      ],
      "source": [
        "## 위 데이터셋\n",
        "import pandas as pd\n",
        "\n",
        "data = pd.read_csv('data\\Total_df')\n",
        "data"
      ]
    },
    {
      "cell_type": "code",
      "execution_count": 11,
      "metadata": {},
      "outputs": [
        {
          "data": {
            "text/plain": [
              "1392"
            ]
          },
          "execution_count": 11,
          "metadata": {},
          "output_type": "execute_result"
        }
      ],
      "source": [
        "len(data['filename'])"
      ]
    },
    {
      "cell_type": "code",
      "execution_count": 12,
      "metadata": {
        "colab": {
          "base_uri": "https://localhost:8080/"
        },
        "id": "Bd96rFFUVWIW",
        "outputId": "4b298c90-9d44-44c2-a61b-cae2c275ae7a"
      },
      "outputs": [
        {
          "data": {
            "text/plain": [
              "통증              19\n",
              "체온(WORD0288)    19\n",
              "병가              19\n",
              "보건복지부           19\n",
              "혈액형             19\n",
              "                ..\n",
              "구급차             18\n",
              "병원              17\n",
              "중독(WORD1569)    17\n",
              "식도염             17\n",
              "발가락             17\n",
              "Name: word, Length: 75, dtype: int64"
            ]
          },
          "execution_count": 12,
          "metadata": {},
          "output_type": "execute_result"
        }
      ],
      "source": [
        "data['word'].value_counts()"
      ]
    },
    {
      "cell_type": "markdown",
      "metadata": {
        "id": "AdxGm_L9tmDU"
      },
      "source": [
        "## Videoload 및 Centercrop"
      ]
    },
    {
      "cell_type": "code",
      "execution_count": 13,
      "metadata": {
        "id": "nywne8kzdlJl"
      },
      "outputs": [],
      "source": [
        "center_crop_layer = layers.CenterCrop(IMG_SIZE, IMG_SIZE)\n",
        "\n",
        "def crop_center(frame):\n",
        "    cropped = center_crop_layer(frame[None, ...])\n",
        "    cropped = cropped.numpy().squeeze()\n",
        "    return cropped\n",
        "\n",
        "def load_video(path, max_frames=0):\n",
        "    cap = cv2.VideoCapture(path)\n",
        "    frames = []\n",
        "    try:\n",
        "        while True:\n",
        "            ret, frame = cap.read()\n",
        "            if not ret:\n",
        "                break\n",
        "            frame = crop_center(frame)\n",
        "            frame = frame[:, :, [2, 1, 0]]\n",
        "            frames.append(frame)\n",
        "\n",
        "            if len(frames) == max_frames:\n",
        "                break\n",
        "    finally:\n",
        "        cap.release()\n",
        "    return np.array(frames)"
      ]
    },
    {
      "cell_type": "markdown",
      "metadata": {
        "id": "LShWqlS_tr3k"
      },
      "source": [
        "## Load DenseNet121"
      ]
    },
    {
      "cell_type": "code",
      "execution_count": 14,
      "metadata": {
        "colab": {
          "base_uri": "https://localhost:8080/"
        },
        "id": "HLzMnU03dnkR",
        "outputId": "7819a110-6956-42a2-8215-6eb00a914808"
      },
      "outputs": [],
      "source": [
        "def build_feature_extractor():\n",
        "    feature_extractor = keras.applications.DenseNet121(\n",
        "        weights=\"imagenet\",\n",
        "        include_top=False,\n",
        "        pooling=\"avg\",\n",
        "        input_shape=(IMG_SIZE, IMG_SIZE, 3),\n",
        "    )\n",
        "    preprocess_input = keras.applications.densenet.preprocess_input\n",
        "\n",
        "    inputs = keras.Input((IMG_SIZE, IMG_SIZE, 3))\n",
        "    preprocessed = preprocess_input(inputs)\n",
        "\n",
        "    features = feature_extractor(preprocessed)\n",
        "    outputs = keras.layers.Dense(512,activation=\"relu\")(features)\n",
        "    return keras.Model(inputs, outputs, name=\"feature_extractor\")\n",
        "\n",
        "\n",
        "feature_extractor = build_feature_extractor()"
      ]
    },
    {
      "cell_type": "markdown",
      "metadata": {
        "id": "jlh_mPxvtx85"
      },
      "source": [
        "## Labels transforms string to int"
      ]
    },
    {
      "cell_type": "code",
      "execution_count": 15,
      "metadata": {
        "colab": {
          "base_uri": "https://localhost:8080/",
          "height": 258
        },
        "id": "07aSJY8JeU3p",
        "outputId": "10fd882a-704e-45ea-fc50-dcc41c478e5e"
      },
      "outputs": [
        {
          "name": "stdout",
          "output_type": "stream",
          "text": [
            "['가렵다', '가루약', '간', '간호사', '감기', '감염병', '건강', '골절', '구급차', '당뇨병', '무통', '발가락', '병', '병가', '병명', '병문안', '병원', '보건복지', '보건복지부', '보건소', '불면증', '붓다', '붕대', '빈혈', '상처', '색맹', '성병', '소화불량', '소화제', '수면제', '순산', '식도염', '신체적장애', '실명', '아프다', '알코올중독', '약학', '약효', '여드름', '우울', '의사', '임신', '입', '입원', '전염', '정신장애', '중독(WORD1569)', '중독(WORD2007)', '중독되다', '중병', '진단서', '청진기', '체온(WORD0288)', '체온(WORD2573)', '충혈', '치과의사', '치료', '치료법', '치료제', '치매', '치아', '칼슘', '코', '콧물', '통증', '퇴원', '팔(WORD1147)', '팔(WORD2639)', '한약', '한약방', '혈액형', '환자', '환자실', '회복(WORD0057)', '회복(WORD0965)']\n",
            "75\n"
          ]
        }
      ],
      "source": [
        "label_processor = keras.layers.StringLookup(\n",
        "    num_oov_indices=0, vocabulary=np.unique(data[\"word\"])\n",
        ")\n",
        "print(label_processor.get_vocabulary())\n",
        "print(len(label_processor.get_vocabulary()))"
      ]
    },
    {
      "cell_type": "markdown",
      "metadata": {
        "id": "r1_b_AWCyDjp"
      },
      "source": [
        "## Video transforms"
      ]
    },
    {
      "cell_type": "code",
      "execution_count": 16,
      "metadata": {
        "id": "PSzcigq_vO6o"
      },
      "outputs": [],
      "source": [
        "def prepare_all_videos(df, root_dir):\n",
        "    num_samples = len(df)\n",
        "    video_paths = df[\"filename\"].values.tolist()\n",
        "    labels = df[\"word\"].values\n",
        "    labels = label_processor(labels[..., None]).numpy()\n",
        "\n",
        "    # `frame_masks` and `frame_features` are what we will feed to our sequence model.\n",
        "    # `frame_masks` will contain a bunch of booleans denoting if a timestep is\n",
        "    # masked with padding or not.\n",
        "    frame_features = np.zeros(\n",
        "        shape=(num_samples, MAX_SEQ_LENGTH, NUM_FEATURES), dtype=\"float32\"\n",
        "    )\n",
        "    with tqdm(total=num_samples) as pbar:  # 하나의 전체 진행 막대를 생성\n",
        "      # Use tqdm with total=num_samples to track the overall progress\n",
        "      for idx, path in enumerate(video_paths):  # tqdm 사용\n",
        "          # Gather all its frames and add a batch dimension.\n",
        "          frames = load_video(os.path.join(root_dir, path))\n",
        "          frames = frames[None, ...]\n",
        "\n",
        "          # Initialize placeholders to store the masks and features of the current video.\n",
        "          temp_frame_features = np.zeros(\n",
        "              shape=(1, MAX_SEQ_LENGTH, NUM_FEATURES), dtype=\"float32\"\n",
        "          )\n",
        "\n",
        "\n",
        "          # Extract features from the frames of the current video.\n",
        "          for i, batch in enumerate(frames):\n",
        "              video_length = batch.shape[0]\n",
        "              length = min(MAX_SEQ_LENGTH, video_length)\n",
        "              start_frame = max(0, (video_length - MAX_SEQ_LENGTH) // 2)\n",
        "\n",
        "              for j in range(length):\n",
        "                # Use start_frame to get frames from the middle\n",
        "                frame_index = start_frame + j\n",
        "                temp_frame_features[i, j, :] = feature_extractor.predict(\n",
        "                    batch[None, frame_index, :], verbose=0\n",
        "                )\n",
        "\n",
        "          frame_features[idx,] = temp_frame_features.squeeze()\n",
        "          pbar.update(1)\n",
        "    return frame_features, labels\n"
      ]
    },
    {
      "cell_type": "markdown",
      "metadata": {
        "id": "dmaG8WLjuEn7"
      },
      "source": [
        "## Load Viedo & Calculate with Densenet"
      ]
    },
    {
      "cell_type": "markdown",
      "metadata": {},
      "source": [
        "#### Input your video data path into root_dirs"
      ]
    },
    {
      "cell_type": "code",
      "execution_count": null,
      "metadata": {
        "id": "O-8HG8n5Uovj"
      },
      "outputs": [],
      "source": [
        "# tf.keras.backend.clear_session()\n",
        "# # 데이터를 가져오려면 함수를 호출합니다\n",
        "# root_dirs = '/content/drive/MyDrive/Rtrain/sorted_videos/All_videos'\n",
        "# train_data, train_labels = prepare_all_videos(data, root_dirs)\n"
      ]
    },
    {
      "cell_type": "code",
      "execution_count": null,
      "metadata": {
        "id": "izFqYONRaq-Q"
      },
      "outputs": [],
      "source": [
        "## pickle 로 저장시킴\n",
        "# tf.keras.backend.clear_session()\n",
        "# # 저장할 파일 이름 지정\n",
        "# pickle_filename = '/content/drive/MyDrive/Relu512DenseNet121_75labelFrontALLdataMiddle70frame.pickle'\n",
        "\n",
        "# # train_data, test_data, train_labels, test_labels를 pickle 파일에 저장\n",
        "# with open(pickle_filename, 'wb') as file:\n",
        "#     pickle.dump((train_data, train_labels), file)\n"
      ]
    },
    {
      "cell_type": "code",
      "execution_count": 17,
      "metadata": {
        "colab": {
          "base_uri": "https://localhost:8080/"
        },
        "id": "TnQx0aasOjlh",
        "outputId": "76ce1e14-ece0-4537-bace-1b10699631ec"
      },
      "outputs": [
        {
          "name": "stdout",
          "output_type": "stream",
          "text": [
            "(1392, 70, 512) (1392, 1)\n"
          ]
        }
      ],
      "source": [
        "# pickle 저장된 train_data, label_data 불러오기\n",
        "\n",
        "\n",
        "pickle_filename = 'data\\Relu512DenseNet121_75labelFrontALLdataMiddle70frame.pickle'\n",
        "\n",
        "with open(pickle_filename,\"rb\") as fr:\n",
        "    data = pickle.load(fr)\n",
        "Rdata = data[0]\n",
        "Rlabel = data[1]\n",
        "print(Rdata.shape, Rlabel.shape)"
      ]
    },
    {
      "cell_type": "code",
      "execution_count": 18,
      "metadata": {
        "colab": {
          "base_uri": "https://localhost:8080/"
        },
        "id": "0Df5X2_nNArm",
        "outputId": "7f20a12a-f38f-44c1-d9d0-0eec72e85225"
      },
      "outputs": [
        {
          "name": "stdout",
          "output_type": "stream",
          "text": [
            "(974, 70, 512) (418, 70, 512) (974, 1) (418, 1)\n"
          ]
        }
      ],
      "source": [
        "## train,validaion split\n",
        "\n",
        "train_data, valid_data, train_label, valid_label = train_test_split(Rdata, Rlabel,test_size=0.3, shuffle=True, random_state=777)\n",
        "print(train_data.shape, valid_data.shape, train_label.shape, valid_label.shape)"
      ]
    },
    {
      "cell_type": "markdown",
      "metadata": {
        "id": "uJ5AQXl0ubM2"
      },
      "source": [
        "## Transformer Encoder layers"
      ]
    },
    {
      "cell_type": "code",
      "execution_count": 19,
      "metadata": {
        "id": "FFryN83keFuf"
      },
      "outputs": [],
      "source": [
        "class PositionalEmbedding(layers.Layer):\n",
        "    def __init__(self, sequence_length, output_dim, **kwargs):\n",
        "        super().__init__(**kwargs)\n",
        "        self.position_embeddings = layers.Embedding(\n",
        "            input_dim=sequence_length, output_dim=output_dim\n",
        "        )\n",
        "        self.sequence_length = sequence_length\n",
        "        self.output_dim = output_dim\n",
        "\n",
        "    def call(self, inputs):\n",
        "        # The inputs are of shape: `(batch_size, frames, num_features)`\n",
        "        length = tf.shape(inputs)[1]\n",
        "        positions = tf.range(start=0, limit=length, delta=1)\n",
        "        embedded_positions = self.position_embeddings(positions)\n",
        "        return inputs + embedded_positions\n",
        "\n",
        "    def compute_mask(self, inputs, mask=None):\n",
        "        mask = tf.reduce_any(tf.cast(inputs, \"bool\"), axis=-1)\n",
        "        return mask"
      ]
    },
    {
      "cell_type": "code",
      "execution_count": 20,
      "metadata": {
        "id": "x_rAaLb3W9oL"
      },
      "outputs": [],
      "source": [
        "class TransformerEncoder(layers.Layer):\n",
        "    def __init__(self, embed_dim, dense_dim, num_heads, **kwargs):\n",
        "        super().__init__(**kwargs)\n",
        "        self.embed_dim = embed_dim\n",
        "        self.dense_dim = dense_dim\n",
        "        self.num_heads = num_heads\n",
        "        self.attention = layers.MultiHeadAttention(\n",
        "            num_heads=num_heads, key_dim=embed_dim, dropout=0.3\n",
        "        )\n",
        "        self.dense_proj = keras.Sequential(\n",
        "            [layers.Dense(dense_dim, activation=tf.nn.gelu), layers.Dense(embed_dim),]\n",
        "        )\n",
        "        self.layernorm_1 = layers.LayerNormalization()\n",
        "        self.layernorm_2 = layers.LayerNormalization()\n",
        "\n",
        "    def call(self, inputs, mask=None):\n",
        "        if mask is not None:\n",
        "            mask = mask[:, tf.newaxis, :]\n",
        "\n",
        "        attention_output = self.attention(inputs, inputs, attention_mask=mask)\n",
        "        proj_input = self.layernorm_1(inputs + attention_output)\n",
        "        proj_output = self.dense_proj(proj_input)\n",
        "        return self.layernorm_2(proj_input + proj_output)"
      ]
    },
    {
      "cell_type": "markdown",
      "metadata": {
        "id": "_rUrZEzHug9q"
      },
      "source": [
        "## Wandb"
      ]
    },
    {
      "cell_type": "code",
      "execution_count": null,
      "metadata": {
        "id": "5KGRbwDTwjUS"
      },
      "outputs": [],
      "source": [
        "# import wandb\n",
        "# wandb.login(key=\"input your key\")\n",
        "# from wandb.keras import WandbCallback\n",
        "\n",
        "# configs = dict(\n",
        "#     batch_size = 128,\n",
        "#     earlystopping_patience = 15,\n",
        "#     learning_rate = 0.001,\n",
        "#     epochs = 1000,\n",
        "#     MAX_SEQ_LENGTH = 50,\n",
        "#     NUM_FEATURES = 2048\n",
        "# )\n",
        "# wandb.init(\n",
        "#     project='your_project',\n",
        "#     name = 'report_Relu512DensenetOnly-F-75data-70-drop0.8-centercrop-Transfomer2',\n",
        "#     config = configs\n",
        "# )"
      ]
    },
    {
      "cell_type": "code",
      "execution_count": null,
      "metadata": {
        "id": "zqWkg-bTSkl4"
      },
      "outputs": [],
      "source": []
    },
    {
      "cell_type": "code",
      "execution_count": 25,
      "metadata": {
        "id": "O8X6gwEDwHED"
      },
      "outputs": [],
      "source": [
        "def get_compiled_model():\n",
        "    sequence_length = MAX_SEQ_LENGTH\n",
        "    embed_dim = NUM_FEATURES # 1024 vs 512\n",
        "    dense_dim = 4#\n",
        "    num_heads = 1\n",
        "    classes = len(label_processor.get_vocabulary())\n",
        "\n",
        "    inputs = keras.Input(shape=(None, None))\n",
        "    x = PositionalEmbedding(\n",
        "        sequence_length, embed_dim, name=\"frame_position_embedding\"\n",
        "    )(inputs)\n",
        "    x = TransformerEncoder(embed_dim, dense_dim, num_heads, name=\"transformer_layer1\")(x)\n",
        "    # x = TransformerEncoder(embed_dim, dense_dim, num_heads, name=\"transformer_layer2\")(x)\n",
        "    # x = TransformerEncoder(embed_dim, dense_dim, num_heads, name=\"transformer_layer3\")(x)\n",
        "    # x = TransformerEncoder(embed_dim, dense_dim, num_heads, name=\"transformer_layer4\")(x)\n",
        "    # x = TransformerEncoder(embed_dim, dense_dim, num_heads, name=\"transformer_layer5\")(x)\n",
        "    # x = layers.Dropout(0.5)(x)\n",
        "\n",
        "    x = layers.GlobalMaxPooling1D()(x)\n",
        "    x = layers.Dropout(0.8)(x)\n",
        "    outputs = layers.Dense(classes, activation=\"softmax\")(x)\n",
        "    model = keras.Model(inputs, outputs)\n",
        "\n",
        "    model.compile(\n",
        "        optimizer=\"adam\", loss=\"sparse_categorical_crossentropy\", metrics=[\"accuracy\"]\n",
        "    )\n",
        "    return model\n",
        "\n",
        "# patience = 10 기준 마지막 weight파일 저장.\n",
        "def run_experiment():\n",
        "    filepath = \"weight.h5\"\n",
        "    checkpoint = keras.callbacks.ModelCheckpoint(\n",
        "        filepath, save_weights_only=True, save_best_only=False, verbose=1,monitor='val_accuracy',mode='max'\n",
        "    )\n",
        "    early_stopping = keras.callbacks.EarlyStopping(\n",
        "            monitor='val_accuracy', patience=10, mode='max', verbose=1\n",
        "        )\n",
        "\n",
        "    model = get_compiled_model()\n",
        "    history = model.fit(\n",
        "        train_data,\n",
        "        train_label,\n",
        "        validation_data=(valid_data, valid_label),\n",
        "        epochs=100,\n",
        "        callbacks=[checkpoint,early_stopping] # wandbcallback()\n",
        "    )\n",
        "\n",
        "    return history, model"
      ]
    },
    {
      "cell_type": "code",
      "execution_count": 26,
      "metadata": {
        "colab": {
          "base_uri": "https://localhost:8080/"
        },
        "id": "rIDXNeeywI6l",
        "outputId": "d563e8b2-a5e9-4ed3-abc0-403eaf6b5585"
      },
      "outputs": [
        {
          "name": "stdout",
          "output_type": "stream",
          "text": [
            "Epoch 1/10\n",
            "28/31 [==========================>...] - ETA: 0s - loss: 8.3251 - accuracy: 0.0156\n",
            "Epoch 1: saving model to weight.h5\n",
            "31/31 [==============================] - 2s 35ms/step - loss: 8.2620 - accuracy: 0.0154 - val_loss: 4.5522 - val_accuracy: 0.0167\n",
            "Epoch 2/10\n",
            "28/31 [==========================>...] - ETA: 0s - loss: 7.1829 - accuracy: 0.0134\n",
            "Epoch 2: saving model to weight.h5\n",
            "31/31 [==============================] - 1s 26ms/step - loss: 7.2004 - accuracy: 0.0133 - val_loss: 4.4051 - val_accuracy: 0.0144\n",
            "Epoch 3/10\n",
            "28/31 [==========================>...] - ETA: 0s - loss: 6.9120 - accuracy: 0.0134\n",
            "Epoch 3: saving model to weight.h5\n",
            "31/31 [==============================] - 1s 26ms/step - loss: 6.9167 - accuracy: 0.0123 - val_loss: 4.4126 - val_accuracy: 0.0167\n",
            "Epoch 4/10\n",
            "31/31 [==============================] - ETA: 0s - loss: 6.4494 - accuracy: 0.0205\n",
            "Epoch 4: saving model to weight.h5\n",
            "31/31 [==============================] - 1s 28ms/step - loss: 6.4494 - accuracy: 0.0205 - val_loss: 4.3101 - val_accuracy: 0.0239\n",
            "Epoch 5/10\n",
            "31/31 [==============================] - ETA: 0s - loss: 6.0584 - accuracy: 0.0205\n",
            "Epoch 5: saving model to weight.h5\n",
            "31/31 [==============================] - 1s 27ms/step - loss: 6.0584 - accuracy: 0.0205 - val_loss: 4.2679 - val_accuracy: 0.0335\n",
            "Epoch 6/10\n",
            "31/31 [==============================] - ETA: 0s - loss: 5.6183 - accuracy: 0.0195\n",
            "Epoch 6: saving model to weight.h5\n",
            "31/31 [==============================] - 1s 26ms/step - loss: 5.6183 - accuracy: 0.0195 - val_loss: 4.0539 - val_accuracy: 0.0215\n",
            "Epoch 7/10\n",
            "31/31 [==============================] - ETA: 0s - loss: 5.1461 - accuracy: 0.0246\n",
            "Epoch 7: saving model to weight.h5\n",
            "31/31 [==============================] - 1s 26ms/step - loss: 5.1461 - accuracy: 0.0246 - val_loss: 3.9214 - val_accuracy: 0.0431\n",
            "Epoch 8/10\n",
            "30/31 [============================>.] - ETA: 0s - loss: 4.7287 - accuracy: 0.0271\n",
            "Epoch 8: saving model to weight.h5\n",
            "31/31 [==============================] - 1s 29ms/step - loss: 4.7192 - accuracy: 0.0287 - val_loss: 3.8386 - val_accuracy: 0.0646\n",
            "Epoch 9/10\n",
            "30/31 [============================>.] - ETA: 0s - loss: 4.4654 - accuracy: 0.0375\n",
            "Epoch 9: saving model to weight.h5\n",
            "31/31 [==============================] - 1s 29ms/step - loss: 4.4694 - accuracy: 0.0380 - val_loss: 3.6994 - val_accuracy: 0.0766\n",
            "Epoch 10/10\n",
            "31/31 [==============================] - ETA: 0s - loss: 4.0811 - accuracy: 0.0483\n",
            "Epoch 10: saving model to weight.h5\n",
            "31/31 [==============================] - 1s 28ms/step - loss: 4.0811 - accuracy: 0.0483 - val_loss: 3.6135 - val_accuracy: 0.0981\n"
          ]
        }
      ],
      "source": [
        "_, trained_model = run_experiment()\n"
      ]
    },
    {
      "cell_type": "code",
      "execution_count": null,
      "metadata": {
        "id": "F-2P_MS6v7e6"
      },
      "outputs": [],
      "source": []
    },
    {
      "cell_type": "markdown",
      "metadata": {
        "id": "JJZ1QIKfLbi-"
      },
      "source": [
        "## confusion matrix"
      ]
    },
    {
      "cell_type": "code",
      "execution_count": 27,
      "metadata": {
        "colab": {
          "base_uri": "https://localhost:8080/",
          "height": 839
        },
        "id": "HsAOQLPaLgaA",
        "outputId": "3d51b027-2de5-49ad-8eee-f78f58287045"
      },
      "outputs": [
        {
          "name": "stdout",
          "output_type": "stream",
          "text": [
            "14/14 [==============================] - 1s 18ms/step\n"
          ]
        },
        {
          "ename": "ValueError",
          "evalue": "Invalid format specifier",
          "output_type": "error",
          "traceback": [
            "\u001b[1;31m---------------------------------------------------------------------------\u001b[0m",
            "\u001b[1;31mValueError\u001b[0m                                Traceback (most recent call last)",
            "\u001b[1;32mc:\\Users\\7qrea\\OneDrive\\바탕 화면\\SSLRV1\\SSLRV1.ipynb 셀 38\u001b[0m line \u001b[0;36m1\n\u001b[0;32m     <a href='vscode-notebook-cell:/c%3A/Users/7qrea/OneDrive/%EB%B0%94%ED%83%95%20%ED%99%94%EB%A9%B4/SSLRV1/SSLRV1.ipynb#X51sZmlsZQ%3D%3D?line=12'>13</a>\u001b[0m plt\u001b[39m.\u001b[39mfigure(figsize\u001b[39m=\u001b[39m(\u001b[39m25\u001b[39m, \u001b[39m16\u001b[39m))  \u001b[39m# 크기를 조절합니다.\u001b[39;00m\n\u001b[0;32m     <a href='vscode-notebook-cell:/c%3A/Users/7qrea/OneDrive/%EB%B0%94%ED%83%95%20%ED%99%94%EB%A9%B4/SSLRV1/SSLRV1.ipynb#X51sZmlsZQ%3D%3D?line=13'>14</a>\u001b[0m disp \u001b[39m=\u001b[39m ConfusionMatrixDisplay(confusion_matrix\u001b[39m=\u001b[39mcm, display_labels\u001b[39m=\u001b[39mlabel_processor\u001b[39m.\u001b[39mget_vocabulary)\n\u001b[1;32m---> <a href='vscode-notebook-cell:/c%3A/Users/7qrea/OneDrive/%EB%B0%94%ED%83%95%20%ED%99%94%EB%A9%B4/SSLRV1/SSLRV1.ipynb#X51sZmlsZQ%3D%3D?line=14'>15</a>\u001b[0m disp\u001b[39m.\u001b[39;49mplot(cmap\u001b[39m=\u001b[39;49mplt\u001b[39m.\u001b[39;49mcm\u001b[39m.\u001b[39;49mBlues, values_format\u001b[39m=\u001b[39;49m\u001b[39m'\u001b[39;49m\u001b[39m%d\u001b[39;49;00m\u001b[39m'\u001b[39;49m)  \u001b[39m# 값 형식을 정수로 지정하기 위해 '%d'를 사용합니다.\u001b[39;00m\n\u001b[0;32m     <a href='vscode-notebook-cell:/c%3A/Users/7qrea/OneDrive/%EB%B0%94%ED%83%95%20%ED%99%94%EB%A9%B4/SSLRV1/SSLRV1.ipynb#X51sZmlsZQ%3D%3D?line=15'>16</a>\u001b[0m plt\u001b[39m.\u001b[39mtitle(\u001b[39m\"\u001b[39m\u001b[39mConfusion Matrix for Validation Data\u001b[39m\u001b[39m\"\u001b[39m)\n\u001b[0;32m     <a href='vscode-notebook-cell:/c%3A/Users/7qrea/OneDrive/%EB%B0%94%ED%83%95%20%ED%99%94%EB%A9%B4/SSLRV1/SSLRV1.ipynb#X51sZmlsZQ%3D%3D?line=16'>17</a>\u001b[0m plt\u001b[39m.\u001b[39mxlabel(\u001b[39m\"\u001b[39m\u001b[39mPredicted\u001b[39m\u001b[39m\"\u001b[39m)\n",
            "File \u001b[1;32mc:\\Users\\7qrea\\AppData\\Local\\Programs\\Python\\Python310\\lib\\site-packages\\sklearn\\metrics\\_plot\\confusion_matrix.py:168\u001b[0m, in \u001b[0;36mConfusionMatrixDisplay.plot\u001b[1;34m(self, include_values, cmap, xticks_rotation, values_format, ax, colorbar, im_kw, text_kw)\u001b[0m\n\u001b[0;32m    166\u001b[0m             text_cm \u001b[39m=\u001b[39m text_d\n\u001b[0;32m    167\u001b[0m \u001b[39melse\u001b[39;00m:\n\u001b[1;32m--> 168\u001b[0m     text_cm \u001b[39m=\u001b[39m \u001b[39mformat\u001b[39;49m(cm[i, j], values_format)\n\u001b[0;32m    170\u001b[0m default_text_kwargs \u001b[39m=\u001b[39m \u001b[39mdict\u001b[39m(ha\u001b[39m=\u001b[39m\u001b[39m\"\u001b[39m\u001b[39mcenter\u001b[39m\u001b[39m\"\u001b[39m, va\u001b[39m=\u001b[39m\u001b[39m\"\u001b[39m\u001b[39mcenter\u001b[39m\u001b[39m\"\u001b[39m, color\u001b[39m=\u001b[39mcolor)\n\u001b[0;32m    171\u001b[0m text_kwargs \u001b[39m=\u001b[39m {\u001b[39m*\u001b[39m\u001b[39m*\u001b[39mdefault_text_kwargs, \u001b[39m*\u001b[39m\u001b[39m*\u001b[39mtext_kw}\n",
            "\u001b[1;31mValueError\u001b[0m: Invalid format specifier"
          ]
        },
        {
          "data": {
            "text/plain": [
              "<Figure size 2500x1600 with 0 Axes>"
            ]
          },
          "metadata": {},
          "output_type": "display_data"
        },
        {
          "data": {
            "image/png": "[encoded data removed]",
            "text/plain": [
              "<Figure size 640x480 with 1 Axes>"
            ]
          },
          "metadata": {},
          "output_type": "display_data"
        }
      ],
      "source": [
        "# Load your validation data and get model predictions\n",
        "validation_data = valid_data  # Load your validation data\n",
        "validation_labels = valid_label  # True labels for validation data\n",
        "\n",
        "# Assuming 'model' is your trained model\n",
        "predicted_labels = trained_model.predict(valid_data)\n",
        "predicted_labels = np.argmax(predicted_labels, axis=1)  # Convert one-hot encoded predictions to class labels\n",
        "\n",
        "# Calculate the confusion matrix\n",
        "cm = confusion_matrix(validation_labels, predicted_labels)\n",
        "\n",
        "# Display the confusion matrix\n",
        "plt.figure(figsize=(25, 16))  # 크기를 조절합니다.\n",
        "disp = ConfusionMatrixDisplay(confusion_matrix=cm, display_labels=label_processor.get_vocabulary)\n",
        "disp.plot(cmap=plt.cm.Blues, values_format='%d')  # 값 형식을 정수로 지정하기 위해 '%d'를 사용합니다.\n",
        "plt.title(\"Confusion Matrix for Validation Data\")\n",
        "plt.xlabel(\"Predicted\")\n",
        "plt.ylabel(\"True\")\n",
        "plt.show()\n"
      ]
    },
    {
      "cell_type": "code",
      "execution_count": 28,
      "metadata": {
        "colab": {
          "base_uri": "https://localhost:8080/",
          "height": 1000
        },
        "id": "C9n_j1rXbOs6",
        "outputId": "5fa66435-b541-4fd8-f62b-4a6c19201650"
      },
      "outputs": [
        {
          "name": "stdout",
          "output_type": "stream",
          "text": [
            "14/14 [==============================] - 0s 20ms/step\n"
          ]
        },
        {
          "name": "stderr",
          "output_type": "stream",
          "text": [
            "c:\\Users\\7qrea\\AppData\\Local\\Programs\\Python\\Python310\\lib\\site-packages\\seaborn\\utils.py:80: UserWarning: Glyph 44032 (\\N{HANGUL SYLLABLE GA}) missing from current font.\n",
            "  fig.canvas.draw()\n",
            "c:\\Users\\7qrea\\AppData\\Local\\Programs\\Python\\Python310\\lib\\site-packages\\seaborn\\utils.py:80: UserWarning: Glyph 47157 (\\N{HANGUL SYLLABLE RYEOB}) missing from current font.\n",
            "  fig.canvas.draw()\n",
            "c:\\Users\\7qrea\\AppData\\Local\\Programs\\Python\\Python310\\lib\\site-packages\\seaborn\\utils.py:80: UserWarning: Glyph 45796 (\\N{HANGUL SYLLABLE DA}) missing from current font.\n",
            "  fig.canvas.draw()\n",
            "c:\\Users\\7qrea\\AppData\\Local\\Programs\\Python\\Python310\\lib\\site-packages\\seaborn\\utils.py:80: UserWarning: Glyph 47336 (\\N{HANGUL SYLLABLE RU}) missing from current font.\n",
            "  fig.canvas.draw()\n",
            "c:\\Users\\7qrea\\AppData\\Local\\Programs\\Python\\Python310\\lib\\site-packages\\seaborn\\utils.py:80: UserWarning: Glyph 50557 (\\N{HANGUL SYLLABLE YAG}) missing from current font.\n",
            "  fig.canvas.draw()\n",
            "c:\\Users\\7qrea\\AppData\\Local\\Programs\\Python\\Python310\\lib\\site-packages\\seaborn\\utils.py:80: UserWarning: Glyph 44036 (\\N{HANGUL SYLLABLE GAN}) missing from current font.\n",
            "  fig.canvas.draw()\n",
            "c:\\Users\\7qrea\\AppData\\Local\\Programs\\Python\\Python310\\lib\\site-packages\\seaborn\\utils.py:80: UserWarning: Glyph 54840 (\\N{HANGUL SYLLABLE HO}) missing from current font.\n",
            "  fig.canvas.draw()\n",
            "c:\\Users\\7qrea\\AppData\\Local\\Programs\\Python\\Python310\\lib\\site-packages\\seaborn\\utils.py:80: UserWarning: Glyph 49324 (\\N{HANGUL SYLLABLE SA}) missing from current font.\n",
            "  fig.canvas.draw()\n",
            "c:\\Users\\7qrea\\AppData\\Local\\Programs\\Python\\Python310\\lib\\site-packages\\seaborn\\utils.py:80: UserWarning: Glyph 44048 (\\N{HANGUL SYLLABLE GAM}) missing from current font.\n",
            "  fig.canvas.draw()\n",
            "c:\\Users\\7qrea\\AppData\\Local\\Programs\\Python\\Python310\\lib\\site-packages\\seaborn\\utils.py:80: UserWarning: Glyph 44592 (\\N{HANGUL SYLLABLE GI}) missing from current font.\n",
            "  fig.canvas.draw()\n",
            "c:\\Users\\7qrea\\AppData\\Local\\Programs\\Python\\Python310\\lib\\site-packages\\seaborn\\utils.py:80: UserWarning: Glyph 50684 (\\N{HANGUL SYLLABLE YEOM}) missing from current font.\n",
            "  fig.canvas.draw()\n",
            "c:\\Users\\7qrea\\AppData\\Local\\Programs\\Python\\Python310\\lib\\site-packages\\seaborn\\utils.py:80: UserWarning: Glyph 48337 (\\N{HANGUL SYLLABLE BYEONG}) missing from current font.\n",
            "  fig.canvas.draw()\n",
            "c:\\Users\\7qrea\\AppData\\Local\\Programs\\Python\\Python310\\lib\\site-packages\\seaborn\\utils.py:80: UserWarning: Glyph 44148 (\\N{HANGUL SYLLABLE GEON}) missing from current font.\n",
            "  fig.canvas.draw()\n",
            "c:\\Users\\7qrea\\AppData\\Local\\Programs\\Python\\Python310\\lib\\site-packages\\seaborn\\utils.py:80: UserWarning: Glyph 44053 (\\N{HANGUL SYLLABLE GANG}) missing from current font.\n",
            "  fig.canvas.draw()\n",
            "c:\\Users\\7qrea\\AppData\\Local\\Programs\\Python\\Python310\\lib\\site-packages\\seaborn\\utils.py:80: UserWarning: Glyph 44264 (\\N{HANGUL SYLLABLE GOL}) missing from current font.\n",
            "  fig.canvas.draw()\n",
            "c:\\Users\\7qrea\\AppData\\Local\\Programs\\Python\\Python310\\lib\\site-packages\\seaborn\\utils.py:80: UserWarning: Glyph 51208 (\\N{HANGUL SYLLABLE JEOL}) missing from current font.\n",
            "  fig.canvas.draw()\n",
            "c:\\Users\\7qrea\\AppData\\Local\\Programs\\Python\\Python310\\lib\\site-packages\\seaborn\\utils.py:80: UserWarning: Glyph 44396 (\\N{HANGUL SYLLABLE GU}) missing from current font.\n",
            "  fig.canvas.draw()\n",
            "c:\\Users\\7qrea\\AppData\\Local\\Programs\\Python\\Python310\\lib\\site-packages\\seaborn\\utils.py:80: UserWarning: Glyph 44553 (\\N{HANGUL SYLLABLE GEUB}) missing from current font.\n",
            "  fig.canvas.draw()\n",
            "c:\\Users\\7qrea\\AppData\\Local\\Programs\\Python\\Python310\\lib\\site-packages\\seaborn\\utils.py:80: UserWarning: Glyph 52264 (\\N{HANGUL SYLLABLE CA}) missing from current font.\n",
            "  fig.canvas.draw()\n",
            "c:\\Users\\7qrea\\AppData\\Local\\Programs\\Python\\Python310\\lib\\site-packages\\seaborn\\utils.py:80: UserWarning: Glyph 45817 (\\N{HANGUL SYLLABLE DANG}) missing from current font.\n",
            "  fig.canvas.draw()\n",
            "c:\\Users\\7qrea\\AppData\\Local\\Programs\\Python\\Python310\\lib\\site-packages\\seaborn\\utils.py:80: UserWarning: Glyph 45544 (\\N{HANGUL SYLLABLE NYO}) missing from current font.\n",
            "  fig.canvas.draw()\n",
            "c:\\Users\\7qrea\\AppData\\Local\\Programs\\Python\\Python310\\lib\\site-packages\\seaborn\\utils.py:80: UserWarning: Glyph 47924 (\\N{HANGUL SYLLABLE MU}) missing from current font.\n",
            "  fig.canvas.draw()\n",
            "c:\\Users\\7qrea\\AppData\\Local\\Programs\\Python\\Python310\\lib\\site-packages\\seaborn\\utils.py:80: UserWarning: Glyph 53685 (\\N{HANGUL SYLLABLE TONG}) missing from current font.\n",
            "  fig.canvas.draw()\n",
            "c:\\Users\\7qrea\\AppData\\Local\\Programs\\Python\\Python310\\lib\\site-packages\\seaborn\\utils.py:80: UserWarning: Glyph 48156 (\\N{HANGUL SYLLABLE BAL}) missing from current font.\n",
            "  fig.canvas.draw()\n",
            "c:\\Users\\7qrea\\AppData\\Local\\Programs\\Python\\Python310\\lib\\site-packages\\seaborn\\utils.py:80: UserWarning: Glyph 46973 (\\N{HANGUL SYLLABLE RAG}) missing from current font.\n",
            "  fig.canvas.draw()\n",
            "c:\\Users\\7qrea\\AppData\\Local\\Programs\\Python\\Python310\\lib\\site-packages\\seaborn\\utils.py:80: UserWarning: Glyph 47749 (\\N{HANGUL SYLLABLE MYEONG}) missing from current font.\n",
            "  fig.canvas.draw()\n",
            "c:\\Users\\7qrea\\AppData\\Local\\Programs\\Python\\Python310\\lib\\site-packages\\seaborn\\utils.py:80: UserWarning: Glyph 47928 (\\N{HANGUL SYLLABLE MUN}) missing from current font.\n",
            "  fig.canvas.draw()\n",
            "c:\\Users\\7qrea\\AppData\\Local\\Programs\\Python\\Python310\\lib\\site-packages\\seaborn\\utils.py:80: UserWarning: Glyph 50504 (\\N{HANGUL SYLLABLE AN}) missing from current font.\n",
            "  fig.canvas.draw()\n",
            "c:\\Users\\7qrea\\AppData\\Local\\Programs\\Python\\Python310\\lib\\site-packages\\seaborn\\utils.py:80: UserWarning: Glyph 50896 (\\N{HANGUL SYLLABLE WEON}) missing from current font.\n",
            "  fig.canvas.draw()\n",
            "c:\\Users\\7qrea\\AppData\\Local\\Programs\\Python\\Python310\\lib\\site-packages\\seaborn\\utils.py:80: UserWarning: Glyph 48372 (\\N{HANGUL SYLLABLE BO}) missing from current font.\n",
            "  fig.canvas.draw()\n",
            "c:\\Users\\7qrea\\AppData\\Local\\Programs\\Python\\Python310\\lib\\site-packages\\seaborn\\utils.py:80: UserWarning: Glyph 48373 (\\N{HANGUL SYLLABLE BOG}) missing from current font.\n",
            "  fig.canvas.draw()\n",
            "c:\\Users\\7qrea\\AppData\\Local\\Programs\\Python\\Python310\\lib\\site-packages\\seaborn\\utils.py:80: UserWarning: Glyph 51648 (\\N{HANGUL SYLLABLE JI}) missing from current font.\n",
            "  fig.canvas.draw()\n",
            "c:\\Users\\7qrea\\AppData\\Local\\Programs\\Python\\Python310\\lib\\site-packages\\seaborn\\utils.py:80: UserWarning: Glyph 48512 (\\N{HANGUL SYLLABLE BU}) missing from current font.\n",
            "  fig.canvas.draw()\n",
            "c:\\Users\\7qrea\\AppData\\Local\\Programs\\Python\\Python310\\lib\\site-packages\\seaborn\\utils.py:80: UserWarning: Glyph 49548 (\\N{HANGUL SYLLABLE SO}) missing from current font.\n",
            "  fig.canvas.draw()\n",
            "c:\\Users\\7qrea\\AppData\\Local\\Programs\\Python\\Python310\\lib\\site-packages\\seaborn\\utils.py:80: UserWarning: Glyph 48520 (\\N{HANGUL SYLLABLE BUL}) missing from current font.\n",
            "  fig.canvas.draw()\n",
            "c:\\Users\\7qrea\\AppData\\Local\\Programs\\Python\\Python310\\lib\\site-packages\\seaborn\\utils.py:80: UserWarning: Glyph 47732 (\\N{HANGUL SYLLABLE MYEON}) missing from current font.\n",
            "  fig.canvas.draw()\n",
            "c:\\Users\\7qrea\\AppData\\Local\\Programs\\Python\\Python310\\lib\\site-packages\\seaborn\\utils.py:80: UserWarning: Glyph 51613 (\\N{HANGUL SYLLABLE JEUNG}) missing from current font.\n",
            "  fig.canvas.draw()\n",
            "c:\\Users\\7qrea\\AppData\\Local\\Programs\\Python\\Python310\\lib\\site-packages\\seaborn\\utils.py:80: UserWarning: Glyph 48531 (\\N{HANGUL SYLLABLE BUS}) missing from current font.\n",
            "  fig.canvas.draw()\n",
            "c:\\Users\\7qrea\\AppData\\Local\\Programs\\Python\\Python310\\lib\\site-packages\\seaborn\\utils.py:80: UserWarning: Glyph 48533 (\\N{HANGUL SYLLABLE BUNG}) missing from current font.\n",
            "  fig.canvas.draw()\n",
            "c:\\Users\\7qrea\\AppData\\Local\\Programs\\Python\\Python310\\lib\\site-packages\\seaborn\\utils.py:80: UserWarning: Glyph 45824 (\\N{HANGUL SYLLABLE DAE}) missing from current font.\n",
            "  fig.canvas.draw()\n",
            "c:\\Users\\7qrea\\AppData\\Local\\Programs\\Python\\Python310\\lib\\site-packages\\seaborn\\utils.py:80: UserWarning: Glyph 48712 (\\N{HANGUL SYLLABLE BIN}) missing from current font.\n",
            "  fig.canvas.draw()\n",
            "c:\\Users\\7qrea\\AppData\\Local\\Programs\\Python\\Python310\\lib\\site-packages\\seaborn\\utils.py:80: UserWarning: Glyph 54792 (\\N{HANGUL SYLLABLE HYEOL}) missing from current font.\n",
            "  fig.canvas.draw()\n",
            "c:\\Users\\7qrea\\AppData\\Local\\Programs\\Python\\Python310\\lib\\site-packages\\seaborn\\utils.py:80: UserWarning: Glyph 49345 (\\N{HANGUL SYLLABLE SANG}) missing from current font.\n",
            "  fig.canvas.draw()\n",
            "c:\\Users\\7qrea\\AppData\\Local\\Programs\\Python\\Python310\\lib\\site-packages\\seaborn\\utils.py:80: UserWarning: Glyph 52376 (\\N{HANGUL SYLLABLE CEO}) missing from current font.\n",
            "  fig.canvas.draw()\n",
            "c:\\Users\\7qrea\\AppData\\Local\\Programs\\Python\\Python310\\lib\\site-packages\\seaborn\\utils.py:80: UserWarning: Glyph 49353 (\\N{HANGUL SYLLABLE SAEG}) missing from current font.\n",
            "  fig.canvas.draw()\n",
            "c:\\Users\\7qrea\\AppData\\Local\\Programs\\Python\\Python310\\lib\\site-packages\\seaborn\\utils.py:80: UserWarning: Glyph 47609 (\\N{HANGUL SYLLABLE MAENG}) missing from current font.\n",
            "  fig.canvas.draw()\n",
            "c:\\Users\\7qrea\\AppData\\Local\\Programs\\Python\\Python310\\lib\\site-packages\\seaborn\\utils.py:80: UserWarning: Glyph 49457 (\\N{HANGUL SYLLABLE SEONG}) missing from current font.\n",
            "  fig.canvas.draw()\n",
            "c:\\Users\\7qrea\\AppData\\Local\\Programs\\Python\\Python310\\lib\\site-packages\\seaborn\\utils.py:80: UserWarning: Glyph 54868 (\\N{HANGUL SYLLABLE HWA}) missing from current font.\n",
            "  fig.canvas.draw()\n",
            "c:\\Users\\7qrea\\AppData\\Local\\Programs\\Python\\Python310\\lib\\site-packages\\seaborn\\utils.py:80: UserWarning: Glyph 47049 (\\N{HANGUL SYLLABLE RYANG}) missing from current font.\n",
            "  fig.canvas.draw()\n",
            "c:\\Users\\7qrea\\AppData\\Local\\Programs\\Python\\Python310\\lib\\site-packages\\seaborn\\utils.py:80: UserWarning: Glyph 51228 (\\N{HANGUL SYLLABLE JE}) missing from current font.\n",
            "  fig.canvas.draw()\n",
            "c:\\Users\\7qrea\\AppData\\Local\\Programs\\Python\\Python310\\lib\\site-packages\\seaborn\\utils.py:80: UserWarning: Glyph 49688 (\\N{HANGUL SYLLABLE SU}) missing from current font.\n",
            "  fig.canvas.draw()\n",
            "c:\\Users\\7qrea\\AppData\\Local\\Programs\\Python\\Python310\\lib\\site-packages\\seaborn\\utils.py:80: UserWarning: Glyph 49692 (\\N{HANGUL SYLLABLE SUN}) missing from current font.\n",
            "  fig.canvas.draw()\n",
            "c:\\Users\\7qrea\\AppData\\Local\\Programs\\Python\\Python310\\lib\\site-packages\\seaborn\\utils.py:80: UserWarning: Glyph 49328 (\\N{HANGUL SYLLABLE SAN}) missing from current font.\n",
            "  fig.canvas.draw()\n",
            "c:\\Users\\7qrea\\AppData\\Local\\Programs\\Python\\Python310\\lib\\site-packages\\seaborn\\utils.py:80: UserWarning: Glyph 49885 (\\N{HANGUL SYLLABLE SIG}) missing from current font.\n",
            "  fig.canvas.draw()\n",
            "c:\\Users\\7qrea\\AppData\\Local\\Programs\\Python\\Python310\\lib\\site-packages\\seaborn\\utils.py:80: UserWarning: Glyph 46020 (\\N{HANGUL SYLLABLE DO}) missing from current font.\n",
            "  fig.canvas.draw()\n",
            "c:\\Users\\7qrea\\AppData\\Local\\Programs\\Python\\Python310\\lib\\site-packages\\seaborn\\utils.py:80: UserWarning: Glyph 49888 (\\N{HANGUL SYLLABLE SIN}) missing from current font.\n",
            "  fig.canvas.draw()\n",
            "c:\\Users\\7qrea\\AppData\\Local\\Programs\\Python\\Python310\\lib\\site-packages\\seaborn\\utils.py:80: UserWarning: Glyph 52404 (\\N{HANGUL SYLLABLE CE}) missing from current font.\n",
            "  fig.canvas.draw()\n",
            "c:\\Users\\7qrea\\AppData\\Local\\Programs\\Python\\Python310\\lib\\site-packages\\seaborn\\utils.py:80: UserWarning: Glyph 51201 (\\N{HANGUL SYLLABLE JEOG}) missing from current font.\n",
            "  fig.canvas.draw()\n",
            "c:\\Users\\7qrea\\AppData\\Local\\Programs\\Python\\Python310\\lib\\site-packages\\seaborn\\utils.py:80: UserWarning: Glyph 51109 (\\N{HANGUL SYLLABLE JANG}) missing from current font.\n",
            "  fig.canvas.draw()\n",
            "c:\\Users\\7qrea\\AppData\\Local\\Programs\\Python\\Python310\\lib\\site-packages\\seaborn\\utils.py:80: UserWarning: Glyph 50528 (\\N{HANGUL SYLLABLE AE}) missing from current font.\n",
            "  fig.canvas.draw()\n",
            "c:\\Users\\7qrea\\AppData\\Local\\Programs\\Python\\Python310\\lib\\site-packages\\seaborn\\utils.py:80: UserWarning: Glyph 49892 (\\N{HANGUL SYLLABLE SIL}) missing from current font.\n",
            "  fig.canvas.draw()\n",
            "c:\\Users\\7qrea\\AppData\\Local\\Programs\\Python\\Python310\\lib\\site-packages\\seaborn\\utils.py:80: UserWarning: Glyph 50500 (\\N{HANGUL SYLLABLE A}) missing from current font.\n",
            "  fig.canvas.draw()\n",
            "c:\\Users\\7qrea\\AppData\\Local\\Programs\\Python\\Python310\\lib\\site-packages\\seaborn\\utils.py:80: UserWarning: Glyph 54532 (\\N{HANGUL SYLLABLE PEU}) missing from current font.\n",
            "  fig.canvas.draw()\n",
            "c:\\Users\\7qrea\\AppData\\Local\\Programs\\Python\\Python310\\lib\\site-packages\\seaborn\\utils.py:80: UserWarning: Glyph 50508 (\\N{HANGUL SYLLABLE AL}) missing from current font.\n",
            "  fig.canvas.draw()\n",
            "c:\\Users\\7qrea\\AppData\\Local\\Programs\\Python\\Python310\\lib\\site-packages\\seaborn\\utils.py:80: UserWarning: Glyph 53076 (\\N{HANGUL SYLLABLE KO}) missing from current font.\n",
            "  fig.canvas.draw()\n",
            "c:\\Users\\7qrea\\AppData\\Local\\Programs\\Python\\Python310\\lib\\site-packages\\seaborn\\utils.py:80: UserWarning: Glyph 50732 (\\N{HANGUL SYLLABLE OL}) missing from current font.\n",
            "  fig.canvas.draw()\n",
            "c:\\Users\\7qrea\\AppData\\Local\\Programs\\Python\\Python310\\lib\\site-packages\\seaborn\\utils.py:80: UserWarning: Glyph 51473 (\\N{HANGUL SYLLABLE JUNG}) missing from current font.\n",
            "  fig.canvas.draw()\n",
            "c:\\Users\\7qrea\\AppData\\Local\\Programs\\Python\\Python310\\lib\\site-packages\\seaborn\\utils.py:80: UserWarning: Glyph 46021 (\\N{HANGUL SYLLABLE DOG}) missing from current font.\n",
            "  fig.canvas.draw()\n",
            "c:\\Users\\7qrea\\AppData\\Local\\Programs\\Python\\Python310\\lib\\site-packages\\seaborn\\utils.py:80: UserWarning: Glyph 54617 (\\N{HANGUL SYLLABLE HAG}) missing from current font.\n",
            "  fig.canvas.draw()\n",
            "c:\\Users\\7qrea\\AppData\\Local\\Programs\\Python\\Python310\\lib\\site-packages\\seaborn\\utils.py:80: UserWarning: Glyph 54952 (\\N{HANGUL SYLLABLE HYO}) missing from current font.\n",
            "  fig.canvas.draw()\n",
            "c:\\Users\\7qrea\\AppData\\Local\\Programs\\Python\\Python310\\lib\\site-packages\\seaborn\\utils.py:80: UserWarning: Glyph 50668 (\\N{HANGUL SYLLABLE YEO}) missing from current font.\n",
            "  fig.canvas.draw()\n",
            "c:\\Users\\7qrea\\AppData\\Local\\Programs\\Python\\Python310\\lib\\site-packages\\seaborn\\utils.py:80: UserWarning: Glyph 46300 (\\N{HANGUL SYLLABLE DEU}) missing from current font.\n",
            "  fig.canvas.draw()\n",
            "c:\\Users\\7qrea\\AppData\\Local\\Programs\\Python\\Python310\\lib\\site-packages\\seaborn\\utils.py:80: UserWarning: Glyph 47492 (\\N{HANGUL SYLLABLE REUM}) missing from current font.\n",
            "  fig.canvas.draw()\n",
            "c:\\Users\\7qrea\\AppData\\Local\\Programs\\Python\\Python310\\lib\\site-packages\\seaborn\\utils.py:80: UserWarning: Glyph 50864 (\\N{HANGUL SYLLABLE U}) missing from current font.\n",
            "  fig.canvas.draw()\n",
            "c:\\Users\\7qrea\\AppData\\Local\\Programs\\Python\\Python310\\lib\\site-packages\\seaborn\\utils.py:80: UserWarning: Glyph 50872 (\\N{HANGUL SYLLABLE UL}) missing from current font.\n",
            "  fig.canvas.draw()\n",
            "c:\\Users\\7qrea\\AppData\\Local\\Programs\\Python\\Python310\\lib\\site-packages\\seaborn\\utils.py:80: UserWarning: Glyph 51032 (\\N{HANGUL SYLLABLE YI}) missing from current font.\n",
            "  fig.canvas.draw()\n",
            "c:\\Users\\7qrea\\AppData\\Local\\Programs\\Python\\Python310\\lib\\site-packages\\seaborn\\utils.py:80: UserWarning: Glyph 51076 (\\N{HANGUL SYLLABLE IM}) missing from current font.\n",
            "  fig.canvas.draw()\n",
            "c:\\Users\\7qrea\\AppData\\Local\\Programs\\Python\\Python310\\lib\\site-packages\\seaborn\\utils.py:80: UserWarning: Glyph 51077 (\\N{HANGUL SYLLABLE IB}) missing from current font.\n",
            "  fig.canvas.draw()\n",
            "c:\\Users\\7qrea\\AppData\\Local\\Programs\\Python\\Python310\\lib\\site-packages\\seaborn\\utils.py:80: UserWarning: Glyph 51204 (\\N{HANGUL SYLLABLE JEON}) missing from current font.\n",
            "  fig.canvas.draw()\n",
            "c:\\Users\\7qrea\\AppData\\Local\\Programs\\Python\\Python310\\lib\\site-packages\\seaborn\\utils.py:80: UserWarning: Glyph 51221 (\\N{HANGUL SYLLABLE JEONG}) missing from current font.\n",
            "  fig.canvas.draw()\n",
            "c:\\Users\\7qrea\\AppData\\Local\\Programs\\Python\\Python310\\lib\\site-packages\\seaborn\\utils.py:80: UserWarning: Glyph 46104 (\\N{HANGUL SYLLABLE DOE}) missing from current font.\n",
            "  fig.canvas.draw()\n",
            "c:\\Users\\7qrea\\AppData\\Local\\Programs\\Python\\Python310\\lib\\site-packages\\seaborn\\utils.py:80: UserWarning: Glyph 51652 (\\N{HANGUL SYLLABLE JIN}) missing from current font.\n",
            "  fig.canvas.draw()\n",
            "c:\\Users\\7qrea\\AppData\\Local\\Programs\\Python\\Python310\\lib\\site-packages\\seaborn\\utils.py:80: UserWarning: Glyph 45800 (\\N{HANGUL SYLLABLE DAN}) missing from current font.\n",
            "  fig.canvas.draw()\n",
            "c:\\Users\\7qrea\\AppData\\Local\\Programs\\Python\\Python310\\lib\\site-packages\\seaborn\\utils.py:80: UserWarning: Glyph 49436 (\\N{HANGUL SYLLABLE SEO}) missing from current font.\n",
            "  fig.canvas.draw()\n",
            "c:\\Users\\7qrea\\AppData\\Local\\Programs\\Python\\Python310\\lib\\site-packages\\seaborn\\utils.py:80: UserWarning: Glyph 52397 (\\N{HANGUL SYLLABLE CEONG}) missing from current font.\n",
            "  fig.canvas.draw()\n",
            "c:\\Users\\7qrea\\AppData\\Local\\Programs\\Python\\Python310\\lib\\site-packages\\seaborn\\utils.py:80: UserWarning: Glyph 50728 (\\N{HANGUL SYLLABLE ON}) missing from current font.\n",
            "  fig.canvas.draw()\n",
            "c:\\Users\\7qrea\\AppData\\Local\\Programs\\Python\\Python310\\lib\\site-packages\\seaborn\\utils.py:80: UserWarning: Glyph 52649 (\\N{HANGUL SYLLABLE CUNG}) missing from current font.\n",
            "  fig.canvas.draw()\n",
            "c:\\Users\\7qrea\\AppData\\Local\\Programs\\Python\\Python310\\lib\\site-packages\\seaborn\\utils.py:80: UserWarning: Glyph 52824 (\\N{HANGUL SYLLABLE CI}) missing from current font.\n",
            "  fig.canvas.draw()\n",
            "c:\\Users\\7qrea\\AppData\\Local\\Programs\\Python\\Python310\\lib\\site-packages\\seaborn\\utils.py:80: UserWarning: Glyph 44284 (\\N{HANGUL SYLLABLE GWA}) missing from current font.\n",
            "  fig.canvas.draw()\n",
            "c:\\Users\\7qrea\\AppData\\Local\\Programs\\Python\\Python310\\lib\\site-packages\\seaborn\\utils.py:80: UserWarning: Glyph 47308 (\\N{HANGUL SYLLABLE RYO}) missing from current font.\n",
            "  fig.canvas.draw()\n",
            "c:\\Users\\7qrea\\AppData\\Local\\Programs\\Python\\Python310\\lib\\site-packages\\seaborn\\utils.py:80: UserWarning: Glyph 48277 (\\N{HANGUL SYLLABLE BEOB}) missing from current font.\n",
            "  fig.canvas.draw()\n",
            "c:\\Users\\7qrea\\AppData\\Local\\Programs\\Python\\Python310\\lib\\site-packages\\seaborn\\utils.py:80: UserWarning: Glyph 47588 (\\N{HANGUL SYLLABLE MAE}) missing from current font.\n",
            "  fig.canvas.draw()\n",
            "c:\\Users\\7qrea\\AppData\\Local\\Programs\\Python\\Python310\\lib\\site-packages\\seaborn\\utils.py:80: UserWarning: Glyph 52860 (\\N{HANGUL SYLLABLE KAL}) missing from current font.\n",
            "  fig.canvas.draw()\n",
            "c:\\Users\\7qrea\\AppData\\Local\\Programs\\Python\\Python310\\lib\\site-packages\\seaborn\\utils.py:80: UserWarning: Glyph 49816 (\\N{HANGUL SYLLABLE SYUM}) missing from current font.\n",
            "  fig.canvas.draw()\n",
            "c:\\Users\\7qrea\\AppData\\Local\\Programs\\Python\\Python310\\lib\\site-packages\\seaborn\\utils.py:80: UserWarning: Glyph 53095 (\\N{HANGUL SYLLABLE KOS}) missing from current font.\n",
            "  fig.canvas.draw()\n",
            "c:\\Users\\7qrea\\AppData\\Local\\Programs\\Python\\Python310\\lib\\site-packages\\seaborn\\utils.py:80: UserWarning: Glyph 47932 (\\N{HANGUL SYLLABLE MUL}) missing from current font.\n",
            "  fig.canvas.draw()\n",
            "c:\\Users\\7qrea\\AppData\\Local\\Programs\\Python\\Python310\\lib\\site-packages\\seaborn\\utils.py:80: UserWarning: Glyph 53748 (\\N{HANGUL SYLLABLE TOE}) missing from current font.\n",
            "  fig.canvas.draw()\n",
            "c:\\Users\\7qrea\\AppData\\Local\\Programs\\Python\\Python310\\lib\\site-packages\\seaborn\\utils.py:80: UserWarning: Glyph 54036 (\\N{HANGUL SYLLABLE PAL}) missing from current font.\n",
            "  fig.canvas.draw()\n",
            "c:\\Users\\7qrea\\AppData\\Local\\Programs\\Python\\Python310\\lib\\site-packages\\seaborn\\utils.py:80: UserWarning: Glyph 54620 (\\N{HANGUL SYLLABLE HAN}) missing from current font.\n",
            "  fig.canvas.draw()\n",
            "c:\\Users\\7qrea\\AppData\\Local\\Programs\\Python\\Python310\\lib\\site-packages\\seaborn\\utils.py:80: UserWarning: Glyph 48169 (\\N{HANGUL SYLLABLE BANG}) missing from current font.\n",
            "  fig.canvas.draw()\n",
            "c:\\Users\\7qrea\\AppData\\Local\\Programs\\Python\\Python310\\lib\\site-packages\\seaborn\\utils.py:80: UserWarning: Glyph 50529 (\\N{HANGUL SYLLABLE AEG}) missing from current font.\n",
            "  fig.canvas.draw()\n",
            "c:\\Users\\7qrea\\AppData\\Local\\Programs\\Python\\Python310\\lib\\site-packages\\seaborn\\utils.py:80: UserWarning: Glyph 54805 (\\N{HANGUL SYLLABLE HYEONG}) missing from current font.\n",
            "  fig.canvas.draw()\n",
            "c:\\Users\\7qrea\\AppData\\Local\\Programs\\Python\\Python310\\lib\\site-packages\\seaborn\\utils.py:80: UserWarning: Glyph 54872 (\\N{HANGUL SYLLABLE HWAN}) missing from current font.\n",
            "  fig.canvas.draw()\n",
            "c:\\Users\\7qrea\\AppData\\Local\\Programs\\Python\\Python310\\lib\\site-packages\\seaborn\\utils.py:80: UserWarning: Glyph 51088 (\\N{HANGUL SYLLABLE JA}) missing from current font.\n",
            "  fig.canvas.draw()\n",
            "c:\\Users\\7qrea\\AppData\\Local\\Programs\\Python\\Python310\\lib\\site-packages\\seaborn\\utils.py:80: UserWarning: Glyph 54924 (\\N{HANGUL SYLLABLE HOE}) missing from current font.\n",
            "  fig.canvas.draw()\n",
            "c:\\Users\\7qrea\\AppData\\Local\\Programs\\Python\\Python310\\lib\\site-packages\\IPython\\core\\pylabtools.py:151: UserWarning: Glyph 44032 (\\N{HANGUL SYLLABLE GA}) missing from current font.\n",
            "  fig.canvas.print_figure(bytes_io, **kw)\n",
            "c:\\Users\\7qrea\\AppData\\Local\\Programs\\Python\\Python310\\lib\\site-packages\\IPython\\core\\pylabtools.py:151: UserWarning: Glyph 47157 (\\N{HANGUL SYLLABLE RYEOB}) missing from current font.\n",
            "  fig.canvas.print_figure(bytes_io, **kw)\n",
            "c:\\Users\\7qrea\\AppData\\Local\\Programs\\Python\\Python310\\lib\\site-packages\\IPython\\core\\pylabtools.py:151: UserWarning: Glyph 45796 (\\N{HANGUL SYLLABLE DA}) missing from current font.\n",
            "  fig.canvas.print_figure(bytes_io, **kw)\n",
            "c:\\Users\\7qrea\\AppData\\Local\\Programs\\Python\\Python310\\lib\\site-packages\\IPython\\core\\pylabtools.py:151: UserWarning: Glyph 47336 (\\N{HANGUL SYLLABLE RU}) missing from current font.\n",
            "  fig.canvas.print_figure(bytes_io, **kw)\n",
            "c:\\Users\\7qrea\\AppData\\Local\\Programs\\Python\\Python310\\lib\\site-packages\\IPython\\core\\pylabtools.py:151: UserWarning: Glyph 50557 (\\N{HANGUL SYLLABLE YAG}) missing from current font.\n",
            "  fig.canvas.print_figure(bytes_io, **kw)\n",
            "c:\\Users\\7qrea\\AppData\\Local\\Programs\\Python\\Python310\\lib\\site-packages\\IPython\\core\\pylabtools.py:151: UserWarning: Glyph 44036 (\\N{HANGUL SYLLABLE GAN}) missing from current font.\n",
            "  fig.canvas.print_figure(bytes_io, **kw)\n",
            "c:\\Users\\7qrea\\AppData\\Local\\Programs\\Python\\Python310\\lib\\site-packages\\IPython\\core\\pylabtools.py:151: UserWarning: Glyph 54840 (\\N{HANGUL SYLLABLE HO}) missing from current font.\n",
            "  fig.canvas.print_figure(bytes_io, **kw)\n",
            "c:\\Users\\7qrea\\AppData\\Local\\Programs\\Python\\Python310\\lib\\site-packages\\IPython\\core\\pylabtools.py:151: UserWarning: Glyph 49324 (\\N{HANGUL SYLLABLE SA}) missing from current font.\n",
            "  fig.canvas.print_figure(bytes_io, **kw)\n",
            "c:\\Users\\7qrea\\AppData\\Local\\Programs\\Python\\Python310\\lib\\site-packages\\IPython\\core\\pylabtools.py:151: UserWarning: Glyph 44048 (\\N{HANGUL SYLLABLE GAM}) missing from current font.\n",
            "  fig.canvas.print_figure(bytes_io, **kw)\n",
            "c:\\Users\\7qrea\\AppData\\Local\\Programs\\Python\\Python310\\lib\\site-packages\\IPython\\core\\pylabtools.py:151: UserWarning: Glyph 44592 (\\N{HANGUL SYLLABLE GI}) missing from current font.\n",
            "  fig.canvas.print_figure(bytes_io, **kw)\n",
            "c:\\Users\\7qrea\\AppData\\Local\\Programs\\Python\\Python310\\lib\\site-packages\\IPython\\core\\pylabtools.py:151: UserWarning: Glyph 50684 (\\N{HANGUL SYLLABLE YEOM}) missing from current font.\n",
            "  fig.canvas.print_figure(bytes_io, **kw)\n",
            "c:\\Users\\7qrea\\AppData\\Local\\Programs\\Python\\Python310\\lib\\site-packages\\IPython\\core\\pylabtools.py:151: UserWarning: Glyph 48337 (\\N{HANGUL SYLLABLE BYEONG}) missing from current font.\n",
            "  fig.canvas.print_figure(bytes_io, **kw)\n",
            "c:\\Users\\7qrea\\AppData\\Local\\Programs\\Python\\Python310\\lib\\site-packages\\IPython\\core\\pylabtools.py:151: UserWarning: Glyph 44148 (\\N{HANGUL SYLLABLE GEON}) missing from current font.\n",
            "  fig.canvas.print_figure(bytes_io, **kw)\n",
            "c:\\Users\\7qrea\\AppData\\Local\\Programs\\Python\\Python310\\lib\\site-packages\\IPython\\core\\pylabtools.py:151: UserWarning: Glyph 44053 (\\N{HANGUL SYLLABLE GANG}) missing from current font.\n",
            "  fig.canvas.print_figure(bytes_io, **kw)\n",
            "c:\\Users\\7qrea\\AppData\\Local\\Programs\\Python\\Python310\\lib\\site-packages\\IPython\\core\\pylabtools.py:151: UserWarning: Glyph 44264 (\\N{HANGUL SYLLABLE GOL}) missing from current font.\n",
            "  fig.canvas.print_figure(bytes_io, **kw)\n",
            "c:\\Users\\7qrea\\AppData\\Local\\Programs\\Python\\Python310\\lib\\site-packages\\IPython\\core\\pylabtools.py:151: UserWarning: Glyph 51208 (\\N{HANGUL SYLLABLE JEOL}) missing from current font.\n",
            "  fig.canvas.print_figure(bytes_io, **kw)\n",
            "c:\\Users\\7qrea\\AppData\\Local\\Programs\\Python\\Python310\\lib\\site-packages\\IPython\\core\\pylabtools.py:151: UserWarning: Glyph 44396 (\\N{HANGUL SYLLABLE GU}) missing from current font.\n",
            "  fig.canvas.print_figure(bytes_io, **kw)\n",
            "c:\\Users\\7qrea\\AppData\\Local\\Programs\\Python\\Python310\\lib\\site-packages\\IPython\\core\\pylabtools.py:151: UserWarning: Glyph 44553 (\\N{HANGUL SYLLABLE GEUB}) missing from current font.\n",
            "  fig.canvas.print_figure(bytes_io, **kw)\n",
            "c:\\Users\\7qrea\\AppData\\Local\\Programs\\Python\\Python310\\lib\\site-packages\\IPython\\core\\pylabtools.py:151: UserWarning: Glyph 52264 (\\N{HANGUL SYLLABLE CA}) missing from current font.\n",
            "  fig.canvas.print_figure(bytes_io, **kw)\n",
            "c:\\Users\\7qrea\\AppData\\Local\\Programs\\Python\\Python310\\lib\\site-packages\\IPython\\core\\pylabtools.py:151: UserWarning: Glyph 45817 (\\N{HANGUL SYLLABLE DANG}) missing from current font.\n",
            "  fig.canvas.print_figure(bytes_io, **kw)\n",
            "c:\\Users\\7qrea\\AppData\\Local\\Programs\\Python\\Python310\\lib\\site-packages\\IPython\\core\\pylabtools.py:151: UserWarning: Glyph 45544 (\\N{HANGUL SYLLABLE NYO}) missing from current font.\n",
            "  fig.canvas.print_figure(bytes_io, **kw)\n",
            "c:\\Users\\7qrea\\AppData\\Local\\Programs\\Python\\Python310\\lib\\site-packages\\IPython\\core\\pylabtools.py:151: UserWarning: Glyph 47924 (\\N{HANGUL SYLLABLE MU}) missing from current font.\n",
            "  fig.canvas.print_figure(bytes_io, **kw)\n",
            "c:\\Users\\7qrea\\AppData\\Local\\Programs\\Python\\Python310\\lib\\site-packages\\IPython\\core\\pylabtools.py:151: UserWarning: Glyph 53685 (\\N{HANGUL SYLLABLE TONG}) missing from current font.\n",
            "  fig.canvas.print_figure(bytes_io, **kw)\n",
            "c:\\Users\\7qrea\\AppData\\Local\\Programs\\Python\\Python310\\lib\\site-packages\\IPython\\core\\pylabtools.py:151: UserWarning: Glyph 48156 (\\N{HANGUL SYLLABLE BAL}) missing from current font.\n",
            "  fig.canvas.print_figure(bytes_io, **kw)\n",
            "c:\\Users\\7qrea\\AppData\\Local\\Programs\\Python\\Python310\\lib\\site-packages\\IPython\\core\\pylabtools.py:151: UserWarning: Glyph 46973 (\\N{HANGUL SYLLABLE RAG}) missing from current font.\n",
            "  fig.canvas.print_figure(bytes_io, **kw)\n",
            "c:\\Users\\7qrea\\AppData\\Local\\Programs\\Python\\Python310\\lib\\site-packages\\IPython\\core\\pylabtools.py:151: UserWarning: Glyph 47749 (\\N{HANGUL SYLLABLE MYEONG}) missing from current font.\n",
            "  fig.canvas.print_figure(bytes_io, **kw)\n",
            "c:\\Users\\7qrea\\AppData\\Local\\Programs\\Python\\Python310\\lib\\site-packages\\IPython\\core\\pylabtools.py:151: UserWarning: Glyph 47928 (\\N{HANGUL SYLLABLE MUN}) missing from current font.\n",
            "  fig.canvas.print_figure(bytes_io, **kw)\n",
            "c:\\Users\\7qrea\\AppData\\Local\\Programs\\Python\\Python310\\lib\\site-packages\\IPython\\core\\pylabtools.py:151: UserWarning: Glyph 50504 (\\N{HANGUL SYLLABLE AN}) missing from current font.\n",
            "  fig.canvas.print_figure(bytes_io, **kw)\n",
            "c:\\Users\\7qrea\\AppData\\Local\\Programs\\Python\\Python310\\lib\\site-packages\\IPython\\core\\pylabtools.py:151: UserWarning: Glyph 50896 (\\N{HANGUL SYLLABLE WEON}) missing from current font.\n",
            "  fig.canvas.print_figure(bytes_io, **kw)\n",
            "c:\\Users\\7qrea\\AppData\\Local\\Programs\\Python\\Python310\\lib\\site-packages\\IPython\\core\\pylabtools.py:151: UserWarning: Glyph 48372 (\\N{HANGUL SYLLABLE BO}) missing from current font.\n",
            "  fig.canvas.print_figure(bytes_io, **kw)\n",
            "c:\\Users\\7qrea\\AppData\\Local\\Programs\\Python\\Python310\\lib\\site-packages\\IPython\\core\\pylabtools.py:151: UserWarning: Glyph 48373 (\\N{HANGUL SYLLABLE BOG}) missing from current font.\n",
            "  fig.canvas.print_figure(bytes_io, **kw)\n",
            "c:\\Users\\7qrea\\AppData\\Local\\Programs\\Python\\Python310\\lib\\site-packages\\IPython\\core\\pylabtools.py:151: UserWarning: Glyph 51648 (\\N{HANGUL SYLLABLE JI}) missing from current font.\n",
            "  fig.canvas.print_figure(bytes_io, **kw)\n",
            "c:\\Users\\7qrea\\AppData\\Local\\Programs\\Python\\Python310\\lib\\site-packages\\IPython\\core\\pylabtools.py:151: UserWarning: Glyph 48512 (\\N{HANGUL SYLLABLE BU}) missing from current font.\n",
            "  fig.canvas.print_figure(bytes_io, **kw)\n",
            "c:\\Users\\7qrea\\AppData\\Local\\Programs\\Python\\Python310\\lib\\site-packages\\IPython\\core\\pylabtools.py:151: UserWarning: Glyph 49548 (\\N{HANGUL SYLLABLE SO}) missing from current font.\n",
            "  fig.canvas.print_figure(bytes_io, **kw)\n",
            "c:\\Users\\7qrea\\AppData\\Local\\Programs\\Python\\Python310\\lib\\site-packages\\IPython\\core\\pylabtools.py:151: UserWarning: Glyph 48520 (\\N{HANGUL SYLLABLE BUL}) missing from current font.\n",
            "  fig.canvas.print_figure(bytes_io, **kw)\n",
            "c:\\Users\\7qrea\\AppData\\Local\\Programs\\Python\\Python310\\lib\\site-packages\\IPython\\core\\pylabtools.py:151: UserWarning: Glyph 47732 (\\N{HANGUL SYLLABLE MYEON}) missing from current font.\n",
            "  fig.canvas.print_figure(bytes_io, **kw)\n",
            "c:\\Users\\7qrea\\AppData\\Local\\Programs\\Python\\Python310\\lib\\site-packages\\IPython\\core\\pylabtools.py:151: UserWarning: Glyph 51613 (\\N{HANGUL SYLLABLE JEUNG}) missing from current font.\n",
            "  fig.canvas.print_figure(bytes_io, **kw)\n",
            "c:\\Users\\7qrea\\AppData\\Local\\Programs\\Python\\Python310\\lib\\site-packages\\IPython\\core\\pylabtools.py:151: UserWarning: Glyph 48531 (\\N{HANGUL SYLLABLE BUS}) missing from current font.\n",
            "  fig.canvas.print_figure(bytes_io, **kw)\n",
            "c:\\Users\\7qrea\\AppData\\Local\\Programs\\Python\\Python310\\lib\\site-packages\\IPython\\core\\pylabtools.py:151: UserWarning: Glyph 48533 (\\N{HANGUL SYLLABLE BUNG}) missing from current font.\n",
            "  fig.canvas.print_figure(bytes_io, **kw)\n",
            "c:\\Users\\7qrea\\AppData\\Local\\Programs\\Python\\Python310\\lib\\site-packages\\IPython\\core\\pylabtools.py:151: UserWarning: Glyph 45824 (\\N{HANGUL SYLLABLE DAE}) missing from current font.\n",
            "  fig.canvas.print_figure(bytes_io, **kw)\n",
            "c:\\Users\\7qrea\\AppData\\Local\\Programs\\Python\\Python310\\lib\\site-packages\\IPython\\core\\pylabtools.py:151: UserWarning: Glyph 48712 (\\N{HANGUL SYLLABLE BIN}) missing from current font.\n",
            "  fig.canvas.print_figure(bytes_io, **kw)\n",
            "c:\\Users\\7qrea\\AppData\\Local\\Programs\\Python\\Python310\\lib\\site-packages\\IPython\\core\\pylabtools.py:151: UserWarning: Glyph 54792 (\\N{HANGUL SYLLABLE HYEOL}) missing from current font.\n",
            "  fig.canvas.print_figure(bytes_io, **kw)\n",
            "c:\\Users\\7qrea\\AppData\\Local\\Programs\\Python\\Python310\\lib\\site-packages\\IPython\\core\\pylabtools.py:151: UserWarning: Glyph 49345 (\\N{HANGUL SYLLABLE SANG}) missing from current font.\n",
            "  fig.canvas.print_figure(bytes_io, **kw)\n",
            "c:\\Users\\7qrea\\AppData\\Local\\Programs\\Python\\Python310\\lib\\site-packages\\IPython\\core\\pylabtools.py:151: UserWarning: Glyph 52376 (\\N{HANGUL SYLLABLE CEO}) missing from current font.\n",
            "  fig.canvas.print_figure(bytes_io, **kw)\n",
            "c:\\Users\\7qrea\\AppData\\Local\\Programs\\Python\\Python310\\lib\\site-packages\\IPython\\core\\pylabtools.py:151: UserWarning: Glyph 49353 (\\N{HANGUL SYLLABLE SAEG}) missing from current font.\n",
            "  fig.canvas.print_figure(bytes_io, **kw)\n",
            "c:\\Users\\7qrea\\AppData\\Local\\Programs\\Python\\Python310\\lib\\site-packages\\IPython\\core\\pylabtools.py:151: UserWarning: Glyph 47609 (\\N{HANGUL SYLLABLE MAENG}) missing from current font.\n",
            "  fig.canvas.print_figure(bytes_io, **kw)\n",
            "c:\\Users\\7qrea\\AppData\\Local\\Programs\\Python\\Python310\\lib\\site-packages\\IPython\\core\\pylabtools.py:151: UserWarning: Glyph 49457 (\\N{HANGUL SYLLABLE SEONG}) missing from current font.\n",
            "  fig.canvas.print_figure(bytes_io, **kw)\n",
            "c:\\Users\\7qrea\\AppData\\Local\\Programs\\Python\\Python310\\lib\\site-packages\\IPython\\core\\pylabtools.py:151: UserWarning: Glyph 54868 (\\N{HANGUL SYLLABLE HWA}) missing from current font.\n",
            "  fig.canvas.print_figure(bytes_io, **kw)\n",
            "c:\\Users\\7qrea\\AppData\\Local\\Programs\\Python\\Python310\\lib\\site-packages\\IPython\\core\\pylabtools.py:151: UserWarning: Glyph 47049 (\\N{HANGUL SYLLABLE RYANG}) missing from current font.\n",
            "  fig.canvas.print_figure(bytes_io, **kw)\n",
            "c:\\Users\\7qrea\\AppData\\Local\\Programs\\Python\\Python310\\lib\\site-packages\\IPython\\core\\pylabtools.py:151: UserWarning: Glyph 51228 (\\N{HANGUL SYLLABLE JE}) missing from current font.\n",
            "  fig.canvas.print_figure(bytes_io, **kw)\n",
            "c:\\Users\\7qrea\\AppData\\Local\\Programs\\Python\\Python310\\lib\\site-packages\\IPython\\core\\pylabtools.py:151: UserWarning: Glyph 49688 (\\N{HANGUL SYLLABLE SU}) missing from current font.\n",
            "  fig.canvas.print_figure(bytes_io, **kw)\n",
            "c:\\Users\\7qrea\\AppData\\Local\\Programs\\Python\\Python310\\lib\\site-packages\\IPython\\core\\pylabtools.py:151: UserWarning: Glyph 49692 (\\N{HANGUL SYLLABLE SUN}) missing from current font.\n",
            "  fig.canvas.print_figure(bytes_io, **kw)\n",
            "c:\\Users\\7qrea\\AppData\\Local\\Programs\\Python\\Python310\\lib\\site-packages\\IPython\\core\\pylabtools.py:151: UserWarning: Glyph 49328 (\\N{HANGUL SYLLABLE SAN}) missing from current font.\n",
            "  fig.canvas.print_figure(bytes_io, **kw)\n",
            "c:\\Users\\7qrea\\AppData\\Local\\Programs\\Python\\Python310\\lib\\site-packages\\IPython\\core\\pylabtools.py:151: UserWarning: Glyph 49885 (\\N{HANGUL SYLLABLE SIG}) missing from current font.\n",
            "  fig.canvas.print_figure(bytes_io, **kw)\n",
            "c:\\Users\\7qrea\\AppData\\Local\\Programs\\Python\\Python310\\lib\\site-packages\\IPython\\core\\pylabtools.py:151: UserWarning: Glyph 46020 (\\N{HANGUL SYLLABLE DO}) missing from current font.\n",
            "  fig.canvas.print_figure(bytes_io, **kw)\n",
            "c:\\Users\\7qrea\\AppData\\Local\\Programs\\Python\\Python310\\lib\\site-packages\\IPython\\core\\pylabtools.py:151: UserWarning: Glyph 49888 (\\N{HANGUL SYLLABLE SIN}) missing from current font.\n",
            "  fig.canvas.print_figure(bytes_io, **kw)\n",
            "c:\\Users\\7qrea\\AppData\\Local\\Programs\\Python\\Python310\\lib\\site-packages\\IPython\\core\\pylabtools.py:151: UserWarning: Glyph 52404 (\\N{HANGUL SYLLABLE CE}) missing from current font.\n",
            "  fig.canvas.print_figure(bytes_io, **kw)\n",
            "c:\\Users\\7qrea\\AppData\\Local\\Programs\\Python\\Python310\\lib\\site-packages\\IPython\\core\\pylabtools.py:151: UserWarning: Glyph 51201 (\\N{HANGUL SYLLABLE JEOG}) missing from current font.\n",
            "  fig.canvas.print_figure(bytes_io, **kw)\n",
            "c:\\Users\\7qrea\\AppData\\Local\\Programs\\Python\\Python310\\lib\\site-packages\\IPython\\core\\pylabtools.py:151: UserWarning: Glyph 51109 (\\N{HANGUL SYLLABLE JANG}) missing from current font.\n",
            "  fig.canvas.print_figure(bytes_io, **kw)\n",
            "c:\\Users\\7qrea\\AppData\\Local\\Programs\\Python\\Python310\\lib\\site-packages\\IPython\\core\\pylabtools.py:151: UserWarning: Glyph 50528 (\\N{HANGUL SYLLABLE AE}) missing from current font.\n",
            "  fig.canvas.print_figure(bytes_io, **kw)\n",
            "c:\\Users\\7qrea\\AppData\\Local\\Programs\\Python\\Python310\\lib\\site-packages\\IPython\\core\\pylabtools.py:151: UserWarning: Glyph 49892 (\\N{HANGUL SYLLABLE SIL}) missing from current font.\n",
            "  fig.canvas.print_figure(bytes_io, **kw)\n",
            "c:\\Users\\7qrea\\AppData\\Local\\Programs\\Python\\Python310\\lib\\site-packages\\IPython\\core\\pylabtools.py:151: UserWarning: Glyph 50500 (\\N{HANGUL SYLLABLE A}) missing from current font.\n",
            "  fig.canvas.print_figure(bytes_io, **kw)\n",
            "c:\\Users\\7qrea\\AppData\\Local\\Programs\\Python\\Python310\\lib\\site-packages\\IPython\\core\\pylabtools.py:151: UserWarning: Glyph 54532 (\\N{HANGUL SYLLABLE PEU}) missing from current font.\n",
            "  fig.canvas.print_figure(bytes_io, **kw)\n",
            "c:\\Users\\7qrea\\AppData\\Local\\Programs\\Python\\Python310\\lib\\site-packages\\IPython\\core\\pylabtools.py:151: UserWarning: Glyph 50508 (\\N{HANGUL SYLLABLE AL}) missing from current font.\n",
            "  fig.canvas.print_figure(bytes_io, **kw)\n",
            "c:\\Users\\7qrea\\AppData\\Local\\Programs\\Python\\Python310\\lib\\site-packages\\IPython\\core\\pylabtools.py:151: UserWarning: Glyph 53076 (\\N{HANGUL SYLLABLE KO}) missing from current font.\n",
            "  fig.canvas.print_figure(bytes_io, **kw)\n",
            "c:\\Users\\7qrea\\AppData\\Local\\Programs\\Python\\Python310\\lib\\site-packages\\IPython\\core\\pylabtools.py:151: UserWarning: Glyph 50732 (\\N{HANGUL SYLLABLE OL}) missing from current font.\n",
            "  fig.canvas.print_figure(bytes_io, **kw)\n",
            "c:\\Users\\7qrea\\AppData\\Local\\Programs\\Python\\Python310\\lib\\site-packages\\IPython\\core\\pylabtools.py:151: UserWarning: Glyph 51473 (\\N{HANGUL SYLLABLE JUNG}) missing from current font.\n",
            "  fig.canvas.print_figure(bytes_io, **kw)\n",
            "c:\\Users\\7qrea\\AppData\\Local\\Programs\\Python\\Python310\\lib\\site-packages\\IPython\\core\\pylabtools.py:151: UserWarning: Glyph 46021 (\\N{HANGUL SYLLABLE DOG}) missing from current font.\n",
            "  fig.canvas.print_figure(bytes_io, **kw)\n",
            "c:\\Users\\7qrea\\AppData\\Local\\Programs\\Python\\Python310\\lib\\site-packages\\IPython\\core\\pylabtools.py:151: UserWarning: Glyph 54617 (\\N{HANGUL SYLLABLE HAG}) missing from current font.\n",
            "  fig.canvas.print_figure(bytes_io, **kw)\n",
            "c:\\Users\\7qrea\\AppData\\Local\\Programs\\Python\\Python310\\lib\\site-packages\\IPython\\core\\pylabtools.py:151: UserWarning: Glyph 54952 (\\N{HANGUL SYLLABLE HYO}) missing from current font.\n",
            "  fig.canvas.print_figure(bytes_io, **kw)\n",
            "c:\\Users\\7qrea\\AppData\\Local\\Programs\\Python\\Python310\\lib\\site-packages\\IPython\\core\\pylabtools.py:151: UserWarning: Glyph 50668 (\\N{HANGUL SYLLABLE YEO}) missing from current font.\n",
            "  fig.canvas.print_figure(bytes_io, **kw)\n",
            "c:\\Users\\7qrea\\AppData\\Local\\Programs\\Python\\Python310\\lib\\site-packages\\IPython\\core\\pylabtools.py:151: UserWarning: Glyph 46300 (\\N{HANGUL SYLLABLE DEU}) missing from current font.\n",
            "  fig.canvas.print_figure(bytes_io, **kw)\n",
            "c:\\Users\\7qrea\\AppData\\Local\\Programs\\Python\\Python310\\lib\\site-packages\\IPython\\core\\pylabtools.py:151: UserWarning: Glyph 47492 (\\N{HANGUL SYLLABLE REUM}) missing from current font.\n",
            "  fig.canvas.print_figure(bytes_io, **kw)\n",
            "c:\\Users\\7qrea\\AppData\\Local\\Programs\\Python\\Python310\\lib\\site-packages\\IPython\\core\\pylabtools.py:151: UserWarning: Glyph 50864 (\\N{HANGUL SYLLABLE U}) missing from current font.\n",
            "  fig.canvas.print_figure(bytes_io, **kw)\n",
            "c:\\Users\\7qrea\\AppData\\Local\\Programs\\Python\\Python310\\lib\\site-packages\\IPython\\core\\pylabtools.py:151: UserWarning: Glyph 50872 (\\N{HANGUL SYLLABLE UL}) missing from current font.\n",
            "  fig.canvas.print_figure(bytes_io, **kw)\n",
            "c:\\Users\\7qrea\\AppData\\Local\\Programs\\Python\\Python310\\lib\\site-packages\\IPython\\core\\pylabtools.py:151: UserWarning: Glyph 51032 (\\N{HANGUL SYLLABLE YI}) missing from current font.\n",
            "  fig.canvas.print_figure(bytes_io, **kw)\n",
            "c:\\Users\\7qrea\\AppData\\Local\\Programs\\Python\\Python310\\lib\\site-packages\\IPython\\core\\pylabtools.py:151: UserWarning: Glyph 51076 (\\N{HANGUL SYLLABLE IM}) missing from current font.\n",
            "  fig.canvas.print_figure(bytes_io, **kw)\n",
            "c:\\Users\\7qrea\\AppData\\Local\\Programs\\Python\\Python310\\lib\\site-packages\\IPython\\core\\pylabtools.py:151: UserWarning: Glyph 51077 (\\N{HANGUL SYLLABLE IB}) missing from current font.\n",
            "  fig.canvas.print_figure(bytes_io, **kw)\n",
            "c:\\Users\\7qrea\\AppData\\Local\\Programs\\Python\\Python310\\lib\\site-packages\\IPython\\core\\pylabtools.py:151: UserWarning: Glyph 51204 (\\N{HANGUL SYLLABLE JEON}) missing from current font.\n",
            "  fig.canvas.print_figure(bytes_io, **kw)\n",
            "c:\\Users\\7qrea\\AppData\\Local\\Programs\\Python\\Python310\\lib\\site-packages\\IPython\\core\\pylabtools.py:151: UserWarning: Glyph 51221 (\\N{HANGUL SYLLABLE JEONG}) missing from current font.\n",
            "  fig.canvas.print_figure(bytes_io, **kw)\n",
            "c:\\Users\\7qrea\\AppData\\Local\\Programs\\Python\\Python310\\lib\\site-packages\\IPython\\core\\pylabtools.py:151: UserWarning: Glyph 46104 (\\N{HANGUL SYLLABLE DOE}) missing from current font.\n",
            "  fig.canvas.print_figure(bytes_io, **kw)\n",
            "c:\\Users\\7qrea\\AppData\\Local\\Programs\\Python\\Python310\\lib\\site-packages\\IPython\\core\\pylabtools.py:151: UserWarning: Glyph 51652 (\\N{HANGUL SYLLABLE JIN}) missing from current font.\n",
            "  fig.canvas.print_figure(bytes_io, **kw)\n",
            "c:\\Users\\7qrea\\AppData\\Local\\Programs\\Python\\Python310\\lib\\site-packages\\IPython\\core\\pylabtools.py:151: UserWarning: Glyph 45800 (\\N{HANGUL SYLLABLE DAN}) missing from current font.\n",
            "  fig.canvas.print_figure(bytes_io, **kw)\n",
            "c:\\Users\\7qrea\\AppData\\Local\\Programs\\Python\\Python310\\lib\\site-packages\\IPython\\core\\pylabtools.py:151: UserWarning: Glyph 49436 (\\N{HANGUL SYLLABLE SEO}) missing from current font.\n",
            "  fig.canvas.print_figure(bytes_io, **kw)\n",
            "c:\\Users\\7qrea\\AppData\\Local\\Programs\\Python\\Python310\\lib\\site-packages\\IPython\\core\\pylabtools.py:151: UserWarning: Glyph 52397 (\\N{HANGUL SYLLABLE CEONG}) missing from current font.\n",
            "  fig.canvas.print_figure(bytes_io, **kw)\n",
            "c:\\Users\\7qrea\\AppData\\Local\\Programs\\Python\\Python310\\lib\\site-packages\\IPython\\core\\pylabtools.py:151: UserWarning: Glyph 50728 (\\N{HANGUL SYLLABLE ON}) missing from current font.\n",
            "  fig.canvas.print_figure(bytes_io, **kw)\n",
            "c:\\Users\\7qrea\\AppData\\Local\\Programs\\Python\\Python310\\lib\\site-packages\\IPython\\core\\pylabtools.py:151: UserWarning: Glyph 52649 (\\N{HANGUL SYLLABLE CUNG}) missing from current font.\n",
            "  fig.canvas.print_figure(bytes_io, **kw)\n",
            "c:\\Users\\7qrea\\AppData\\Local\\Programs\\Python\\Python310\\lib\\site-packages\\IPython\\core\\pylabtools.py:151: UserWarning: Glyph 52824 (\\N{HANGUL SYLLABLE CI}) missing from current font.\n",
            "  fig.canvas.print_figure(bytes_io, **kw)\n",
            "c:\\Users\\7qrea\\AppData\\Local\\Programs\\Python\\Python310\\lib\\site-packages\\IPython\\core\\pylabtools.py:151: UserWarning: Glyph 44284 (\\N{HANGUL SYLLABLE GWA}) missing from current font.\n",
            "  fig.canvas.print_figure(bytes_io, **kw)\n",
            "c:\\Users\\7qrea\\AppData\\Local\\Programs\\Python\\Python310\\lib\\site-packages\\IPython\\core\\pylabtools.py:151: UserWarning: Glyph 47308 (\\N{HANGUL SYLLABLE RYO}) missing from current font.\n",
            "  fig.canvas.print_figure(bytes_io, **kw)\n",
            "c:\\Users\\7qrea\\AppData\\Local\\Programs\\Python\\Python310\\lib\\site-packages\\IPython\\core\\pylabtools.py:151: UserWarning: Glyph 48277 (\\N{HANGUL SYLLABLE BEOB}) missing from current font.\n",
            "  fig.canvas.print_figure(bytes_io, **kw)\n",
            "c:\\Users\\7qrea\\AppData\\Local\\Programs\\Python\\Python310\\lib\\site-packages\\IPython\\core\\pylabtools.py:151: UserWarning: Glyph 47588 (\\N{HANGUL SYLLABLE MAE}) missing from current font.\n",
            "  fig.canvas.print_figure(bytes_io, **kw)\n",
            "c:\\Users\\7qrea\\AppData\\Local\\Programs\\Python\\Python310\\lib\\site-packages\\IPython\\core\\pylabtools.py:151: UserWarning: Glyph 52860 (\\N{HANGUL SYLLABLE KAL}) missing from current font.\n",
            "  fig.canvas.print_figure(bytes_io, **kw)\n",
            "c:\\Users\\7qrea\\AppData\\Local\\Programs\\Python\\Python310\\lib\\site-packages\\IPython\\core\\pylabtools.py:151: UserWarning: Glyph 49816 (\\N{HANGUL SYLLABLE SYUM}) missing from current font.\n",
            "  fig.canvas.print_figure(bytes_io, **kw)\n",
            "c:\\Users\\7qrea\\AppData\\Local\\Programs\\Python\\Python310\\lib\\site-packages\\IPython\\core\\pylabtools.py:151: UserWarning: Glyph 53095 (\\N{HANGUL SYLLABLE KOS}) missing from current font.\n",
            "  fig.canvas.print_figure(bytes_io, **kw)\n",
            "c:\\Users\\7qrea\\AppData\\Local\\Programs\\Python\\Python310\\lib\\site-packages\\IPython\\core\\pylabtools.py:151: UserWarning: Glyph 47932 (\\N{HANGUL SYLLABLE MUL}) missing from current font.\n",
            "  fig.canvas.print_figure(bytes_io, **kw)\n",
            "c:\\Users\\7qrea\\AppData\\Local\\Programs\\Python\\Python310\\lib\\site-packages\\IPython\\core\\pylabtools.py:151: UserWarning: Glyph 53748 (\\N{HANGUL SYLLABLE TOE}) missing from current font.\n",
            "  fig.canvas.print_figure(bytes_io, **kw)\n",
            "c:\\Users\\7qrea\\AppData\\Local\\Programs\\Python\\Python310\\lib\\site-packages\\IPython\\core\\pylabtools.py:151: UserWarning: Glyph 54036 (\\N{HANGUL SYLLABLE PAL}) missing from current font.\n",
            "  fig.canvas.print_figure(bytes_io, **kw)\n",
            "c:\\Users\\7qrea\\AppData\\Local\\Programs\\Python\\Python310\\lib\\site-packages\\IPython\\core\\pylabtools.py:151: UserWarning: Glyph 54620 (\\N{HANGUL SYLLABLE HAN}) missing from current font.\n",
            "  fig.canvas.print_figure(bytes_io, **kw)\n",
            "c:\\Users\\7qrea\\AppData\\Local\\Programs\\Python\\Python310\\lib\\site-packages\\IPython\\core\\pylabtools.py:151: UserWarning: Glyph 48169 (\\N{HANGUL SYLLABLE BANG}) missing from current font.\n",
            "  fig.canvas.print_figure(bytes_io, **kw)\n",
            "c:\\Users\\7qrea\\AppData\\Local\\Programs\\Python\\Python310\\lib\\site-packages\\IPython\\core\\pylabtools.py:151: UserWarning: Glyph 50529 (\\N{HANGUL SYLLABLE AEG}) missing from current font.\n",
            "  fig.canvas.print_figure(bytes_io, **kw)\n",
            "c:\\Users\\7qrea\\AppData\\Local\\Programs\\Python\\Python310\\lib\\site-packages\\IPython\\core\\pylabtools.py:151: UserWarning: Glyph 54805 (\\N{HANGUL SYLLABLE HYEONG}) missing from current font.\n",
            "  fig.canvas.print_figure(bytes_io, **kw)\n",
            "c:\\Users\\7qrea\\AppData\\Local\\Programs\\Python\\Python310\\lib\\site-packages\\IPython\\core\\pylabtools.py:151: UserWarning: Glyph 54872 (\\N{HANGUL SYLLABLE HWAN}) missing from current font.\n",
            "  fig.canvas.print_figure(bytes_io, **kw)\n",
            "c:\\Users\\7qrea\\AppData\\Local\\Programs\\Python\\Python310\\lib\\site-packages\\IPython\\core\\pylabtools.py:151: UserWarning: Glyph 51088 (\\N{HANGUL SYLLABLE JA}) missing from current font.\n",
            "  fig.canvas.print_figure(bytes_io, **kw)\n",
            "c:\\Users\\7qrea\\AppData\\Local\\Programs\\Python\\Python310\\lib\\site-packages\\IPython\\core\\pylabtools.py:151: UserWarning: Glyph 54924 (\\N{HANGUL SYLLABLE HOE}) missing from current font.\n",
            "  fig.canvas.print_figure(bytes_io, **kw)\n"
          ]
        },
        {
          "data": {
            "image/png": "[encoded data removed]",
            "text/plain": [
              "<Figure size 2500x2500 with 2 Axes>"
            ]
          },
          "metadata": {},
          "output_type": "display_data"
        }
      ],
      "source": [
        "import seaborn as sns\n",
        "# Load your validation data and get model predictions\n",
        "validation_data = valid_data  # Load your validation data\n",
        "validation_labels = valid_label  # True labels for validation data\n",
        "\n",
        "predicted_labels = trained_model.predict(validation_data)\n",
        "predicted_labels = np.argmax(predicted_labels, axis=1)  # 원핫 인코딩된 예측을 클래스 레이블로 변환합니다.\n",
        "\n",
        "# Confusion matrix를 계산합니다.\n",
        "cm = confusion_matrix(validation_labels, predicted_labels)\n",
        "\n",
        "# 클래스 레이블을 설정합니다.\n",
        "class_labels = label_processor.get_vocabulary()  # 클래스 레이블을 가져옵니다.\n",
        "\n",
        "# Confusion matrix를 시각화합니다.\n",
        "plt.figure(figsize=(25,25))  # 이미지 크기 설정\n",
        "sns.set(font_scale=0.5)  # 글꼴 크기 설정\n",
        "\n",
        "# Seaborn을 사용하여 heatmap을 그립니다.\n",
        "sns.heatmap(cm, annot=False, fmt='d', cmap='Blues', xticklabels=class_labels, yticklabels=class_labels)\n",
        "\n",
        "plt.title(\"Confusion Matrix for Validation Data\")\n",
        "plt.xlabel(\"Predicted\")\n",
        "plt.ylabel(\"True\")\n",
        "plt.show()"
      ]
    },
    {
      "cell_type": "code",
      "execution_count": null,
      "metadata": {
        "id": "_Y6gYkqkbOr7"
      },
      "outputs": [],
      "source": []
    },
    {
      "cell_type": "markdown",
      "metadata": {
        "id": "hM_9e9zB6gvE"
      },
      "source": [
        "# Inference"
      ]
    },
    {
      "cell_type": "code",
      "execution_count": 29,
      "metadata": {
        "id": "-mRNkSC8Arei"
      },
      "outputs": [],
      "source": [
        "data = {\n",
        "    'filename': [\n",
        "        '치료법_박태휘.mp4',\n",
        "        '치료법_문성우.mp4',\n",
        "        '여드름_박태휘.mp4',\n",
        "        '막히다_문성우.mp4',\n",
        "        '코_채성혁.mp4',\n",
        "        '팔_채성혁.mp4',\n",
        "        '아프다_채성혁.mp4',\n",
        "        '팔_이선여.mp4'\n",
        "    ],\n",
        "    'label':[\n",
        "        '치료법',\n",
        "        '치료법',\n",
        "        '여드름',\n",
        "        '막히다',\n",
        "        '코',\n",
        "        '팔',\n",
        "        '아프다',\n",
        "        '팔'\n",
        "    ]\n",
        "}"
      ]
    },
    {
      "cell_type": "code",
      "execution_count": 30,
      "metadata": {
        "colab": {
          "base_uri": "https://localhost:8080/",
          "height": 300
        },
        "id": "WC4ojTPXA7gH",
        "outputId": "c4064ba5-0231-4667-bec9-26b8b1331d13"
      },
      "outputs": [
        {
          "data": {
            "text/html": [
              "<div>\n",
              "<style scoped>\n",
              "    .dataframe tbody tr th:only-of-type {\n",
              "        vertical-align: middle;\n",
              "    }\n",
              "\n",
              "    .dataframe tbody tr th {\n",
              "        vertical-align: top;\n",
              "    }\n",
              "\n",
              "    .dataframe thead th {\n",
              "        text-align: right;\n",
              "    }\n",
              "</style>\n",
              "<table border=\"1\" class=\"dataframe\">\n",
              "  <thead>\n",
              "    <tr style=\"text-align: right;\">\n",
              "      <th></th>\n",
              "      <th>filename</th>\n",
              "      <th>label</th>\n",
              "    </tr>\n",
              "  </thead>\n",
              "  <tbody>\n",
              "    <tr>\n",
              "      <th>0</th>\n",
              "      <td>치료법_박태휘.mp4</td>\n",
              "      <td>치료법</td>\n",
              "    </tr>\n",
              "    <tr>\n",
              "      <th>1</th>\n",
              "      <td>치료법_문성우.mp4</td>\n",
              "      <td>치료법</td>\n",
              "    </tr>\n",
              "    <tr>\n",
              "      <th>2</th>\n",
              "      <td>여드름_박태휘.mp4</td>\n",
              "      <td>여드름</td>\n",
              "    </tr>\n",
              "    <tr>\n",
              "      <th>3</th>\n",
              "      <td>막히다_문성우.mp4</td>\n",
              "      <td>막히다</td>\n",
              "    </tr>\n",
              "    <tr>\n",
              "      <th>4</th>\n",
              "      <td>코_채성혁.mp4</td>\n",
              "      <td>코</td>\n",
              "    </tr>\n",
              "    <tr>\n",
              "      <th>5</th>\n",
              "      <td>팔_채성혁.mp4</td>\n",
              "      <td>팔</td>\n",
              "    </tr>\n",
              "    <tr>\n",
              "      <th>6</th>\n",
              "      <td>아프다_채성혁.mp4</td>\n",
              "      <td>아프다</td>\n",
              "    </tr>\n",
              "    <tr>\n",
              "      <th>7</th>\n",
              "      <td>팔_이선여.mp4</td>\n",
              "      <td>팔</td>\n",
              "    </tr>\n",
              "  </tbody>\n",
              "</table>\n",
              "</div>"
            ],
            "text/plain": [
              "               filename label\n",
              "0   치료법_박태휘.mp4   치료법\n",
              "1  치료법_문성우.mp4   치료법\n",
              "2   여드름_박태휘.mp4   여드름\n",
              "3  막히다_문성우.mp4   막히다\n",
              "4       코_채성혁.mp4     코\n",
              "5      팔_채성혁.mp4     팔\n",
              "6   아프다_채성혁.mp4   아프다\n",
              "7       팔_이선여.mp4     팔"
            ]
          },
          "execution_count": 30,
          "metadata": {},
          "output_type": "execute_result"
        }
      ],
      "source": [
        "test_data1 = pd.DataFrame(data)\n",
        "test_data1"
      ]
    },
    {
      "cell_type": "code",
      "execution_count": 31,
      "metadata": {
        "colab": {
          "base_uri": "https://localhost:8080/"
        },
        "id": "cLeg5fv5E1N7",
        "outputId": "55f5b0b6-41cd-44be-d13f-e3ed1904d4a9"
      },
      "outputs": [
        {
          "name": "stdout",
          "output_type": "stream",
          "text": [
            "['막히다', '아프다', '여드름', '치료법', '코', '팔']\n"
          ]
        }
      ],
      "source": [
        "test_label_processor = keras.layers.StringLookup(\n",
        "    num_oov_indices=0, vocabulary=np.unique(test_data1[\"label\"])\n",
        ")\n",
        "print(test_label_processor.get_vocabulary())"
      ]
    },
    {
      "cell_type": "code",
      "execution_count": 32,
      "metadata": {
        "colab": {
          "base_uri": "https://localhost:8080/"
        },
        "id": "hI-88dIW7ZIC",
        "outputId": "8ee9881d-1007-42d4-e430-e1dcd901645a"
      },
      "outputs": [
        {
          "name": "stderr",
          "output_type": "stream",
          "text": [
            "  0%|          | 0/8 [00:00<?, ?it/s]"
          ]
        },
        {
          "name": "stderr",
          "output_type": "stream",
          "text": [
            "100%|██████████| 8/8 [00:01<00:00,  6.75it/s]\n"
          ]
        }
      ],
      "source": [
        "##_____________________________________\n",
        "## 원래 코드\n",
        "##_____________________________________\n",
        "def prepare_all_videos(df, root_dir):\n",
        "    num_samples = len(df)\n",
        "    video_paths = df[\"filename\"].values.tolist()\n",
        "    labels = df[\"label\"].values\n",
        "    labels = test_label_processor(labels[..., None]).numpy()\n",
        "\n",
        "    # `frame_masks` and `frame_features` are what we will feed to our sequence model.\n",
        "    # `frame_masks` will contain a bunch of booleans denoting if a timestep is\n",
        "    # masked with padding or not.\n",
        "    frame_features = np.zeros(\n",
        "        shape=(num_samples, MAX_SEQ_LENGTH, NUM_FEATURES), dtype=\"float32\"\n",
        "    )\n",
        "    with tqdm(total=num_samples) as pbar:  # 하나의 전체 진행 막대를 생성\n",
        "      # Use tqdm with total=num_samples to track the overall progress\n",
        "      for idx, path in enumerate(video_paths):  # tqdm 사용\n",
        "          # Gather all its frames and add a batch dimension.\n",
        "          frames = load_video(os.path.join(root_dir, path))\n",
        "          frames = frames[None, ...]\n",
        "\n",
        "          # Initialize placeholders to store the masks and features of the current video.\n",
        "          temp_frame_features = np.zeros(\n",
        "              shape=(1, MAX_SEQ_LENGTH, NUM_FEATURES), dtype=\"float32\"\n",
        "          )\n",
        "\n",
        "\n",
        "          # Extract features from the frames of the current video.\n",
        "          for i, batch in enumerate(frames):\n",
        "              video_length = batch.shape[0]\n",
        "              length = min(MAX_SEQ_LENGTH, video_length)\n",
        "              start_frame = max(0, (video_length - MAX_SEQ_LENGTH) // 2)\n",
        "\n",
        "              for j in range(length):\n",
        "                # Use start_frame to get frames from the middle\n",
        "                frame_index = start_frame + j\n",
        "                temp_frame_features[i, j, :] = feature_extractor.predict(\n",
        "                    batch[None, frame_index, :], verbose=0\n",
        "                )\n",
        "\n",
        "          frame_features[idx,] = temp_frame_features.squeeze()\n",
        "          pbar.update(1)\n",
        "    return frame_features, labels\n",
        "test_video_dir = 'testdata'\n",
        "test_data, test_labels = prepare_all_videos(test_data1, test_video_dir)\n"
      ]
    },
    {
      "cell_type": "code",
      "execution_count": 33,
      "metadata": {
        "id": "kQSb-8ry4Vog"
      },
      "outputs": [
        {
          "name": "stdout",
          "output_type": "stream",
          "text": [
            "1/1 [==============================] - 0s 46ms/step\n",
            "영상1 라벨 치료법\n",
            "  붓다: 97.21%\n",
            "  발가락:  2.32%\n",
            "1/1 [==============================] - 0s 31ms/step\n",
            "영상2 라벨 치료법\n",
            "  붓다: 97.21%\n",
            "  발가락:  2.32%\n",
            "1/1 [==============================] - 0s 33ms/step\n",
            "영상3 라벨 여드름\n",
            "  붓다: 97.21%\n",
            "  발가락:  2.32%\n",
            "1/1 [==============================] - 0s 30ms/step\n",
            "영상4 라벨 막히다\n",
            "  붓다: 97.21%\n",
            "  발가락:  2.32%\n",
            "1/1 [==============================] - 0s 28ms/step\n",
            "영상5 라벨 코\n",
            "  붓다: 97.21%\n",
            "  발가락:  2.32%\n",
            "1/1 [==============================] - 0s 32ms/step\n",
            "영상6 라벨 팔\n",
            "  붓다: 97.21%\n",
            "  발가락:  2.32%\n",
            "1/1 [==============================] - 0s 32ms/step\n",
            "영상7 라벨 아프다\n",
            "  붓다: 97.21%\n",
            "  발가락:  2.32%\n",
            "1/1 [==============================] - 0s 34ms/step\n",
            "영상8 라벨 팔\n",
            "  붓다: 97.21%\n",
            "  발가락:  2.32%\n"
          ]
        }
      ],
      "source": [
        "for idx, (video_frame_features, label, video_filename) in enumerate(zip(test_data, test_labels, test_data1[\"label\"].values)):\n",
        "    probabilities = trained_model.predict(video_frame_features[None, ...])[0]\n",
        "    class_vocab = label_processor.get_vocabulary()\n",
        "\n",
        "    print(f\"영상{idx+1} 라벨 {video_filename}\")\n",
        "\n",
        "    sorted_indices = np.argsort(probabilities)[::-1][:2]  # 상위 2개 확률의 인덱스\n",
        "    for i in sorted_indices:\n",
        "        print(f\"  {class_vocab[i]}: {probabilities[i] * 100:5.2f}%\")\n"
      ]
    },
    {
      "cell_type": "code",
      "execution_count": null,
      "metadata": {
        "id": "Iysn3lTwd3KH"
      },
      "outputs": [],
      "source": []
    }
  ],
  "metadata": {
    "accelerator": "GPU",
    "colab": {
      "machine_shape": "hm",
      "provenance": []
    },
    "kernelspec": {
      "display_name": "Python 3",
      "name": "python3"
    },
    "language_info": {
      "codemirror_mode": {
        "name": "ipython",
        "version": 3
      },
      "file_extension": ".py",
      "mimetype": "text/x-python",
      "name": "python",
      "nbconvert_exporter": "python",
      "pygments_lexer": "ipython3",
      "version": "3.10.7"
    }
  },
  "nbformat": 4,
  "nbformat_minor": 0
}
