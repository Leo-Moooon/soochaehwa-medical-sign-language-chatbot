{
 "cells": [
  {
   "cell_type": "code",
   "execution_count": 1,
   "metadata": {
    "colab": {
     "base_uri": "https://localhost:8080/"
    },
    "executionInfo": {
     "elapsed": 24439,
     "status": "ok",
     "timestamp": 1697117586205,
     "user": {
      "displayName": "문성우",
      "userId": "15909576721158594690"
     },
     "user_tz": -540
    },
    "id": "eY7v3PwOz076",
    "outputId": "279a9807-2bd1-4493-cef3-41fd3038d21d"
   },
   "outputs": [
    {
     "output_type": "stream",
     "name": "stdout",
     "text": [
      "Mounted at /content/drive\n"
     ]
    }
   ],
   "source": [
    "from google.colab import drive\n",
    "drive.mount('/content/drive', force_remount=True)"
   ]
  },
  {
   "cell_type": "code",
   "execution_count": 2,
   "metadata": {
    "colab": {
     "base_uri": "https://localhost:8080/"
    },
    "executionInfo": {
     "elapsed": 17253,
     "status": "ok",
     "timestamp": 1697117603454,
     "user": {
      "displayName": "문성우",
      "userId": "15909576721158594690"
     },
     "user_tz": -540
    },
    "id": "w2Zvgq8b0I6A",
    "outputId": "da66b6f7-9377-4b45-9dfe-a038ecf287b9"
   },
   "outputs": [
    {
     "output_type": "stream",
     "name": "stdout",
     "text": [
      "\u001B[2K     \u001B[90m━━━━━━━━━━━━━━━━━━━━━━━━━━━━━━━━━━━━━━━\u001B[0m \u001B[32m179.2/179.2 kB\u001B[0m \u001B[31m4.9 MB/s\u001B[0m eta \u001B[36m0:00:00\u001B[0m\n",
      "\u001B[2K     \u001B[90m━━━━━━━━━━━━━━━━━━━━━━━━━━━━━━━━━━━━━━━━\u001B[0m \u001B[32m2.1/2.1 MB\u001B[0m \u001B[31m34.5 MB/s\u001B[0m eta \u001B[36m0:00:00\u001B[0m\n",
      "\u001B[2K     \u001B[90m━━━━━━━━━━━━━━━━━━━━━━━━━━━━━━━━━━━━━━\u001B[0m \u001B[32m190.0/190.0 kB\u001B[0m \u001B[31m23.0 MB/s\u001B[0m eta \u001B[36m0:00:00\u001B[0m\n",
      "\u001B[2K     \u001B[90m━━━━━━━━━━━━━━━━━━━━━━━━━━━━━━━━━━━━━━\u001B[0m \u001B[32m241.0/241.0 kB\u001B[0m \u001B[31m28.2 MB/s\u001B[0m eta \u001B[36m0:00:00\u001B[0m\n",
      "\u001B[?25h  Preparing metadata (setup.py) ... \u001B[?25l\u001B[?25hdone\n",
      "\u001B[2K     \u001B[90m━━━━━━━━━━━━━━━━━━━━━━━━━━━━━━━━━━━━━━━━\u001B[0m \u001B[32m62.7/62.7 kB\u001B[0m \u001B[31m8.0 MB/s\u001B[0m eta \u001B[36m0:00:00\u001B[0m\n",
      "\u001B[?25h  Building wheel for pathtools (setup.py) ... \u001B[?25l\u001B[?25hdone\n"
     ]
    }
   ],
   "source": [
    "!pip install torcheval -q\n",
    "!pip install wandb -q"
   ]
  },
  {
   "cell_type": "code",
   "execution_count": 1,
   "metadata": {
    "id": "5fr-ljtszsrh",
    "executionInfo": {
     "status": "ok",
     "timestamp": 1697117615286,
     "user_tz": -540,
     "elapsed": 11835,
     "user": {
      "displayName": "문성우",
      "userId": "15909576721158594690"
     }
    },
    "ExecuteTime": {
     "end_time": "2023-12-06T11:50:28.892755Z",
     "start_time": "2023-12-06T11:50:27.639291Z"
    }
   },
   "outputs": [],
   "source": [
    "import os, sys, pickle\n",
    "import math\n",
    "import pandas as pd\n",
    "import numpy as np\n",
    "from collections import OrderedDict\n",
    "\n",
    "from glob import glob\n",
    "from zipfile import ZipFile\n",
    "from tqdm import tqdm\n",
    "\n",
    "# torch\n",
    "import torch\n",
    "from torch import nn\n",
    "from torch.utils.data import DataLoader\n",
    "from torcheval.metrics.functional import multiclass_accuracy, multiclass_f1_score\n",
    "\n",
    "from dotenv import load_dotenv\n",
    "\n",
    "load_dotenv()\n",
    "container = os.environ.get('SSLRv2_container') # 경로 설정\n",
    "wandb_login_key = os.environ.get('wandb_login_key')\n",
    "\n",
    "modules_path = f'{container}/modules/'\n",
    "sys.path.append(modules_path)\n",
    "\n",
    "from Callbacks import ModelCheckpoint, EarlyStopping, validation_step_kp\n",
    "\n",
    "import wandb\n",
    "tqdm.pandas()\n",
    "\n",
    "torch.set_default_dtype(torch.float64)\n",
    "\n",
    "import warnings\n",
    "warnings.filterwarnings(\"ignore\")\n",
    "\n",
    "import logging\n",
    "logging.getLogger().setLevel(logging.ERROR)"
   ]
  },
  {
   "cell_type": "markdown",
   "source": [
    "---\n",
    "# 압축파일 해제 및 불필요파일 삭제"
   ],
   "metadata": {
    "id": "pIzysVkc7IEK"
   }
  },
  {
   "cell_type": "code",
   "source": [
    "# 영상에서 미리 추출한 keypoint 파일(pkl)의 압축파일\n",
    "train_zip = f'{container}/data/train_keypoints(main).zip'\n",
    "val_zip = f'{container}/data/Validation_keypoints.zip'"
   ],
   "metadata": {
    "id": "rCCNYrpt7oQw",
    "executionInfo": {
     "status": "ok",
     "timestamp": 1697117615287,
     "user_tz": -540,
     "elapsed": 10,
     "user": {
      "displayName": "문성우",
      "userId": "15909576721158594690"
     }
    }
   },
   "execution_count": 5,
   "outputs": []
  },
  {
   "cell_type": "code",
   "source": [
    "ZipFile(train_zip).extractall()"
   ],
   "metadata": {
    "id": "wPd38EQY9s88",
    "executionInfo": {
     "status": "ok",
     "timestamp": 1697117692402,
     "user_tz": -540,
     "elapsed": 77124,
     "user": {
      "displayName": "문성우",
      "userId": "15909576721158594690"
     }
    }
   },
   "execution_count": 6,
   "outputs": []
  },
  {
   "cell_type": "code",
   "source": [
    "ZipFile(val_zip).extractall()"
   ],
   "metadata": {
    "id": "J-h62nYI-jbE",
    "executionInfo": {
     "status": "ok",
     "timestamp": 1697117848826,
     "user_tz": -540,
     "elapsed": 156426,
     "user": {
      "displayName": "문성우",
      "userId": "15909576721158594690"
     }
    }
   },
   "execution_count": 7,
   "outputs": []
  },
  {
   "cell_type": "code",
   "source": [
    "# filename2frame: {파일명 : 프레임 수}\n",
    "with open(f'{container}/data/temp/filename2frame(main).pkl', 'rb') as f:\n",
    "    train_name2frame, val_name2frame = pickle.load(f)\n",
    "\n",
    "# 잘못 저장된 파일 확인(아무 프레임도 담겨있지 않은 깡통 파일)\n",
    "train_zeros = [name for name, frame in train_name2frame.items() if frame == 0]\n",
    "val_zeros = [name for name, frame in val_name2frame.items() if frame == 0]\n",
    "\n",
    "# 디렉토리 내 pkl 개수\n",
    "train_pkls = glob(f'{container}/train_keypoints(main)/**/*.pkl', recursive=True)\n",
    "val_pkls = glob(f'{container}/Validation_keypoints(modified)/**/*.pkl', recursive=True)\n",
    "\n",
    "# {이름:경로}\n",
    "train_name2path = {path.split('/')[-1].rstrip('.pkl'):path for path in train_pkls}\n",
    "val_name2path = {path.split('/')[-1].rstrip('.pkl'):path for path in val_pkls}\n",
    "\n",
    "len(train_pkls), len(val_pkls)"
   ],
   "metadata": {
    "colab": {
     "base_uri": "https://localhost:8080/"
    },
    "id": "h7d882oz7ONW",
    "executionInfo": {
     "status": "ok",
     "timestamp": 1697117850116,
     "user_tz": -540,
     "elapsed": 1307,
     "user": {
      "displayName": "문성우",
      "userId": "15909576721158594690"
     }
    },
    "outputId": "3e308748-5681-4129-f714-1111f92e7d1c"
   },
   "execution_count": 8,
   "outputs": [
    {
     "output_type": "execute_result",
     "data": {
      "text/plain": [
       "(15837, 32000)"
      ]
     },
     "metadata": {},
     "execution_count": 8
    }
   ]
  },
  {
   "cell_type": "code",
   "source": [
    "# 잘못 저장된 깡통 파일이 있다면 삭제\n",
    "for path in train_zeros:\n",
    "    if path in train_name2frame and path in train_name2path:\n",
    "        os.remove(train_name2path[path])\n",
    "\n",
    "for path in val_zeros:\n",
    "    if path in val_name2frame and path in val_name2path:\n",
    "        os.remove(val_name2path[path])"
   ],
   "metadata": {
    "id": "h6P-AOsz8hmH",
    "executionInfo": {
     "status": "ok",
     "timestamp": 1697117850116,
     "user_tz": -540,
     "elapsed": 6,
     "user": {
      "displayName": "문성우",
      "userId": "15909576721158594690"
     }
    }
   },
   "execution_count": 9,
   "outputs": []
  },
  {
   "cell_type": "code",
   "source": [
    "# 디렉토리 내 pkl 개수(깡통 파일 제거 후)\n",
    "train_pkls = glob(f'{container}/train_keypoints(main)/**/*.pkl', recursive=True)\n",
    "val_pkls = glob(f'{container}/Validation_keypoints(modified)/**/*.pkl', recursive=True)\n",
    "\n",
    "len(train_pkls), len(val_pkls)"
   ],
   "metadata": {
    "colab": {
     "base_uri": "https://localhost:8080/"
    },
    "id": "PlXMIKC49bhz",
    "executionInfo": {
     "status": "ok",
     "timestamp": 1697117850117,
     "user_tz": -540,
     "elapsed": 5,
     "user": {
      "displayName": "문성우",
      "userId": "15909576721158594690"
     }
    },
    "outputId": "949abda5-58d0-4a4d-c8dc-79a93cadb7ef"
   },
   "execution_count": 10,
   "outputs": [
    {
     "output_type": "execute_result",
     "data": {
      "text/plain": [
       "(15837, 31971)"
      ]
     },
     "metadata": {},
     "execution_count": 10
    }
   ]
  },
  {
   "cell_type": "markdown",
   "source": [
    "---"
   ],
   "metadata": {
    "id": "OQ5ev63w7OkN"
   }
  },
  {
   "cell_type": "markdown",
   "metadata": {
    "id": "akHtwfWzzsri"
   },
   "source": [
    "# Augmentation"
   ]
  },
  {
   "cell_type": "code",
   "execution_count": 32,
   "metadata": {
    "id": "jMzWkoCZzsrj",
    "executionInfo": {
     "status": "ok",
     "timestamp": 1697119696072,
     "user_tz": -540,
     "elapsed": 700,
     "user": {
      "displayName": "문성우",
      "userId": "15909576721158594690"
     }
    }
   },
   "outputs": [],
   "source": [
    "class CustomAugmentation:\n",
    "    \"\"\" input data(프레임별 키포인트 좌표값)에 augmentation을 적용하는 코드입니다. \"\"\"\n",
    "    \n",
    "    def __init__(self, mode: str = 'train', num_augmentation: int = 10, num_landmarks: int = 23, maxlen: int = 50):\n",
    "        \"\"\"\n",
    "        Args:\n",
    "            mode: 'train' | 'val'\n",
    "            num_augmentation: 데이터 증강 배수\n",
    "            num_landmarks: 사용할 랜드마크 수 (23: pose(상반신) | 33: pose | 65: holistic(하반신 제거) | 75: holistic)\n",
    "            maxlen: 시퀀스 최대길이 지정\n",
    "        \"\"\"\n",
    "        self.mode = mode\n",
    "        self.num_augmentation = num_augmentation\n",
    "        self.num_mask_range = range(0, 15)\n",
    "        self.num_landmarks = num_landmarks\n",
    "        self.maxlen = maxlen\n",
    "        self.coor_dim = 2 # 2(x, y 좌표) | 3(x, y, z 좌표. 미구현)\n",
    "\n",
    "\n",
    "    def act(self, x: np.ndarray, y: np.ndarray, start_frame: int) -> (torch.tensor, torch.tensor):\n",
    "        \"\"\" self.num_augmentation 수만큼 데이터를 증강한 뒤 torch.tensor로 변환합니다.\n",
    "        Args: \n",
    "            x (numpy.ndarray): X data \n",
    "            y (numpy.ndarray): y data \n",
    "            start_frame (int): 프레임 내 시작 동작 정보(label에서 파싱한 정보)\n",
    "        \n",
    "        Returns: (X_tensor, y_tensor)\n",
    "        \"\"\"\n",
    "        self.start_frame = start_frame\n",
    "        if self.mode == 'train':\n",
    "            transformed_list = [] # self.num_augmentation만큼 증강한 x의 리스트\n",
    "            for _ in range(self.num_augmentation):\n",
    "                transformed = self.transform(x)\n",
    "                transformed = torch.tensor(transformed)\n",
    "                transformed_list.append(transformed)\n",
    "\n",
    "            label_list = [y] * self.num_augmentation # self.num_augmentation만큼 증간한 y의 리스트\n",
    "\n",
    "            X_data = torch.stack(transformed_list)\n",
    "            y_data = torch.tensor(label_list).long()\n",
    "            return X_data, y_data\n",
    "\n",
    "        elif self.mode == 'val':\n",
    "            X_data = self.transform(x)\n",
    "            X_data = torch.tensor(X_data)\n",
    "            return torch.tensor(X_data), torch.tensor(y).long()\n",
    "\n",
    "\n",
    "\n",
    "    def transform(self, x: np.ndarray):\n",
    "        \"\"\" x data에 적용하는 transformation을 정의합니다.\n",
    "        Args:\n",
    "            x: x data\n",
    "        \n",
    "        Returns: x (transformation 적용 후)\n",
    "        \"\"\"\n",
    "        if self.mode == 'train':\n",
    "            x = self.distance_normalization(x)\n",
    "            x = self.center_crop(x)\n",
    "            x = self.skip_sampling(x)\n",
    "            return x\n",
    "\n",
    "        elif self.mode == 'val':\n",
    "            x = self.distance_normalization(x)\n",
    "            x = self.center_crop(x)\n",
    "            x = self.skip_sampling(x)\n",
    "            return x\n",
    "\n",
    "\n",
    "    def distance_normalization(self, x: np.ndarray) -> np.ndarray:\n",
    "        \"\"\" 수어를 위한 키포인트 정규화기법입니다.\n",
    "        Args:\n",
    "            x: x data\n",
    "        \n",
    "        Functions:\n",
    "            euclidean: 유클리디안 거리(L2 distance) 계산\n",
    "            distance: 각 지역별로 별도의 정규화 계산\n",
    "            mm: MinMaxScaler\n",
    "        \n",
    "        Returns: x data (정규화된 좌표)\n",
    "            \n",
    "        Reference: https://www.mdpi.com/1424-8220/23/6/3231\n",
    "        \n",
    "        \"\"\"\n",
    "        x = x.reshape((-1, self.num_landmarks, self.coor_dim))\n",
    "        \"\"\" holistic 상반신 좌표 설명\n",
    "            0~22 : 상반신\n",
    "                [Section1] 0~10 : 얼굴\n",
    "                    [Reference Point] 0: 코(ref)\n",
    "                    \n",
    "                [Section2] 11, 13, 15 : 오른쪽 팔\n",
    "                    [Reference Point] 13 : 오른쪽 팔꿈치(ref)\n",
    "                    \n",
    "                [Section3] 12, 14, 16 : 왼쪽 팔\n",
    "                    [Reference Point] 14 : 왼쪽 팔꿈치(ref)\n",
    "                    \n",
    "                [Section4] 15 ~ 22 : 양손 (버리기)\n",
    "        \"\"\"\n",
    "        # Center\n",
    "        center              = np.mean(x, axis=1)\n",
    "\n",
    "        # Reference points\n",
    "        nose_ref            = x[:, 0]\n",
    "        right_elbow_ref     = x[:, 13]\n",
    "        left_elbow_ref      = x[:, 14]\n",
    "        left_wrist_ref      = x[:, 23]\n",
    "        right_wrist_ref     = x[:, 44]\n",
    "\n",
    "        # Partition of landmarks\n",
    "        face_section        = x[:, :11] # 얼굴\n",
    "        right_arm_section   = x[:, 11:16:2] # 오른팔\n",
    "        left_arm_section    = x[:, 12:17:2] # 왼팔\n",
    "        two_hands_section   = x[:, 15:23] # 버릴 좌표 (pose의 양 손)\n",
    "        right_hand_section  = x[:, 44:64] # 오른손 (rhands의 손)\n",
    "        left_hand_section   = x[:, 23:44] # 왼손 (lhands의 손)\n",
    "\n",
    "\n",
    "        # 대표 거리 구하기: center - reference point\n",
    "        euclidean = lambda ax, ay: np.sqrt(((center[:, 0] - ax)**2 + (center[:, 1] - ay)**2) + 1e-9)\n",
    "\n",
    "        d_nose          = euclidean(nose_ref[:, 0], nose_ref[:, 1])\n",
    "        d_right_elbow   = euclidean(right_elbow_ref[:, 0], right_elbow_ref[:, 1])\n",
    "        d_left_elbow    = euclidean(left_elbow_ref[:, 0], left_elbow_ref[:, 1])\n",
    "        d_right_wrist   = euclidean(right_wrist_ref[:, 0], right_wrist_ref[:, 1])\n",
    "        d_left_wrist    = euclidean(left_wrist_ref[:, 0], left_wrist_ref[:, 1])\n",
    "\n",
    "\n",
    "        # Normalized Distance\n",
    "        distance = lambda section, d_ref: (section - center.reshape(-1, 1, 2)) / (d_ref.reshape(-1, 1, 1) + 1e-9)\n",
    "\n",
    "        d_face       = distance(face_section, d_nose)\n",
    "        d_right_arm  = distance(right_arm_section, d_right_elbow)\n",
    "        d_left_arm   = distance(left_arm_section, d_left_elbow)\n",
    "        d_right_hand = distance(right_hand_section, d_right_wrist)\n",
    "        d_left_hand  = distance(left_hand_section, d_left_wrist)\n",
    "\n",
    "\n",
    "        # Rescale: MinMaxScaler\n",
    "        def mm(arr):\n",
    "            if len(arr) == 0:\n",
    "                print(arr)\n",
    "            arr_x, arr_y = arr[..., 0], arr[..., 1]\n",
    "\n",
    "            mm_x = (arr_x - arr_x.min()) / (arr_x.max() - arr_x.min() + 1e-9)\n",
    "            mm_y = (arr_y - arr_y.min()) / (arr_y.max() - arr_y.min() + 1e-9)\n",
    "\n",
    "            mm_x = np.expand_dims(mm_x, axis=-1)\n",
    "            mm_y = np.expand_dims(mm_y, axis=-1)\n",
    "\n",
    "            return np.concatenate([mm_x, mm_y], axis=-1)\n",
    "\n",
    "        mm_face = mm(d_face)\n",
    "        mm_right_arm = mm(d_right_arm)\n",
    "        mm_left_arm = mm(d_left_arm)\n",
    "        mm_right_hand = mm(d_right_hand)\n",
    "        mm_left_hand = mm(d_left_hand)\n",
    "\n",
    "\n",
    "        # 병합 및 reshape\n",
    "        result = np.concatenate([mm_face, mm_right_arm, mm_left_arm, mm_right_hand, mm_left_hand], axis=1)\n",
    "        return result.reshape(-1, (self.num_landmarks-7) * self.coor_dim)\n",
    "\n",
    "\n",
    "\n",
    "    def radian_and_distance(self, x: np.ndarray) -> np.ndarray:\n",
    "        \"\"\"\n",
    "        Args:\n",
    "            x: x data\n",
    "        \n",
    "        Returns: x data (정규화된 좌표)\n",
    "        \"\"\"\n",
    "        # reshape\n",
    "        x = x.reshape((-1, self.num_landmarks, self.coor_dim))\n",
    "\n",
    "        # 중심점 추출: 양 어깨의 중심점\n",
    "        shoulders = x[:, 11:13, :].reshape((-1, 2, 2)) # 11: 왼쪽 어깨, 12: 오른쪽 어깨\n",
    "        center = np.mean(shoulders, axis=1, keepdims=True)\n",
    "\n",
    "        # 중심점 대비 x, y 변화량 추출\n",
    "        xy_deltas = np.subtract(x, center)\n",
    "        x_delta = xy_deltas[..., 0]\n",
    "        y_delta = xy_deltas[..., 1]\n",
    "\n",
    "        # 라디안 각도 구하기 (arctan2)\n",
    "        theta_radian = np.arctan2(y_delta, x_delta)\n",
    "\n",
    "        # 중심점 대비 거리 구하기 (맨해튼 거리(L1))\n",
    "        manhattan_distance = np.abs(x_delta) + np.abs(y_delta)\n",
    "\n",
    "        # 거리 MinMaxScaling\n",
    "        min_value = manhattan_distance.min()\n",
    "        max_value = manhattan_distance.max()\n",
    "\n",
    "        mm = (manhattan_distance - min_value) / (max_value - min_value)\n",
    "\n",
    "        result = np.concatenate([theta_radian.reshape((-1, self.num_landmarks, 1)), mm.reshape((-1, self.num_landmarks, 1))], axis=-1)\n",
    "        return result.reshape(-1, self.num_landmarks * self.coor_dim)\n",
    "    \n",
    "    \n",
    "    \n",
    "    def delta_embedding_from_frame0(self, x: np.ndarray) -> np.ndarray:\n",
    "        \"\"\" frame 0을 기준으로 각 프레임값을 빼는 delta embedding 기법입니다.\n",
    "        Args:\n",
    "             x: x data\n",
    "             \n",
    "        Returns: x data (정규화된 좌표)\n",
    "        \"\"\"\n",
    "        fr_0 = x[0] # 0번째 프레임\n",
    "        delta = x - fr_0\n",
    "        eps = np.zeros(shape=(1, (self.num_landmarks-7) * self.coor_dim)) + 1e-5\n",
    "\n",
    "        return np.concatenate([eps, delta], axis=0)\n",
    "\n",
    "\n",
    "\n",
    "    def center_crop(self, x):\n",
    "        \"\"\" 전체 프레임 중 self.maxlen에 맞춰 중심 프레임만 슬라이싱\n",
    "        Args:\n",
    "            x: x data\n",
    "        \n",
    "        Returns: x data (정규화된 좌표) \n",
    "        \"\"\"\n",
    "        # setting\n",
    "        self.num_crop = self.maxlen\n",
    "\n",
    "        # set index\n",
    "        start_idx = self.start_frame - 5 # min값이 7이어서 5를 뺌(약간의 여유)\n",
    "        end_idx = start_idx + self.num_crop\n",
    "\n",
    "        zero_pad = np.zeros((100, (self.num_landmarks-7) * self.coor_dim))\n",
    "        x = np.concatenate([x, zero_pad], axis=0)\n",
    "\n",
    "        # crop\n",
    "        return x[start_idx:end_idx, :]\n",
    "\n",
    "\n",
    "\n",
    "    def skip_sampling(self, x: np.ndarray) -> np.ndarray:\n",
    "        \"\"\" 특정 프레임을 임의로 배제합니다.\n",
    "        Args: \n",
    "            x: x data\n",
    "        \n",
    "        Returns: x (skip sampling 적용된 프레임별 좌표값)\n",
    "        \"\"\"\n",
    "        length = len(x)\n",
    "        random_num_mask = np.random.choice(self.num_mask_range)\n",
    "        mask_idx = np.random.choice(length, random_num_mask, replace=False)\n",
    "        x = [x[i] if not i in mask_idx else np.zeros((self.num_landmarks-7) * self.coor_dim) for i in range(length)]\n",
    "\n",
    "        return x\n",
    "\n",
    "\n",
    "    def eps_projection(self, x: np.ndarray) -> np.ndarray:\n",
    "        \"\"\" 각 값에 임의의 epsilon을 더해 jittering을 적용합니다.\n",
    "        Args:\n",
    "            x: x data\n",
    "        \n",
    "        Returns: x (epsiolon이 더해진 좌표값)\n",
    "        \"\"\"\n",
    "        eps = 5e-5\n",
    "\n",
    "        array_shape = x.shape\n",
    "        eps_array = np.random.uniform(-eps, eps, array_shape)\n",
    "\n",
    "        return x + eps_array"
   ]
  },
  {
   "cell_type": "markdown",
   "metadata": {
    "id": "J_K53OB1zsrk"
   },
   "source": [
    "# Dataset"
   ]
  },
  {
   "cell_type": "code",
   "execution_count": 33,
   "metadata": {
    "id": "SAmHd-Kizsrk",
    "executionInfo": {
     "status": "ok",
     "timestamp": 1697119696646,
     "user_tz": -540,
     "elapsed": 3,
     "user": {
      "displayName": "문성우",
      "userId": "15909576721158594690"
     }
    }
   },
   "outputs": [],
   "source": [
    "class KeypointDS(torch.utils.data.Dataset):\n",
    "    \"\"\" Custom Dataset \"\"\"\n",
    "    \n",
    "    def __init__(self, mode='train', num_augmentation=5, device=None):\n",
    "        \"\"\"\n",
    "        Args:\n",
    "            mode: 'train' | 'val'\n",
    "            num_augmentation: 데이터 증강 배수\n",
    "            device: torch.device 객체\n",
    "        \"\"\"\n",
    "        super().__init__()\n",
    "        self.medical = False # True: 의료용어 | False: 의료용어 + 일상어\n",
    "\n",
    "        self.mode = mode\n",
    "        self.num_augmentation = num_augmentation\n",
    "        self.device = device\n",
    "        self.maxlen = 70 # 최대 시퀀스 길이\n",
    "        self.word2idx = self.load_word2idx() # {단어 : 라벨}\n",
    "        self.num_classes = len(self.word2idx) # 클래스(단어) 수\n",
    "        self.name2frame = self.load_name2frame() # {파일명 : 프레임 수}\n",
    "        self.df, self.filename2label_df, self.filename2start  = self.load_df()\n",
    "        self.filename2path, self.filename2label, self.filename_list = self.get_kp_info()\n",
    "\n",
    "        # self.num_landmarks = 23 # pose(상반신)\n",
    "        # self.num_landmarks = 33 # pose\n",
    "        self.num_landmarks = 65 # holistic(하반신 제거)\n",
    "        # self.num_landmarks = 75 # holistic\n",
    "        self.CA = CustomAugmentation(self.mode, self.num_augmentation, self.num_landmarks, self.maxlen) # 데이터 증강\n",
    "\n",
    "\n",
    "    def __len__(self):\n",
    "        return len(self.filename_list)\n",
    "\n",
    "\n",
    "    def __getitem__(self, idx):\n",
    "        filename = self.filename_list[idx] # 파일명\n",
    "        filepath = self.filename2path[filename] # 파일경로\n",
    "        label = self.filename2label[filename] # 라벨 (y data)\n",
    "        start_frame = self.filename2start[filename] # 동작이 시작하는 프레임 정보\n",
    "\n",
    "        \n",
    "        with open(filepath, 'rb') as f:\n",
    "            # 하반신의 x, y 좌표에 대한 컬럼명\n",
    "            legs = ['x23', 'y23', 'z23', 'x24', 'y24', 'z24', 'x25', 'y25', 'z25', 'x26',\n",
    "                    'y26', 'z26', 'x27', 'y27', 'z27', 'x28', 'y28', 'z28', 'x29', 'y29',\n",
    "                    'z29', 'x30', 'y30', 'z30', 'x31', 'y31', 'z31', 'x32', 'y32', 'z32']\n",
    "            \n",
    "            # x, y, z 좌표값으로 구성된 데이터프레임 - 마지막 3개 컬럼은 좌표와 무관한 정보(파일명, 프레임 수 등)\n",
    "            keypoints = pickle.load(f).iloc[:, :-3]\n",
    "\n",
    "            if self.num_landmarks == 23: # pose - 상반신만 불러오는 경우 -> 23 * 3 = 69\n",
    "                keypoints = keypoints.iloc[:, :69]\n",
    "            elif self.num_landmarks == 33: # pose 모두 불러오는 경우\n",
    "                keypoints = keypoints.iloc[:, :99]\n",
    "            elif self.num_landmarks == 65: # holistic에서 하반신만 버릴 때 (위의 legs를 제거할 때)\n",
    "                keypoints = keypoints.drop(legs, axis=1, inplace=False)\n",
    "            else:\n",
    "                keypoints = keypoints\n",
    "\n",
    "            keypoints = keypoints.replace('', 0.0).dropna(axis=0) # 빈 값은 0.0으로 대체하고, nan값은 drop\n",
    "            keypoints = keypoints.to_numpy().astype(np.float64) \n",
    "            keypoints = keypoints.reshape(-1, self.num_landmarks, 3)[..., :2] # x, y, z -> x, y\n",
    "\n",
    "            try:\n",
    "                X_tensor, y_tensor = self.CA.act(keypoints, label, start_frame)\n",
    "                return X_tensor.to(self.device), y_tensor.to(self.device)\n",
    "            except Exception as e:\n",
    "                print(filepath)\n",
    "                raise e\n",
    "\n",
    "\n",
    "\n",
    "    def load_df(self):\n",
    "        \"\"\" 파일명, 단어(클래스) 등의 정보가 들어있는 데이터프레임 불러오기 \"\"\"\n",
    "        if self.mode == 'train':\n",
    "            csv_path = f'{container}/data/train_df(checked_main).csv'\n",
    "        elif self.mode == 'val':\n",
    "            csv_path = f'{container}/data/validation_data(clean_main).csv'\n",
    "\n",
    "        # 불러오기\n",
    "        raw_df = pd.read_csv(csv_path)\n",
    "\n",
    "\n",
    "        # 라벨 정보 심기\n",
    "        raw_df['label'] = raw_df['word'].apply(lambda word: self.word2idx[word] if word in self.word2idx else '<UNK>') # 라벨을 붙이되, 없으면 <UNK> 부여\n",
    "        raw_df = raw_df[raw_df['label'] != '<UNK>'] # <UNK>가 아닌 데이터만 골라내기\n",
    "        raw_df = raw_df[(raw_df['data_type'] == 'WORD') & (raw_df['category'] <= 1)] # 0: 의료용어, 1: 일상어, 2+: 무관한 단어\n",
    "\n",
    "        # 프레임 정보 심기\n",
    "        raw_df['frame'] = raw_df['filename'].apply(lambda filename: self.name2frame[filename] if filename in self.name2frame else -1)\n",
    "        raw_df['start_frame'] = raw_df['start'].apply(lambda t: int(t*30))\n",
    "\n",
    "        self.raw_df = raw_df\n",
    "        df = raw_df\n",
    "\n",
    "        filename2label_df = df.set_index(keys='filename')['label'].to_dict()\n",
    "        name2start = df.set_index('filename')['start_frame'].to_dict()\n",
    "\n",
    "        return df, filename2label_df, name2start\n",
    "\n",
    "\n",
    "    def load_word2idx(self):\n",
    "        \"\"\" 사전에 구성한 word2idx 불러오기 \"\"\"\n",
    "        if self.medical:\n",
    "            with open(f'{container}/data/medical_word2idx.pkl', 'rb') as f: #\n",
    "                word2idx = pickle.load(f)\n",
    "        else:\n",
    "            with open(f'{container}/data/integrated_word2idx.pkl', 'rb') as f: #\n",
    "                word2idx = pickle.load(f)\n",
    "\n",
    "        return word2idx\n",
    "\n",
    "\n",
    "    def get_kp_info(self):\n",
    "        if self.mode == 'train':\n",
    "            if self.medical:\n",
    "                keypoints_path = f'{container}/data/train_keypoints(medical)'\n",
    "            else:\n",
    "                keypoints_path = f'{container}/train_keypoints(main)'\n",
    "        elif self.mode == 'val':\n",
    "            keypoints_path = f'{container}/Validation_keypoints(modified)'\n",
    "\n",
    "\n",
    "        # 파일명 추출\n",
    "        keypoints_list = glob(f\"{keypoints_path}/**/*.pkl\", recursive=True)\n",
    "        filename2path = {path.split('/')[-1].rstrip('.mp4.pkl').rstrip('.pkl'):path for path in keypoints_list}\n",
    "\n",
    "        filename2label = {}\n",
    "        self.err_list = []\n",
    "\n",
    "        # 파일명에서 확장자명(.mp4)를 제거하고 filename2label에 추가\n",
    "        for filename in filename2path:\n",
    "            filename = filename.rstrip('.mp4')\n",
    "            try:\n",
    "                filename2label[filename] = self.filename2label_df[filename]\n",
    "            except:\n",
    "                self.err_list.append(filename)\n",
    "\n",
    "        filename_list = list(filename2label.keys())\n",
    "        # filename_list = [name for name in filename_list if name.endswith('F')] # 정면 영상만 쓰고 싶을 떄\n",
    "        \n",
    "        return filename2path, filename2label, filename_list\n",
    "\n",
    "    \n",
    "    def load_name2frame(self) -> dict:\n",
    "        \"\"\" 딕셔너리 {파일명 : 프레임 수} 불러오기 \"\"\"\n",
    "        with open(f'{container}/data/temp/filename2frame(main).pkl', 'rb') as f:\n",
    "            train_name2frame, val_name2frame = pickle.load(f)\n",
    "\n",
    "        if self.mode == 'train': return train_name2frame\n",
    "        elif self.mode == 'val': return val_name2frame\n",
    "\n",
    "\n",
    "\n",
    "def my_collate_fn(samples, is_graph=True):\n",
    "    \"\"\" augmentation하면서 흐트러진 batch의 차원을 정렬한다. \"\"\"\n",
    "\n",
    "    X_collate = torch.stack([sample[0] for sample in samples])\n",
    "    y_collate = torch.stack([sample[1] for sample in samples])\n",
    "\n",
    "    # 차원 재정렬\n",
    "    X_collate = torch.reshape(X_collate, (-1, train_ds.maxlen, (train_ds.num_landmarks-7) * 2))\n",
    "    y_collate = torch.reshape(y_collate, (-1,))\n",
    "    return (X_collate, y_collate)"
   ]
  },
  {
   "cell_type": "code",
   "execution_count": 34,
   "metadata": {
    "colab": {
     "base_uri": "https://localhost:8080/",
     "height": 52
    },
    "executionInfo": {
     "elapsed": 604,
     "status": "ok",
     "timestamp": 1697119699650,
     "user": {
      "displayName": "문성우",
      "userId": "15909576721158594690"
     },
     "user_tz": -540
    },
    "id": "JQOWcGpr6WPg",
    "outputId": "57c6cc70-64a3-432b-e510-bffebbb71f53"
   },
   "outputs": [
    {
     "output_type": "display_data",
     "data": {
      "text/plain": [
       "15837"
      ]
     },
     "metadata": {}
    },
    {
     "output_type": "display_data",
     "data": {
      "text/plain": [
       "1946"
      ]
     },
     "metadata": {}
    }
   ],
   "source": [
    "device = torch.device('cuda')\n",
    "\n",
    "train_ds = KeypointDS('train', 1, device)\n",
    "val_ds = KeypointDS('val', 1, device)\n",
    "display(len(train_ds), len(val_ds))"
   ]
  },
  {
   "cell_type": "markdown",
   "metadata": {
    "id": "Uv3hmF1Xzsrl"
   },
   "source": [
    "# Model"
   ]
  },
  {
   "cell_type": "code",
   "execution_count": 35,
   "metadata": {
    "id": "D9LyQWsXzsrl",
    "executionInfo": {
     "status": "ok",
     "timestamp": 1697119700316,
     "user_tz": -540,
     "elapsed": 3,
     "user": {
      "displayName": "문성우",
      "userId": "15909576721158594690"
     }
    }
   },
   "outputs": [],
   "source": [
    "class PositionalEncoding(nn.Module):\n",
    "    \"\"\" 정석 PositionalEncoding 코드\n",
    "    Reference: https://ysg2997.tistory.com/11 \n",
    "    \"\"\"\n",
    "\n",
    "    def __init__(self, dim_model, max_len, device):\n",
    "        \"\"\"\n",
    "        Args:\n",
    "            dim_model: \n",
    "            max_len: 시퀀스 최대길이\n",
    "            device: torch.device 객체\n",
    "        \"\"\"\n",
    "        super().__init__()\n",
    "        self.device =device\n",
    "        # Encoding - From formula\n",
    "        pos_encoding = torch.zeros(max_len, dim_model, device=device)\n",
    "        positions_list = torch.arange(0, max_len, dtype=torch.float).view(-1, 1) # 0, 1, 2, 3, 4, 5\n",
    "        division_term = torch.exp(torch.arange(0, dim_model, 2).float() * (-math.log(10000.0)) / dim_model) # 1000^(2i/dim_model)\n",
    "\n",
    "        pos_encoding[:, 0::2] = torch.sin(positions_list * division_term)\n",
    "        pos_encoding[:, 1::2] = torch.cos(positions_list * division_term)\n",
    "\n",
    "        # Saving buffer (same as parameter without gradients needed)\n",
    "        pos_encoding = pos_encoding.unsqueeze(0)\n",
    "        self.register_buffer(\"pos_encoding\", pos_encoding)\n",
    "\n",
    "\n",
    "    def forward(self, token_embedding: torch.tensor) -> torch.tensor:\n",
    "\n",
    "        #  positional encoding\n",
    "        return token_embedding + self.pos_encoding[:token_embedding.size(0), :]\n",
    "\n",
    "\n",
    "\n",
    "class Model(torch.nn.Module):\n",
    "    \"\"\" SSLRv2\n",
    "    처음에 의료용어(72개 클래스)만 가지고 사전학습 진행.\n",
    "    이후 class TLModel에 의료용어로 prerained weight를 적용하여 전이학습 잔행  \n",
    "    \"\"\"\n",
    "    def __init__(self, num_classes, transformer_dropout, maxlen, device):\n",
    "        \"\"\"\n",
    "        Args:\n",
    "            num_classes: 클래스 수\n",
    "            transformer_dropout: dropout 적용비율\n",
    "            maxlen: 시퀀스 최대길이\n",
    "            device: torch.device 객체\n",
    "        \"\"\"\n",
    "        super().__init__()\n",
    "        self.device = device\n",
    "        self.num_classes = num_classes\n",
    "        self.num_landmarks = train_ds.num_landmarks\n",
    "        if self.num_landmarks == 65:\n",
    "            self.num_landmarks = 58\n",
    "\n",
    "        self.embedding = nn.Sequential(OrderedDict([\n",
    "            ('Linear_Embedding', nn.Linear(in_features=self.num_landmarks * 2, out_features=512, device=device)),\n",
    "            ('Positional_Encoding', PositionalEncoding(dim_model=512, max_len=maxlen, device=device))\n",
    "        ]))\n",
    "        # self.embedding = nn.Linear(in_features=66, out_features=512, device=device)\n",
    "        self.backbone = nn.Sequential(OrderedDict([\n",
    "            ('BN_1', nn.BatchNorm1d(num_features=maxlen + 1, eps=1e-5, momentum=0.1, affine=True, device=device)),\n",
    "            ('Transformer_1', nn.TransformerEncoderLayer(d_model=512, nhead=4, dropout=transformer_dropout,\n",
    "                                                         batch_first=True, device=device)),\n",
    "            ('BN_2', nn.BatchNorm1d(num_features=maxlen + 1, eps=1e-5, momentum=0.1, affine=True, device=device)),\n",
    "            ('Transformer_2', nn.TransformerEncoderLayer(d_model=512, nhead=4, dropout=transformer_dropout,\n",
    "                                                         batch_first=True, device=device)),\n",
    "            ('BN_3', nn.BatchNorm1d(num_features=maxlen + 1, eps=1e-5, momentum=0.1, affine=True, device=device)),\n",
    "            ('Transformer_3', nn.TransformerEncoderLayer(d_model=512, nhead=4, dropout=transformer_dropout,\n",
    "                                                         batch_first=True, device=device)),\n",
    "            ('BN_4', nn.BatchNorm1d(num_features=maxlen + 1, eps=1e-5, momentum=0.1, affine=True, device=device)),\n",
    "            ('Transformer_4', nn.TransformerEncoderLayer(d_model=512, nhead=4, dropout=transformer_dropout,\n",
    "                                                         batch_first=True, device=device)),\n",
    "            ('BN_5', nn.BatchNorm1d(num_features=maxlen + 1, eps=1e-5, momentum=0.1, affine=True, device=device)),\n",
    "            ('Transformer_5', nn.TransformerEncoderLayer(d_model=512, nhead=4, dropout=transformer_dropout,\n",
    "                                                         batch_first=True, device=device)),\n",
    "\n",
    "\n",
    "        ]))\n",
    "        self.classifier = nn.Sequential(OrderedDict([\n",
    "            ('linear', nn.Linear(in_features=512, out_features=self.num_classes, device=device)),\n",
    "            ('Softmax', nn.Softmax(dim=-1))\n",
    "        ]))\n",
    "\n",
    "    def forward(self, x):\n",
    "        x = self.embedding(x)\n",
    "\n",
    "        ##### cls token #####\n",
    "        batch_size = x.size(0)\n",
    "        emb_dim = x.size(-1)\n",
    "        cls_token = torch.ones((batch_size, 1, emb_dim), device=self.device)\n",
    "        x = torch.cat([cls_token, x], dim=1)\n",
    "        ##### cls token #####\n",
    "\n",
    "        output = self.backbone(x)\n",
    "        return self.classifier(output[:, 0])\n",
    "\n",
    "\n",
    "\n",
    "class TLModel(torch.nn.Module):\n",
    "    \"\"\" \n",
    "        의료용어로 사전학습한 class Model의 weight를 가져와 전이학습 진행. \n",
    "        클래스 수 변경에 따른 분류층 변경.\n",
    "        별도의 freeze는 없음.\n",
    "     \"\"\"\n",
    "    def __init__(self, num_classes, transformer_dropout, maxlen, device):\n",
    "        super().__init__()\n",
    "        self.device = device\n",
    "        self.num_classes = num_classes\n",
    "\n",
    "        self.pretrained = Model(76, transformer_dropout, maxlen, device)\n",
    "        weight_pt = f'{container}/main/ckpts/medical(ref)/Epoch60(f1_0.901).pt' # 사전학습된 의료용어 weight\n",
    "        self.pretrained.load_state_dict(torch.load(weight_pt, map_location=device), strict=True)\n",
    "        self.pretrained.classifier = nn.Identity() # nn.Identity()를 통해 classifier를 빈 레이어로 변경\n",
    "\n",
    "        self.classifier = nn.Sequential(OrderedDict([\n",
    "            ('linear', nn.Linear(in_features=512, out_features=num_classes, device=device)),\n",
    "            ('Softmax', nn.Softmax(dim=-1))\n",
    "        ]))\n",
    "\n",
    "    def forward(self, x):\n",
    "        x = self.pretrained(x)\n",
    "        return self.classifier(x)\n"
   ]
  },
  {
   "cell_type": "markdown",
   "metadata": {
    "id": "q4Fp0oWIzsrl"
   },
   "source": [
    "# Configuration"
   ]
  },
  {
   "cell_type": "code",
   "execution_count": 36,
   "metadata": {
    "colab": {
     "base_uri": "https://localhost:8080/",
     "height": 307,
     "referenced_widgets": [
      "a956cfd9c3f54a7b82777bb2962d06c9",
      "146593c1f0a64d46920ffb3ea0f4518f",
      "606ba2ffad60418aa815e1b0a34abfca",
      "8fe5995ce0b34a1694dfcc02702dc96c",
      "6ce24a27cbb74fc597fc7c8822cca047",
      "580aafbc43a64580bb2c7ee17289628b",
      "14efd2ba415947f1ac0257830d226b36",
      "ca84b6a6034b47008b83ace9cd2d6178"
     ]
    },
    "executionInfo": {
     "elapsed": 6582,
     "status": "ok",
     "timestamp": 1697119713177,
     "user": {
      "displayName": "문성우",
      "userId": "15909576721158594690"
     },
     "user_tz": -540
    },
    "id": "4nA5meMRzsrl",
    "outputId": "53ba741d-ea8b-4fee-b15e-def0eded324e"
   },
   "outputs": [
    {
     "output_type": "stream",
     "name": "stderr",
     "text": [
      "\u001B[34m\u001B[1mwandb\u001B[0m: \u001B[33mWARNING\u001B[0m Calling wandb.login() after wandb.init() has no effect.\n"
     ]
    },
    {
     "output_type": "display_data",
     "data": {
      "text/plain": [
       "<IPython.core.display.HTML object>"
      ],
      "text/html": [
       "Finishing last run (ID:cucbs42s) before initializing another..."
      ]
     },
     "metadata": {}
    },
    {
     "output_type": "display_data",
     "data": {
      "text/plain": [
       "<IPython.core.display.HTML object>"
      ],
      "text/html": [
       "Waiting for W&B process to finish... <strong style=\"color:green\">(success).</strong>"
      ]
     },
     "metadata": {}
    },
    {
     "output_type": "display_data",
     "data": {
      "text/plain": [
       "VBox(children=(Label(value='0.002 MB of 0.012 MB uploaded (0.000 MB deduped)\\r'), FloatProgress(value=0.210389…"
      ],
      "application/vnd.jupyter.widget-view+json": {
       "version_major": 2,
       "version_minor": 0,
       "model_id": "a956cfd9c3f54a7b82777bb2962d06c9"
      }
     },
     "metadata": {}
    },
    {
     "output_type": "display_data",
     "data": {
      "text/plain": [
       "<IPython.core.display.HTML object>"
      ],
      "text/html": [
       " View run <strong style=\"color:#cdcd00\">main(ref, colab)</strong> at: <a href='https://wandb.ai/soochaehwa/delta_keypoint/runs/cucbs42s' target=\"_blank\">https://wandb.ai/soochaehwa/delta_keypoint/runs/cucbs42s</a><br/>Synced 5 W&B file(s), 0 media file(s), 0 artifact file(s) and 0 other file(s)"
      ]
     },
     "metadata": {}
    },
    {
     "output_type": "display_data",
     "data": {
      "text/plain": [
       "<IPython.core.display.HTML object>"
      ],
      "text/html": [
       "Find logs at: <code>./wandb/run-20231012_140427-cucbs42s/logs</code>"
      ]
     },
     "metadata": {}
    },
    {
     "output_type": "display_data",
     "data": {
      "text/plain": [
       "<IPython.core.display.HTML object>"
      ],
      "text/html": [
       "Successfully finished last run (ID:cucbs42s). Initializing new run:<br/>"
      ]
     },
     "metadata": {}
    },
    {
     "output_type": "display_data",
     "data": {
      "text/plain": [
       "<IPython.core.display.HTML object>"
      ],
      "text/html": [
       "Tracking run with wandb version 0.15.12"
      ]
     },
     "metadata": {}
    },
    {
     "output_type": "display_data",
     "data": {
      "text/plain": [
       "<IPython.core.display.HTML object>"
      ],
      "text/html": [
       "Run data is saved locally in <code>/content/wandb/run-20231012_140826-bmwvootq</code>"
      ]
     },
     "metadata": {}
    },
    {
     "output_type": "display_data",
     "data": {
      "text/plain": [
       "<IPython.core.display.HTML object>"
      ],
      "text/html": [
       "Syncing run <strong><a href='https://wandb.ai/soochaehwa/delta_keypoint/runs/bmwvootq' target=\"_blank\">main(ref, colab)</a></strong> to <a href='https://wandb.ai/soochaehwa/delta_keypoint' target=\"_blank\">Weights & Biases</a> (<a href='https://wandb.me/run' target=\"_blank\">docs</a>)<br/>"
      ]
     },
     "metadata": {}
    },
    {
     "output_type": "display_data",
     "data": {
      "text/plain": [
       "<IPython.core.display.HTML object>"
      ],
      "text/html": [
       " View project at <a href='https://wandb.ai/soochaehwa/delta_keypoint' target=\"_blank\">https://wandb.ai/soochaehwa/delta_keypoint</a>"
      ]
     },
     "metadata": {}
    },
    {
     "output_type": "display_data",
     "data": {
      "text/plain": [
       "<IPython.core.display.HTML object>"
      ],
      "text/html": [
       " View run at <a href='https://wandb.ai/soochaehwa/delta_keypoint/runs/bmwvootq' target=\"_blank\">https://wandb.ai/soochaehwa/delta_keypoint/runs/bmwvootq</a>"
      ]
     },
     "metadata": {}
    },
    {
     "output_type": "execute_result",
     "data": {
      "text/plain": [
       "True"
      ]
     },
     "metadata": {},
     "execution_count": 36
    }
   ],
   "source": [
    "# Path\n",
    "\"\"\"\n",
    "save_path: 체크포인트 저장경로 설정\n",
    "\"\"\"\n",
    "\n",
    "save_path = os.path.join(container, 'main/ckpts/main(ref)')\n",
    "\n",
    "device = torch.device('cuda')\n",
    "nb_epochs = 500 # Epoch\n",
    "batch_size = 128 \n",
    "learning_rate = 1e-4\n",
    "patience = 5 # Patience for EarlyStopping\n",
    "start_from_epoch = 1 \n",
    "transformer_dropout = 0.25\n",
    "max_norm = 3 # Gradient Clipping\n",
    "\n",
    "# Dataset, DataLoader\n",
    "train_ds = KeypointDS('train', 5, device)\n",
    "val_ds = KeypointDS('val', 5, device)\n",
    "train_loader = DataLoader(train_ds, batch_size, shuffle=False, collate_fn=my_collate_fn)\n",
    "val_loader = DataLoader(val_ds, batch_size, shuffle=False, collate_fn=my_collate_fn)\n",
    "\n",
    "num_classes = train_ds.num_classes\n",
    "maxlen = train_ds.maxlen\n",
    "\n",
    "# Model\n",
    "# model = Model(num_classes, transformer_dropout, maxlen, device) # class Model 의료용어 pretrain\n",
    "model = TLModel(num_classes, transformer_dropout, maxlen, device) # class TLModel 의료용어 + 일상어 전이학습\n",
    "\n",
    "optimizer = torch.optim.AdamW(model.parameters(), learning_rate) \n",
    "loss_fn = torch.nn.CrossEntropyLoss()\n",
    "\n",
    "\n",
    "# Callbacks\n",
    "es = EarlyStopping('val_loss', patience, start_from_epoch)\n",
    "chk = ModelCheckpoint('val_loss', save_path, save_best_only=False)\n",
    "\n",
    "\n",
    "scheduler = torch.optim.lr_scheduler.ReduceLROnPlateau(optimizer, 'min', # 낮은 값이 좋은 값\n",
    "                                                       factor=0.5, # lr * factor\n",
    "                                                       patience=3,\n",
    "                                                       # cooldown=3, # 변경 후 쉬어갈 스텝(epoch)\n",
    "                                                       threshold=1e-3, # 이 이상으로 개선 안되면 patience 카운트\n",
    "                                                       verbose=True)\n",
    "\n",
    "# scheduler = torch.optim.lr_scheduler.StepLR(optimizer, step_size=20, gamma=0.5, verbose=True)\n",
    "\n",
    "''' os.environ\n",
    "현재 ipynb 파일의 경로로 잡아주세요.\n",
    "'''\n",
    "os.environ['WANDB_NOTEBOOK_NAME'] = os.path.join(container, 'main/main(ref).ipynb')\n",
    "\n",
    "wandb.login(key=wandb_login_key)\n",
    "\n",
    "run = wandb.init(\n",
    "          project='delta_keypoint',\n",
    "           name='main(ref, colab)',\n",
    "           tags=['holistic', 'noHip', 'aug5', 'dropout0.25', 'dim512', 'replace0', '5stack', 'skip-sampling', 'selective_crop', 'no_eps', 'reference'],\n",
    "           config={\n",
    "                'epochs' : nb_epochs,\n",
    "                'learning_rate' : learning_rate,\n",
    "                'batch_size' : batch_size,\n",
    "                'transformer_dropout' : transformer_dropout,\n",
    "                'optimizer' : optimizer,\n",
    "                'patience' : patience,\n",
    "                'start_from_epoch' : start_from_epoch,\n",
    "                'num_classes' : num_classes,\n",
    "                'scheduler' : scheduler,\n",
    "                'max_norm' : max_norm,\n",
    "                })\n",
    "\n",
    "run.save()"
   ]
  },
  {
   "cell_type": "markdown",
   "metadata": {
    "id": "LvLh9sgezsrm"
   },
   "source": [
    "# Run"
   ]
  },
  {
   "cell_type": "code",
   "execution_count": null,
   "metadata": {
    "colab": {
     "base_uri": "https://localhost:8080/"
    },
    "id": "sbJZPQGUzsrm",
    "outputId": "96f29c09-53b5-4352-b610-19e147695166"
   },
   "outputs": [
    {
     "metadata": {
      "tags": null
     },
     "name": "stderr",
     "output_type": "stream",
     "text": [
      "Epoch [1/500]: 100%|██████████|124/124 [09:39<00:00] , Train Loss: 5.148005  Train Accuracy: 0.171610  Train f1_score: 0.095235\n",
      "Validation: 100%|██████████|16/16 [00:44<00:00] \n"
     ]
    },
    {
     "metadata": {
      "tags": null
     },
     "name": "stdout",
     "output_type": "stream",
     "text": [
      "              val_loss: 5.002808  val_accuracy: 0.314153  val_f1_score: 0.206368\n"
     ]
    },
    {
     "metadata": {
      "tags": null
     },
     "name": "stderr",
     "output_type": "stream",
     "text": [
      "Epoch [2/500]: 100%|██████████|124/124 [09:38<00:00] , Train Loss: 4.915575  Train Accuracy: 0.406249  Train f1_score: 0.268989\n",
      "Validation: 100%|██████████|16/16 [00:45<00:00] \n"
     ]
    },
    {
     "metadata": {
      "tags": null
     },
     "name": "stdout",
     "output_type": "stream",
     "text": [
      "              val_loss: 4.853809  val_accuracy: 0.457069  val_f1_score: 0.337634\n"
     ]
    },
    {
     "metadata": {
      "tags": null
     },
     "name": "stderr",
     "output_type": "stream",
     "text": [
      "Epoch [3/500]: 100%|██████████|124/124 [09:40<00:00] , Train Loss: 4.808020  Train Accuracy: 0.506535  Train f1_score: 0.358101\n",
      "Validation: 100%|██████████|16/16 [00:44<00:00] \n"
     ]
    },
    {
     "metadata": {
      "tags": null
     },
     "name": "stdout",
     "output_type": "stream",
     "text": [
      "              val_loss: 4.769494  val_accuracy: 0.540527  val_f1_score: 0.421534\n"
     ]
    },
    {
     "metadata": {
      "tags": null
     },
     "name": "stderr",
     "output_type": "stream",
     "text": [
      "Epoch [4/500]: 100%|██████████|124/124 [09:37<00:00] , Train Loss: 4.725611  Train Accuracy: 0.589988  Train f1_score: 0.435882\n",
      "Validation: 100%|██████████|16/16 [00:44<00:00] \n"
     ]
    },
    {
     "metadata": {
      "tags": null
     },
     "name": "stdout",
     "output_type": "stream",
     "text": [
      "              val_loss: 4.707607  val_accuracy: 0.599008  val_f1_score: 0.485376\n"
     ]
    },
    {
     "metadata": {
      "tags": null
     },
     "name": "stderr",
     "output_type": "stream",
     "text": [
      "Epoch [5/500]: 100%|██████████|124/124 [09:39<00:00] , Train Loss: 4.660120  Train Accuracy: 0.655889  Train f1_score: 0.505064\n",
      "Validation: 100%|██████████|16/16 [00:45<00:00] \n"
     ]
    },
    {
     "metadata": {
      "tags": null
     },
     "name": "stdout",
     "output_type": "stream",
     "text": [
      "              val_loss: 4.651136  val_accuracy: 0.656588  val_f1_score: 0.548225\n"
     ]
    },
    {
     "metadata": {
      "tags": null
     },
     "name": "stderr",
     "output_type": "stream",
     "text": [
      "Epoch [6/500]: 100%|██████████|124/124 [09:42<00:00] , Train Loss: 4.617174  Train Accuracy: 0.694849  Train f1_score: 0.547367\n",
      "Validation: 100%|██████████|16/16 [00:45<00:00] \n"
     ]
    },
    {
     "metadata": {
      "tags": null
     },
     "name": "stdout",
     "output_type": "stream",
     "text": [
      "              val_loss: 4.626579  val_accuracy: 0.677471  val_f1_score: 0.567090\n"
     ]
    },
    {
     "metadata": {
      "tags": null
     },
     "name": "stderr",
     "output_type": "stream",
     "text": [
      "Epoch [7/500]: 100%|██████████|124/124 [09:44<00:00] , Train Loss: 4.593936  Train Accuracy: 0.712624  Train f1_score: 0.568148\n",
      "Validation: 100%|██████████|16/16 [00:45<00:00] \n"
     ]
    },
    {
     "metadata": {
      "tags": null
     },
     "name": "stdout",
     "output_type": "stream",
     "text": [
      "              val_loss: 4.614963  val_accuracy: 0.693096  val_f1_score: 0.586639\n"
     ]
    },
    {
     "metadata": {
      "tags": null
     },
     "name": "stderr",
     "output_type": "stream",
     "text": [
      "Epoch [8/500]: 100%|██████████|124/124 [09:40<00:00] , Train Loss: 4.575114  Train Accuracy: 0.729103  Train f1_score: 0.586211\n",
      "Validation: 100%|██████████|16/16 [00:44<00:00] \n"
     ]
    },
    {
     "metadata": {
      "tags": null
     },
     "name": "stdout",
     "output_type": "stream",
     "text": [
      "              val_loss: 4.603106  val_accuracy: 0.703350  val_f1_score: 0.597207\n"
     ]
    },
    {
     "metadata": {
      "tags": null
     },
     "name": "stderr",
     "output_type": "stream",
     "text": [
      "Epoch [9/500]: 100%|██████████|124/124 [09:41<00:00] , Train Loss: 4.558556  Train Accuracy: 0.745975  Train f1_score: 0.605576\n",
      "Validation: 100%|██████████|16/16 [00:45<00:00] \n"
     ]
    },
    {
     "metadata": {
      "tags": null
     },
     "name": "stdout",
     "output_type": "stream",
     "text": [
      "              val_loss: 4.581294  val_accuracy: 0.724346  val_f1_score: 0.612911\n"
     ]
    },
    {
     "metadata": {
      "tags": null
     },
     "name": "stderr",
     "output_type": "stream",
     "text": [
      "Epoch [10/500]: 100%|██████████|124/124 [09:42<00:00] , Train Loss: 4.542777  Train Accuracy: 0.762312  Train f1_score: 0.625692\n",
      "Validation: 100%|██████████|16/16 [00:45<00:00] \n"
     ]
    },
    {
     "metadata": {
      "tags": null
     },
     "name": "stdout",
     "output_type": "stream",
     "text": [
      "              val_loss: 4.564841  val_accuracy: 0.742375  val_f1_score: 0.641894\n"
     ]
    },
    {
     "metadata": {
      "tags": null
     },
     "name": "stderr",
     "output_type": "stream",
     "text": [
      "Epoch [11/500]: 100%|██████████|124/124 [09:42<00:00] , Train Loss: 4.523594  Train Accuracy: 0.781734  Train f1_score: 0.650115\n",
      "Validation: 100%|██████████|16/16 [00:45<00:00] \n"
     ]
    },
    {
     "metadata": {
      "tags": null
     },
     "name": "stdout",
     "output_type": "stream",
     "text": [
      "              val_loss: 4.547700  val_accuracy: 0.753606  val_f1_score: 0.656649\n"
     ]
    },
    {
     "metadata": {
      "tags": null
     },
     "name": "stderr",
     "output_type": "stream",
     "text": [
      "Epoch [12/500]: 100%|██████████|124/124 [09:42<00:00] , Train Loss: 4.496206  Train Accuracy: 0.807173  Train f1_score: 0.681983\n",
      "Validation: 100%|██████████|16/16 [00:45<00:00] \n"
     ]
    },
    {
     "metadata": {
      "tags": null
     },
     "name": "stdout",
     "output_type": "stream",
     "text": [
      "              val_loss: 4.518812  val_accuracy: 0.786771  val_f1_score: 0.698579\n"
     ]
    },
    {
     "metadata": {
      "tags": null
     },
     "name": "stderr",
     "output_type": "stream",
     "text": [
      "Epoch [13/500]: 100%|██████████|124/124 [09:42<00:00] , Train Loss: 4.479166  Train Accuracy: 0.824188  Train f1_score: 0.703949\n",
      "Validation: 100%|██████████|16/16 [00:45<00:00] \n"
     ]
    },
    {
     "metadata": {
      "tags": null
     },
     "name": "stdout",
     "output_type": "stream",
     "text": [
      "              val_loss: 4.518634  val_accuracy: 0.785344  val_f1_score: 0.697633\n"
     ]
    },
    {
     "metadata": {
      "tags": null
     },
     "name": "stderr",
     "output_type": "stream",
     "text": [
      "Epoch [14/500]: 100%|██████████|124/124 [09:41<00:00] , Train Loss: 4.464382  Train Accuracy: 0.837403  Train f1_score: 0.722441\n",
      "Validation: 100%|██████████|16/16 [00:45<00:00] \n"
     ]
    },
    {
     "metadata": {
      "tags": null
     },
     "name": "stdout",
     "output_type": "stream",
     "text": [
      "              val_loss: 4.507961  val_accuracy: 0.796988  val_f1_score: 0.715767\n"
     ]
    },
    {
     "metadata": {
      "tags": null
     },
     "name": "stderr",
     "output_type": "stream",
     "text": [
      "Epoch [15/500]: 100%|██████████|124/124 [09:41<00:00] , Train Loss: 4.458582  Train Accuracy: 0.841548  Train f1_score: 0.729306\n",
      "Validation: 100%|██████████|16/16 [00:45<00:00] \n"
     ]
    },
    {
     "metadata": {
      "tags": null
     },
     "name": "stdout",
     "output_type": "stream",
     "text": [
      "              val_loss: 4.540730  val_accuracy: 0.761869  val_f1_score: 0.671498\n"
     ]
    },
    {
     "metadata": {
      "tags": null
     },
     "name": "stderr",
     "output_type": "stream",
     "text": [
      "Epoch [16/500]: 100%|██████████|124/124 [09:42<00:00] , Train Loss: 4.459431  Train Accuracy: 0.841364  Train f1_score: 0.727898\n",
      "Validation: 100%|██████████|16/16 [00:44<00:00] \n"
     ]
    },
    {
     "metadata": {
      "tags": null
     },
     "name": "stdout",
     "output_type": "stream",
     "text": [
      "              val_loss: 4.486832  val_accuracy: 0.811185  val_f1_score: 0.722885\n"
     ]
    },
    {
     "metadata": {
      "tags": null
     },
     "name": "stderr",
     "output_type": "stream",
     "text": [
      "Epoch [17/500]: 100%|██████████|124/124 [09:43<00:00] , Train Loss: 4.443061  Train Accuracy: 0.855214  Train f1_score: 0.749797\n",
      "Validation: 100%|██████████|16/16 [00:45<00:00] \n"
     ]
    },
    {
     "metadata": {
      "tags": null
     },
     "name": "stdout",
     "output_type": "stream",
     "text": [
      "              val_loss: 4.476290  val_accuracy: 0.822416  val_f1_score: 0.737811\n"
     ]
    },
    {
     "metadata": {
      "tags": null
     },
     "name": "stderr",
     "output_type": "stream",
     "text": [
      "Epoch [18/500]: 100%|██████████|124/124 [09:42<00:00] , Train Loss: 4.435757  Train Accuracy: 0.862542  Train f1_score: 0.760938\n",
      "Validation: 100%|██████████|16/16 [00:45<00:00] \n"
     ]
    },
    {
     "metadata": {
      "tags": null
     },
     "name": "stdout",
     "output_type": "stream",
     "text": [
      "              val_loss: 4.474566  val_accuracy: 0.827299  val_f1_score: 0.750219\n"
     ]
    },
    {
     "metadata": {
      "tags": null
     },
     "name": "stderr",
     "output_type": "stream",
     "text": [
      "Epoch [19/500]: 100%|██████████|124/124 [09:41<00:00] , Train Loss: 4.427047  Train Accuracy: 0.871195  Train f1_score: 0.774638\n",
      "Validation: 100%|██████████|16/16 [00:45<00:00] \n"
     ]
    },
    {
     "metadata": {
      "tags": null
     },
     "name": "stdout",
     "output_type": "stream",
     "text": [
      "              val_loss: 4.464128  val_accuracy: 0.839956  val_f1_score: 0.762126\n"
     ]
    },
    {
     "metadata": {
      "tags": null
     },
     "name": "stderr",
     "output_type": "stream",
     "text": [
      "Epoch [20/500]: 100%|██████████|124/124 [09:42<00:00] , Train Loss: 4.420712  Train Accuracy: 0.878238  Train f1_score: 0.784820\n",
      "Validation: 100%|██████████|16/16 [00:45<00:00] \n"
     ]
    },
    {
     "metadata": {
      "tags": null
     },
     "name": "stdout",
     "output_type": "stream",
     "text": [
      "              val_loss: 4.474615  val_accuracy: 0.825346  val_f1_score: 0.741037\n"
     ]
    },
    {
     "metadata": {
      "tags": null
     },
     "name": "stderr",
     "output_type": "stream",
     "text": [
      "Epoch [21/500]: 100%|██████████|124/124 [09:43<00:00] , Train Loss: 4.413493  Train Accuracy: 0.883996  Train f1_score: 0.790988\n",
      "Validation: 100%|██████████|16/16 [00:45<00:00] \n"
     ]
    },
    {
     "metadata": {
      "tags": null
     },
     "name": "stdout",
     "output_type": "stream",
     "text": [
      "              val_loss: 4.454913  val_accuracy: 0.843374  val_f1_score: 0.765145\n"
     ]
    },
    {
     "metadata": {
      "tags": null
     },
     "name": "stderr",
     "output_type": "stream",
     "text": [
      "Epoch [22/500]: 100%|██████████|124/124 [09:41<00:00] , Train Loss: 4.408271  Train Accuracy: 0.888395  Train f1_score: 0.799072\n",
      "Validation: 100%|██████████|16/16 [00:45<00:00] \n"
     ]
    },
    {
     "metadata": {
      "tags": null
     },
     "name": "stdout",
     "output_type": "stream",
     "text": [
      "              val_loss: 4.453596  val_accuracy: 0.849271  val_f1_score: 0.775139\n"
     ]
    },
    {
     "metadata": {
      "tags": null
     },
     "name": "stderr",
     "output_type": "stream",
     "text": [
      "Epoch [23/500]: 100%|██████████|124/124 [09:45<00:00] , Train Loss: 4.404613  Train Accuracy: 0.892648  Train f1_score: 0.805609\n",
      "Validation: 100%|██████████|16/16 [00:44<00:00] \n"
     ]
    },
    {
     "metadata": {
      "tags": null
     },
     "name": "stdout",
     "output_type": "stream",
     "text": [
      "              val_loss: 4.478075  val_accuracy: 0.824820  val_f1_score: 0.746851\n"
     ]
    },
    {
     "metadata": {
      "tags": null
     },
     "name": "stderr",
     "output_type": "stream",
     "text": [
      "Epoch [24/500]: 100%|██████████|124/124 [09:39<00:00] , Train Loss: 4.404525  Train Accuracy: 0.892406  Train f1_score: 0.805877\n",
      "Validation: 100%|██████████|16/16 [00:44<00:00] \n"
     ]
    },
    {
     "metadata": {
      "tags": null
     },
     "name": "stdout",
     "output_type": "stream",
     "text": [
      "              val_loss: 4.458698  val_accuracy: 0.838529  val_f1_score: 0.760689\n"
     ]
    },
    {
     "metadata": {
      "tags": null
     },
     "name": "stderr",
     "output_type": "stream",
     "text": [
      "Epoch [25/500]: 100%|██████████|124/124 [09:41<00:00] , Train Loss: 4.399902  Train Accuracy: 0.898054  Train f1_score: 0.815927\n",
      "Validation: 100%|██████████|16/16 [00:45<00:00] \n"
     ]
    },
    {
     "metadata": {
      "tags": null
     },
     "name": "stdout",
     "output_type": "stream",
     "text": [
      "              val_loss: 4.455627  val_accuracy: 0.845891  val_f1_score: 0.761357\n",
      "Epoch 00025: reducing learning rate of group 0 to 5.0000e-05.\n"
     ]
    },
    {
     "metadata": {
      "tags": null
     },
     "name": "stderr",
     "output_type": "stream",
     "text": [
      "Epoch [26/500]: 100%|██████████|124/124 [09:40<00:00] , Train Loss: 4.385907  Train Accuracy: 0.909330  Train f1_score: 0.836227\n",
      "Validation: 100%|██████████|16/16 [00:45<00:00] \n"
     ]
    },
    {
     "metadata": {
      "tags": null
     },
     "name": "stdout",
     "output_type": "stream",
     "text": [
      "              val_loss: 4.431540  val_accuracy: 0.864896  val_f1_score: 0.791450\n"
     ]
    },
    {
     "metadata": {
      "tags": null
     },
     "name": "stderr",
     "output_type": "stream",
     "text": [
      "Epoch [27/500]: 100%|██████████|124/124 [09:39<00:00] , Train Loss: 4.379708  Train Accuracy: 0.915045  Train f1_score: 0.847254\n",
      "Validation: 100%|██████████|16/16 [00:44<00:00] \n"
     ]
    },
    {
     "metadata": {
      "tags": null
     },
     "name": "stdout",
     "output_type": "stream",
     "text": [
      "              val_loss: 4.429104  val_accuracy: 0.867788  val_f1_score: 0.797400\n"
     ]
    },
    {
     "metadata": {
      "tags": null
     },
     "name": "stderr",
     "output_type": "stream",
     "text": [
      "Epoch [28/500]: 100%|██████████|124/124 [09:37<00:00] , Train Loss: 4.377519  Train Accuracy: 0.916699  Train f1_score: 0.849727\n",
      "Validation: 100%|██████████|16/16 [00:45<00:00] \n"
     ]
    },
    {
     "metadata": {
      "tags": null
     },
     "name": "stdout",
     "output_type": "stream",
     "text": [
      "              val_loss: 4.426683  val_accuracy: 0.870718  val_f1_score: 0.804722\n"
     ]
    },
    {
     "output_type": "stream",
     "name": "stderr",
     "text": [
      "Epoch [29/500]: 100%|██████████|124/124 [09:40<00:00] , Train Loss: 4.375611  Train Accuracy: 0.918132  Train f1_score: 0.851081\n",
      "Validation: 100%|██████████|16/16 [00:44<00:00] \n"
     ]
    },
    {
     "output_type": "stream",
     "name": "stdout",
     "text": [
      "              val_loss: 4.424035  val_accuracy: 0.872183  val_f1_score: 0.804348\n"
     ]
    },
    {
     "output_type": "stream",
     "name": "stderr",
     "text": [
      "Epoch [30/500]: 100%|██████████|124/124 [09:37<00:00] , Train Loss: 4.375300  Train Accuracy: 0.918523  Train f1_score: 0.852279\n",
      "Validation: 100%|██████████|16/16 [00:44<00:00] \n"
     ]
    },
    {
     "output_type": "stream",
     "name": "stdout",
     "text": [
      "              val_loss: 4.425721  val_accuracy: 0.872671  val_f1_score: 0.801853\n"
     ]
    },
    {
     "output_type": "stream",
     "name": "stderr",
     "text": [
      "Epoch [31/500]: 100%|██████████|124/124 [09:38<00:00] , Train Loss: 4.374900  Train Accuracy: 0.918812  Train f1_score: 0.852769\n",
      "Validation: 100%|██████████|16/16 [00:45<00:00] \n"
     ]
    },
    {
     "output_type": "stream",
     "name": "stdout",
     "text": [
      "              val_loss: 4.424519  val_accuracy: 0.874624  val_f1_score: 0.804847\n"
     ]
    },
    {
     "output_type": "stream",
     "name": "stderr",
     "text": [
      "Epoch [32/500]: 100%|██████████|124/124 [09:42<00:00] , Train Loss: 4.374763  Train Accuracy: 0.919312  Train f1_score: 0.852073\n",
      "Validation: 100%|██████████|16/16 [00:45<00:00] \n"
     ]
    },
    {
     "output_type": "stream",
     "name": "stdout",
     "text": [
      "              val_loss: 4.429320  val_accuracy: 0.869742  val_f1_score: 0.799330\n",
      "Epoch 00032: reducing learning rate of group 0 to 2.5000e-05.\n"
     ]
    },
    {
     "output_type": "stream",
     "name": "stderr",
     "text": [
      "Epoch [33/500]: 100%|██████████|124/124 [09:41<00:00] , Train Loss: 4.368952  Train Accuracy: 0.924725  Train f1_score: 0.862729\n",
      "Validation: 100%|██████████|16/16 [00:44<00:00] \n"
     ]
    },
    {
     "output_type": "stream",
     "name": "stdout",
     "text": [
      "              val_loss: 4.410876  val_accuracy: 0.887320  val_f1_score: 0.824240\n"
     ]
    },
    {
     "output_type": "stream",
     "name": "stderr",
     "text": [
      "Epoch [34/500]: 100%|██████████|124/124 [09:40<00:00] , Train Loss: 4.365438  Train Accuracy: 0.928079  Train f1_score: 0.866370\n",
      "Validation: 100%|██████████|16/16 [00:44<00:00] \n"
     ]
    },
    {
     "output_type": "stream",
     "name": "stdout",
     "text": [
      "              val_loss: 4.414316  val_accuracy: 0.885367  val_f1_score: 0.818912\n"
     ]
    },
    {
     "output_type": "stream",
     "name": "stderr",
     "text": [
      "Epoch [35/500]: 100%|██████████|124/124 [09:38<00:00] , Train Loss: 4.364310  Train Accuracy: 0.929016  Train f1_score: 0.868998\n",
      "Validation: 100%|██████████|16/16 [00:44<00:00] \n"
     ]
    },
    {
     "output_type": "stream",
     "name": "stdout",
     "text": [
      "              val_loss: 4.414059  val_accuracy: 0.883902  val_f1_score: 0.817072\n"
     ]
    },
    {
     "output_type": "stream",
     "name": "stderr",
     "text": [
      "Epoch [36/500]: 100%|██████████|124/124 [09:37<00:00] , Train Loss: 4.363203  Train Accuracy: 0.930114  Train f1_score: 0.870099\n",
      "Validation: 100%|██████████|16/16 [00:44<00:00] \n"
     ]
    },
    {
     "output_type": "stream",
     "name": "stdout",
     "text": [
      "              val_loss: 4.417411  val_accuracy: 0.879995  val_f1_score: 0.812008\n"
     ]
    },
    {
     "output_type": "stream",
     "name": "stderr",
     "text": [
      "Epoch [37/500]: 100%|██████████|124/124 [09:40<00:00] , Train Loss: 4.362938  Train Accuracy: 0.930215  Train f1_score: 0.872166\n",
      "Validation: 100%|██████████|16/16 [00:44<00:00] \n"
     ]
    },
    {
     "output_type": "stream",
     "name": "stdout",
     "text": [
      "              val_loss: 4.416650  val_accuracy: 0.879507  val_f1_score: 0.813640\n",
      "Epoch 00037: reducing learning rate of group 0 to 1.2500e-05.\n"
     ]
    },
    {
     "output_type": "stream",
     "name": "stderr",
     "text": [
      "Epoch [38/500]: 100%|██████████|124/124 [09:40<00:00] , Train Loss: 4.362018  Train Accuracy: 0.930915  Train f1_score: 0.873212\n",
      "Validation: 100%|██████████|16/16 [00:45<00:00] \n"
     ]
    },
    {
     "output_type": "stream",
     "name": "stdout",
     "text": [
      "              val_loss: 4.412660  val_accuracy: 0.885367  val_f1_score: 0.819915\n"
     ]
    },
    {
     "output_type": "stream",
     "name": "stderr",
     "text": [
      "Epoch [39/500]: 100%|██████████|124/124 [09:46<00:00] , Train Loss: 4.361810  Train Accuracy: 0.930996  Train f1_score: 0.871260\n",
      "Validation: 100%|██████████|16/16 [00:45<00:00] \n"
     ]
    },
    {
     "output_type": "stream",
     "name": "stdout",
     "text": [
      "              val_loss: 4.410675  val_accuracy: 0.887320  val_f1_score: 0.821297\n"
     ]
    },
    {
     "output_type": "stream",
     "name": "stderr",
     "text": [
      "Epoch [40/500]: 100%|██████████|124/124 [09:46<00:00] , Train Loss: 4.361338  Train Accuracy: 0.931374  Train f1_score: 0.872518\n",
      "Validation: 100%|██████████|16/16 [00:45<00:00] \n"
     ]
    },
    {
     "output_type": "stream",
     "name": "stdout",
     "text": [
      "              val_loss: 4.409857  val_accuracy: 0.886343  val_f1_score: 0.821689\n"
     ]
    },
    {
     "output_type": "stream",
     "name": "stderr",
     "text": [
      "Epoch [41/500]: 100%|██████████|124/124 [09:46<00:00] , Train Loss: 4.361188  Train Accuracy: 0.931575  Train f1_score: 0.871411\n",
      "Validation: 100%|██████████|16/16 [00:45<00:00] \n"
     ]
    },
    {
     "output_type": "stream",
     "name": "stdout",
     "text": [
      "              val_loss: 4.410610  val_accuracy: 0.886831  val_f1_score: 0.822446\n",
      "Epoch 00041: reducing learning rate of group 0 to 6.2500e-06.\n"
     ]
    },
    {
     "output_type": "stream",
     "name": "stderr",
     "text": [
      "Epoch [42/500]: 100%|██████████|124/124 [09:43<00:00] , Train Loss: 4.360539  Train Accuracy: 0.932105  Train f1_score: 0.873277\n",
      "Validation: 100%|██████████|16/16 [00:45<00:00] \n"
     ]
    },
    {
     "output_type": "stream",
     "name": "stdout",
     "text": [
      "              val_loss: 4.405820  val_accuracy: 0.889761  val_f1_score: 0.827518\n"
     ]
    },
    {
     "output_type": "stream",
     "name": "stderr",
     "text": [
      "Epoch [43/500]: 100%|██████████|124/124 [09:46<00:00] , Train Loss: 4.357706  Train Accuracy: 0.935646  Train f1_score: 0.879893\n",
      "Validation: 100%|██████████|16/16 [00:45<00:00] \n"
     ]
    },
    {
     "output_type": "stream",
     "name": "stdout",
     "text": [
      "              val_loss: 4.406380  val_accuracy: 0.890249  val_f1_score: 0.830260\n"
     ]
    },
    {
     "output_type": "stream",
     "name": "stderr",
     "text": [
      "Epoch [44/500]: 100%|██████████|124/124 [09:46<00:00] , Train Loss: 4.356804  Train Accuracy: 0.936452  Train f1_score: 0.881469\n",
      "Validation: 100%|██████████|16/16 [00:45<00:00] \n"
     ]
    },
    {
     "output_type": "stream",
     "name": "stdout",
     "text": [
      "              val_loss: 4.404229  val_accuracy: 0.897085  val_f1_score: 0.837469\n"
     ]
    },
    {
     "output_type": "stream",
     "name": "stderr",
     "text": [
      "Epoch [45/500]: 100%|██████████|124/124 [09:48<00:00] , Train Loss: 4.356504  Train Accuracy: 0.936641  Train f1_score: 0.882652\n",
      "Validation: 100%|██████████|16/16 [00:45<00:00] \n"
     ]
    },
    {
     "output_type": "stream",
     "name": "stdout",
     "text": [
      "              val_loss: 4.404179  val_accuracy: 0.891714  val_f1_score: 0.830135\n"
     ]
    },
    {
     "output_type": "stream",
     "name": "stderr",
     "text": [
      "Epoch [46/500]: 100%|██████████|124/124 [09:45<00:00] , Train Loss: 4.356296  Train Accuracy: 0.936674  Train f1_score: 0.882033\n",
      "Validation: 100%|██████████|16/16 [00:45<00:00] \n"
     ]
    },
    {
     "output_type": "stream",
     "name": "stdout",
     "text": [
      "              val_loss: 4.404626  val_accuracy: 0.892691  val_f1_score: 0.831847\n",
      "Epoch 00046: reducing learning rate of group 0 to 3.1250e-06.\n"
     ]
    },
    {
     "output_type": "stream",
     "name": "stderr",
     "text": [
      "Epoch [47/500]: 100%|██████████|124/124 [09:46<00:00] , Train Loss: 4.356083  Train Accuracy: 0.936830  Train f1_score: 0.883630\n",
      "Validation: 100%|██████████|16/16 [00:45<00:00] \n"
     ]
    },
    {
     "output_type": "stream",
     "name": "stdout",
     "text": [
      "              val_loss: 4.404199  val_accuracy: 0.893179  val_f1_score: 0.832985\n"
     ]
    },
    {
     "output_type": "stream",
     "name": "stderr",
     "text": [
      "Epoch [48/500]: 100%|██████████|124/124 [09:45<00:00] , Train Loss: 4.356003  Train Accuracy: 0.936780  Train f1_score: 0.882945\n",
      "Validation: 100%|██████████|16/16 [00:45<00:00] \n"
     ]
    },
    {
     "output_type": "stream",
     "name": "stdout",
     "text": [
      "              val_loss: 4.405287  val_accuracy: 0.894644  val_f1_score: 0.833098\n"
     ]
    },
    {
     "output_type": "stream",
     "name": "stderr",
     "text": [
      "Epoch [49/500]: 100%|██████████|124/124 [09:45<00:00] , Train Loss: 4.355933  Train Accuracy: 0.936817  Train f1_score: 0.883753\n",
      "Validation: 100%|██████████|16/16 [00:45<00:00] \n"
     ]
    },
    {
     "output_type": "stream",
     "name": "stdout",
     "text": [
      "              val_loss: 4.402907  val_accuracy: 0.895620  val_f1_score: 0.834753\n"
     ]
    },
    {
     "output_type": "stream",
     "name": "stderr",
     "text": [
      "Epoch [50/500]: 100%|██████████|124/124 [09:48<00:00] , Train Loss: 4.355847  Train Accuracy: 0.936956  Train f1_score: 0.883155\n",
      "Validation: 100%|██████████|16/16 [00:45<00:00] \n"
     ]
    },
    {
     "output_type": "stream",
     "name": "stdout",
     "text": [
      "              val_loss: 4.404411  val_accuracy: 0.892691  val_f1_score: 0.832928\n",
      "Epoch 00050: reducing learning rate of group 0 to 1.5625e-06.\n"
     ]
    },
    {
     "output_type": "stream",
     "name": "stderr",
     "text": [
      "Epoch [51/500]: 100%|██████████|124/124 [09:46<00:00] , Train Loss: 4.355773  Train Accuracy: 0.936956  Train f1_score: 0.883923\n",
      "Validation: 100%|██████████|16/16 [00:45<00:00] \n"
     ]
    },
    {
     "output_type": "stream",
     "name": "stdout",
     "text": [
      "              val_loss: 4.403815  val_accuracy: 0.893667  val_f1_score: 0.831434\n"
     ]
    },
    {
     "output_type": "stream",
     "name": "stderr",
     "text": [
      "Epoch [52/500]:  30%|██▉       |37/124 [02:57<06:54] , Train Loss: 4.356466  Train Accuracy: 0.936233  Train f1_score: 0.885361"
     ]
    }
   ],
   "source": [
    "regression = False\n",
    "step = 0\n",
    "\n",
    "for epoch in range(nb_epochs):\n",
    "    model.train()\n",
    "    train_loss_step, train_accuracy_step, train_f1_score_step = [], [], []\n",
    "\n",
    "    train_loop = tqdm(train_loader, desc=f\"Epoch [{epoch+1}/{nb_epochs}]\",\n",
    "                      position=0, leave=True,\n",
    "                      bar_format='{l_bar}{bar}|{n_fmt}/{total_fmt} [{elapsed}<{remaining}] {postfix}'\n",
    "                      )\n",
    "\n",
    "    for X_batch, y_batch in train_loop:\n",
    "        # y_batch = y_batch.to(device)\n",
    "        optimizer.zero_grad()\n",
    "\n",
    "        # H(x) 계산\n",
    "        y_pred = model(X_batch)\n",
    "\n",
    "        loss = loss_fn(y_pred, y_batch)\n",
    "        loss.backward()\n",
    "        torch.nn.utils.clip_grad_norm_(model.parameters(), max_norm) # clipping by 5\n",
    "        optimizer.step()\n",
    "\n",
    "        # step 결과\n",
    "        accuracy = multiclass_accuracy(y_pred, y_batch)\n",
    "        f1_score = multiclass_f1_score(y_pred, y_batch, num_classes=num_classes, average='macro')\n",
    "        # accuracy = sequential_accuracy(y_pred, y_batch)\n",
    "\n",
    "        train_loss_step.append(loss)\n",
    "        train_accuracy_step.append(accuracy)\n",
    "        train_f1_score_step.append(f1_score)\n",
    "\n",
    "        msg = f'Train Loss: {torch.tensor(train_loss_step).mean():.6f}  Train Accuracy: {torch.tensor(train_accuracy_step).mean():.6f}  Train f1_score: {torch.tensor(train_f1_score_step).mean():.6f}'\n",
    "\n",
    "        train_loop.set_postfix_str(msg)\n",
    "\n",
    "        step += 1\n",
    "\n",
    "\n",
    "    # Epoch의 Train 결과\n",
    "    train_loss_epoch = torch.tensor(train_loss_step).mean()\n",
    "    train_accuracy_epoch = torch.tensor(train_accuracy_step).mean()\n",
    "    train_f1_score_epoch = torch.tensor(train_f1_score_step).mean()\n",
    "\n",
    "\n",
    "    # Epoch에서의 Validation 결과\n",
    "    val_scores = validation_step_kp(model, val_loader, device, loss_fn, epoch, num_classes)\n",
    "\n",
    "\n",
    "    # Epoch마다 체크포인트 저장\n",
    "    if (epoch+1) % 5 == 0:\n",
    "        if regression:\n",
    "            val_MSE_log = round(float(val_scores.val_loss))\n",
    "            torch.save(model.state_dict(), f\"{save_path}/TL_Epoch{epoch+1}(f1_{val_MSE_log}).pt\")\n",
    "        else:\n",
    "            val_f1_log = round(float(val_scores.val_f1), 3)\n",
    "            torch.save(model.state_dict(), f\"{save_path}/Epoch{epoch+1}(f1_{val_f1_log}).pt\")\n",
    "    # 로그 남기기\n",
    "    wandb.log({\n",
    "        \"Loss/Train\" : train_loss_epoch,\n",
    "        \"Loss/Validation\" : val_scores.val_loss,\n",
    "        \"Accuracy/Train\" : train_accuracy_epoch,\n",
    "        \"Accuracy/Validation\" : val_scores.val_accuracy,\n",
    "        \"f1_score/Train\" : train_f1_score_epoch,\n",
    "        \"f1_score/Validation\" : val_scores.val_f1\n",
    "    }, step=epoch)\n",
    "\n",
    "\n",
    "    # Scheduler\n",
    "    scheduler.step(val_scores.val_loss)\n",
    "\n",
    "    # Callbacks\n",
    "    monitor_metric= val_scores.val_loss\n",
    "    ## ModelCheckpoint\n",
    "    chk.monitoring(model, monitor_metric)\n",
    "    ## EarlyStopping\n",
    "    FLAG = es.monitoring(epoch, monitor_metric)\n",
    "    if not FLAG: break"
   ]
  },
  {
   "cell_type": "code",
   "source": [],
   "metadata": {
    "id": "bMfSFSashxuS",
    "executionInfo": {
     "status": "aborted",
     "timestamp": 1697118225883,
     "user_tz": -540,
     "elapsed": 4,
     "user": {
      "displayName": "문성우",
      "userId": "15909576721158594690"
     }
    }
   },
   "execution_count": null,
   "outputs": []
  }
 ],
 "metadata": {
  "accelerator": "GPU",
  "colab": {
   "machine_shape": "hm",
   "provenance": [],
   "gpuType": "A100"
  },
  "kernelspec": {
   "name": "python3",
   "language": "python",
   "display_name": "Python 3 (ipykernel)"
  },
  "language_info": {
   "codemirror_mode": {
    "name": "ipython",
    "version": 3
   },
   "file_extension": ".py",
   "mimetype": "text/x-python",
   "name": "python",
   "nbconvert_exporter": "python",
   "pygments_lexer": "ipython3",
   "version": "3.10.11"
  },
  "widgets": {
   "application/vnd.jupyter.widget-state+json": {
    "a956cfd9c3f54a7b82777bb2962d06c9": {
     "model_module": "@jupyter-widgets/controls",
     "model_name": "VBoxModel",
     "model_module_version": "1.5.0",
     "state": {
      "_dom_classes": [],
      "_model_module": "@jupyter-widgets/controls",
      "_model_module_version": "1.5.0",
      "_model_name": "VBoxModel",
      "_view_count": null,
      "_view_module": "@jupyter-widgets/controls",
      "_view_module_version": "1.5.0",
      "_view_name": "VBoxView",
      "box_style": "",
      "children": [
       "IPY_MODEL_146593c1f0a64d46920ffb3ea0f4518f",
       "IPY_MODEL_606ba2ffad60418aa815e1b0a34abfca"
      ],
      "layout": "IPY_MODEL_8fe5995ce0b34a1694dfcc02702dc96c"
     }
    },
    "146593c1f0a64d46920ffb3ea0f4518f": {
     "model_module": "@jupyter-widgets/controls",
     "model_name": "LabelModel",
     "model_module_version": "1.5.0",
     "state": {
      "_dom_classes": [],
      "_model_module": "@jupyter-widgets/controls",
      "_model_module_version": "1.5.0",
      "_model_name": "LabelModel",
      "_view_count": null,
      "_view_module": "@jupyter-widgets/controls",
      "_view_module_version": "1.5.0",
      "_view_name": "LabelView",
      "description": "",
      "description_tooltip": null,
      "layout": "IPY_MODEL_6ce24a27cbb74fc597fc7c8822cca047",
      "placeholder": "​",
      "style": "IPY_MODEL_580aafbc43a64580bb2c7ee17289628b",
      "value": "0.002 MB of 0.012 MB uploaded (0.000 MB deduped)\r"
     }
    },
    "606ba2ffad60418aa815e1b0a34abfca": {
     "model_module": "@jupyter-widgets/controls",
     "model_name": "FloatProgressModel",
     "model_module_version": "1.5.0",
     "state": {
      "_dom_classes": [],
      "_model_module": "@jupyter-widgets/controls",
      "_model_module_version": "1.5.0",
      "_model_name": "FloatProgressModel",
      "_view_count": null,
      "_view_module": "@jupyter-widgets/controls",
      "_view_module_version": "1.5.0",
      "_view_name": "ProgressView",
      "bar_style": "",
      "description": "",
      "description_tooltip": null,
      "layout": "IPY_MODEL_14efd2ba415947f1ac0257830d226b36",
      "max": 1,
      "min": 0,
      "orientation": "horizontal",
      "style": "IPY_MODEL_ca84b6a6034b47008b83ace9cd2d6178",
      "value": 0.2103893992358345
     }
    },
    "8fe5995ce0b34a1694dfcc02702dc96c": {
     "model_module": "@jupyter-widgets/base",
     "model_name": "LayoutModel",
     "model_module_version": "1.2.0",
     "state": {
      "_model_module": "@jupyter-widgets/base",
      "_model_module_version": "1.2.0",
      "_model_name": "LayoutModel",
      "_view_count": null,
      "_view_module": "@jupyter-widgets/base",
      "_view_module_version": "1.2.0",
      "_view_name": "LayoutView",
      "align_content": null,
      "align_items": null,
      "align_self": null,
      "border": null,
      "bottom": null,
      "display": null,
      "flex": null,
      "flex_flow": null,
      "grid_area": null,
      "grid_auto_columns": null,
      "grid_auto_flow": null,
      "grid_auto_rows": null,
      "grid_column": null,
      "grid_gap": null,
      "grid_row": null,
      "grid_template_areas": null,
      "grid_template_columns": null,
      "grid_template_rows": null,
      "height": null,
      "justify_content": null,
      "justify_items": null,
      "left": null,
      "margin": null,
      "max_height": null,
      "max_width": null,
      "min_height": null,
      "min_width": null,
      "object_fit": null,
      "object_position": null,
      "order": null,
      "overflow": null,
      "overflow_x": null,
      "overflow_y": null,
      "padding": null,
      "right": null,
      "top": null,
      "visibility": null,
      "width": null
     }
    },
    "6ce24a27cbb74fc597fc7c8822cca047": {
     "model_module": "@jupyter-widgets/base",
     "model_name": "LayoutModel",
     "model_module_version": "1.2.0",
     "state": {
      "_model_module": "@jupyter-widgets/base",
      "_model_module_version": "1.2.0",
      "_model_name": "LayoutModel",
      "_view_count": null,
      "_view_module": "@jupyter-widgets/base",
      "_view_module_version": "1.2.0",
      "_view_name": "LayoutView",
      "align_content": null,
      "align_items": null,
      "align_self": null,
      "border": null,
      "bottom": null,
      "display": null,
      "flex": null,
      "flex_flow": null,
      "grid_area": null,
      "grid_auto_columns": null,
      "grid_auto_flow": null,
      "grid_auto_rows": null,
      "grid_column": null,
      "grid_gap": null,
      "grid_row": null,
      "grid_template_areas": null,
      "grid_template_columns": null,
      "grid_template_rows": null,
      "height": null,
      "justify_content": null,
      "justify_items": null,
      "left": null,
      "margin": null,
      "max_height": null,
      "max_width": null,
      "min_height": null,
      "min_width": null,
      "object_fit": null,
      "object_position": null,
      "order": null,
      "overflow": null,
      "overflow_x": null,
      "overflow_y": null,
      "padding": null,
      "right": null,
      "top": null,
      "visibility": null,
      "width": null
     }
    },
    "580aafbc43a64580bb2c7ee17289628b": {
     "model_module": "@jupyter-widgets/controls",
     "model_name": "DescriptionStyleModel",
     "model_module_version": "1.5.0",
     "state": {
      "_model_module": "@jupyter-widgets/controls",
      "_model_module_version": "1.5.0",
      "_model_name": "DescriptionStyleModel",
      "_view_count": null,
      "_view_module": "@jupyter-widgets/base",
      "_view_module_version": "1.2.0",
      "_view_name": "StyleView",
      "description_width": ""
     }
    },
    "14efd2ba415947f1ac0257830d226b36": {
     "model_module": "@jupyter-widgets/base",
     "model_name": "LayoutModel",
     "model_module_version": "1.2.0",
     "state": {
      "_model_module": "@jupyter-widgets/base",
      "_model_module_version": "1.2.0",
      "_model_name": "LayoutModel",
      "_view_count": null,
      "_view_module": "@jupyter-widgets/base",
      "_view_module_version": "1.2.0",
      "_view_name": "LayoutView",
      "align_content": null,
      "align_items": null,
      "align_self": null,
      "border": null,
      "bottom": null,
      "display": null,
      "flex": null,
      "flex_flow": null,
      "grid_area": null,
      "grid_auto_columns": null,
      "grid_auto_flow": null,
      "grid_auto_rows": null,
      "grid_column": null,
      "grid_gap": null,
      "grid_row": null,
      "grid_template_areas": null,
      "grid_template_columns": null,
      "grid_template_rows": null,
      "height": null,
      "justify_content": null,
      "justify_items": null,
      "left": null,
      "margin": null,
      "max_height": null,
      "max_width": null,
      "min_height": null,
      "min_width": null,
      "object_fit": null,
      "object_position": null,
      "order": null,
      "overflow": null,
      "overflow_x": null,
      "overflow_y": null,
      "padding": null,
      "right": null,
      "top": null,
      "visibility": null,
      "width": null
     }
    },
    "ca84b6a6034b47008b83ace9cd2d6178": {
     "model_module": "@jupyter-widgets/controls",
     "model_name": "ProgressStyleModel",
     "model_module_version": "1.5.0",
     "state": {
      "_model_module": "@jupyter-widgets/controls",
      "_model_module_version": "1.5.0",
      "_model_name": "ProgressStyleModel",
      "_view_count": null,
      "_view_module": "@jupyter-widgets/base",
      "_view_module_version": "1.2.0",
      "_view_name": "StyleView",
      "bar_color": null,
      "description_width": ""
     }
    }
   }
  }
 },
 "nbformat": 4,
 "nbformat_minor": 0
}
